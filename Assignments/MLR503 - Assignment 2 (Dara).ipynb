{
  "nbformat": 4,
  "nbformat_minor": 0,
  "metadata": {
    "colab": {
      "provenance": [],
      "collapsed_sections": [
        "-kCA7BEeO5mh",
        "MeP1tz34UmhN",
        "kQAGMmR5iWJ3",
        "9XNx0gJP0LQt"
      ]
    },
    "kernelspec": {
      "name": "python3",
      "display_name": "Python 3"
    },
    "language_info": {
      "name": "python"
    }
  },
  "cells": [
    {
      "cell_type": "markdown",
      "source": [
        "# Question 1"
      ],
      "metadata": {
        "id": "-kCA7BEeO5mh"
      }
    },
    {
      "cell_type": "markdown",
      "source": [
        "| Experience (Years)    | Salary ($1000) |\n",
        "| --------              | ------- |\n",
        "| 1.2                   | 42      |\n",
        "| 2.5                   | 46      |\n",
        "| 3.1                   | 51      |\n",
        "| 3.9                   | 58      |\n",
        "| 5.2                   | 62      |\n",
        "\n",
        "\n",
        "1. Build a model that can help you automatically predict the salary of an employee given their years of experience. Write down the equation of your model’s hypothesis.\n",
        "\n",
        "2. Use your hypothesis to predict the salary of an employee with 4.5 years of experience.\n",
        "\n",
        "3. Interpret the coefficients of your hypothesis."
      ],
      "metadata": {
        "id": "do6_fqgAO7rF"
      }
    },
    {
      "cell_type": "markdown",
      "source": [
        "--------------------------------------"
      ],
      "metadata": {
        "id": "ydlVpa53beKF"
      }
    },
    {
      "cell_type": "code",
      "execution_count": 1,
      "metadata": {
        "id": "XeEpgSx9O1En"
      },
      "outputs": [],
      "source": [
        "import numpy as np\n",
        "import pandas as pd\n",
        "from sklearn.linear_model import LinearRegression\n",
        "import matplotlib.pyplot as plt"
      ]
    },
    {
      "cell_type": "code",
      "source": [
        "experience_years = np.array([1.2, 2.5, 3.1, 3.9, 5.2])\n",
        "salary_1000 = np.array([42, 46, 51, 58, 62])"
      ],
      "metadata": {
        "id": "FJdKcMHSPIAg"
      },
      "execution_count": 2,
      "outputs": []
    },
    {
      "cell_type": "markdown",
      "source": [
        "The data is numeric and just by observation it seems that there is a proportional increase in the salary as we increase the number of years of experience, thus we will fit a linear regression model. We will plot as well to show this."
      ],
      "metadata": {
        "id": "lAySCTFwPu1R"
      }
    },
    {
      "cell_type": "code",
      "source": [
        "X = experience_years.reshape(-1, 1)\n",
        "y = salary_1000\n",
        "\n",
        "model = LinearRegression()\n",
        "model.fit(X, y)"
      ],
      "metadata": {
        "colab": {
          "base_uri": "https://localhost:8080/",
          "height": 80
        },
        "id": "dn37bJGfPUFW",
        "outputId": "ad02a0b3-dc66-47f5-dc05-1b2c33c4f788"
      },
      "execution_count": 3,
      "outputs": [
        {
          "output_type": "execute_result",
          "data": {
            "text/plain": [
              "LinearRegression()"
            ],
            "text/html": [
              "<style>#sk-container-id-1 {\n",
              "  /* Definition of color scheme common for light and dark mode */\n",
              "  --sklearn-color-text: black;\n",
              "  --sklearn-color-line: gray;\n",
              "  /* Definition of color scheme for unfitted estimators */\n",
              "  --sklearn-color-unfitted-level-0: #fff5e6;\n",
              "  --sklearn-color-unfitted-level-1: #f6e4d2;\n",
              "  --sklearn-color-unfitted-level-2: #ffe0b3;\n",
              "  --sklearn-color-unfitted-level-3: chocolate;\n",
              "  /* Definition of color scheme for fitted estimators */\n",
              "  --sklearn-color-fitted-level-0: #f0f8ff;\n",
              "  --sklearn-color-fitted-level-1: #d4ebff;\n",
              "  --sklearn-color-fitted-level-2: #b3dbfd;\n",
              "  --sklearn-color-fitted-level-3: cornflowerblue;\n",
              "\n",
              "  /* Specific color for light theme */\n",
              "  --sklearn-color-text-on-default-background: var(--sg-text-color, var(--theme-code-foreground, var(--jp-content-font-color1, black)));\n",
              "  --sklearn-color-background: var(--sg-background-color, var(--theme-background, var(--jp-layout-color0, white)));\n",
              "  --sklearn-color-border-box: var(--sg-text-color, var(--theme-code-foreground, var(--jp-content-font-color1, black)));\n",
              "  --sklearn-color-icon: #696969;\n",
              "\n",
              "  @media (prefers-color-scheme: dark) {\n",
              "    /* Redefinition of color scheme for dark theme */\n",
              "    --sklearn-color-text-on-default-background: var(--sg-text-color, var(--theme-code-foreground, var(--jp-content-font-color1, white)));\n",
              "    --sklearn-color-background: var(--sg-background-color, var(--theme-background, var(--jp-layout-color0, #111)));\n",
              "    --sklearn-color-border-box: var(--sg-text-color, var(--theme-code-foreground, var(--jp-content-font-color1, white)));\n",
              "    --sklearn-color-icon: #878787;\n",
              "  }\n",
              "}\n",
              "\n",
              "#sk-container-id-1 {\n",
              "  color: var(--sklearn-color-text);\n",
              "}\n",
              "\n",
              "#sk-container-id-1 pre {\n",
              "  padding: 0;\n",
              "}\n",
              "\n",
              "#sk-container-id-1 input.sk-hidden--visually {\n",
              "  border: 0;\n",
              "  clip: rect(1px 1px 1px 1px);\n",
              "  clip: rect(1px, 1px, 1px, 1px);\n",
              "  height: 1px;\n",
              "  margin: -1px;\n",
              "  overflow: hidden;\n",
              "  padding: 0;\n",
              "  position: absolute;\n",
              "  width: 1px;\n",
              "}\n",
              "\n",
              "#sk-container-id-1 div.sk-dashed-wrapped {\n",
              "  border: 1px dashed var(--sklearn-color-line);\n",
              "  margin: 0 0.4em 0.5em 0.4em;\n",
              "  box-sizing: border-box;\n",
              "  padding-bottom: 0.4em;\n",
              "  background-color: var(--sklearn-color-background);\n",
              "}\n",
              "\n",
              "#sk-container-id-1 div.sk-container {\n",
              "  /* jupyter's `normalize.less` sets `[hidden] { display: none; }`\n",
              "     but bootstrap.min.css set `[hidden] { display: none !important; }`\n",
              "     so we also need the `!important` here to be able to override the\n",
              "     default hidden behavior on the sphinx rendered scikit-learn.org.\n",
              "     See: https://github.com/scikit-learn/scikit-learn/issues/21755 */\n",
              "  display: inline-block !important;\n",
              "  position: relative;\n",
              "}\n",
              "\n",
              "#sk-container-id-1 div.sk-text-repr-fallback {\n",
              "  display: none;\n",
              "}\n",
              "\n",
              "div.sk-parallel-item,\n",
              "div.sk-serial,\n",
              "div.sk-item {\n",
              "  /* draw centered vertical line to link estimators */\n",
              "  background-image: linear-gradient(var(--sklearn-color-text-on-default-background), var(--sklearn-color-text-on-default-background));\n",
              "  background-size: 2px 100%;\n",
              "  background-repeat: no-repeat;\n",
              "  background-position: center center;\n",
              "}\n",
              "\n",
              "/* Parallel-specific style estimator block */\n",
              "\n",
              "#sk-container-id-1 div.sk-parallel-item::after {\n",
              "  content: \"\";\n",
              "  width: 100%;\n",
              "  border-bottom: 2px solid var(--sklearn-color-text-on-default-background);\n",
              "  flex-grow: 1;\n",
              "}\n",
              "\n",
              "#sk-container-id-1 div.sk-parallel {\n",
              "  display: flex;\n",
              "  align-items: stretch;\n",
              "  justify-content: center;\n",
              "  background-color: var(--sklearn-color-background);\n",
              "  position: relative;\n",
              "}\n",
              "\n",
              "#sk-container-id-1 div.sk-parallel-item {\n",
              "  display: flex;\n",
              "  flex-direction: column;\n",
              "}\n",
              "\n",
              "#sk-container-id-1 div.sk-parallel-item:first-child::after {\n",
              "  align-self: flex-end;\n",
              "  width: 50%;\n",
              "}\n",
              "\n",
              "#sk-container-id-1 div.sk-parallel-item:last-child::after {\n",
              "  align-self: flex-start;\n",
              "  width: 50%;\n",
              "}\n",
              "\n",
              "#sk-container-id-1 div.sk-parallel-item:only-child::after {\n",
              "  width: 0;\n",
              "}\n",
              "\n",
              "/* Serial-specific style estimator block */\n",
              "\n",
              "#sk-container-id-1 div.sk-serial {\n",
              "  display: flex;\n",
              "  flex-direction: column;\n",
              "  align-items: center;\n",
              "  background-color: var(--sklearn-color-background);\n",
              "  padding-right: 1em;\n",
              "  padding-left: 1em;\n",
              "}\n",
              "\n",
              "\n",
              "/* Toggleable style: style used for estimator/Pipeline/ColumnTransformer box that is\n",
              "clickable and can be expanded/collapsed.\n",
              "- Pipeline and ColumnTransformer use this feature and define the default style\n",
              "- Estimators will overwrite some part of the style using the `sk-estimator` class\n",
              "*/\n",
              "\n",
              "/* Pipeline and ColumnTransformer style (default) */\n",
              "\n",
              "#sk-container-id-1 div.sk-toggleable {\n",
              "  /* Default theme specific background. It is overwritten whether we have a\n",
              "  specific estimator or a Pipeline/ColumnTransformer */\n",
              "  background-color: var(--sklearn-color-background);\n",
              "}\n",
              "\n",
              "/* Toggleable label */\n",
              "#sk-container-id-1 label.sk-toggleable__label {\n",
              "  cursor: pointer;\n",
              "  display: block;\n",
              "  width: 100%;\n",
              "  margin-bottom: 0;\n",
              "  padding: 0.5em;\n",
              "  box-sizing: border-box;\n",
              "  text-align: center;\n",
              "}\n",
              "\n",
              "#sk-container-id-1 label.sk-toggleable__label-arrow:before {\n",
              "  /* Arrow on the left of the label */\n",
              "  content: \"▸\";\n",
              "  float: left;\n",
              "  margin-right: 0.25em;\n",
              "  color: var(--sklearn-color-icon);\n",
              "}\n",
              "\n",
              "#sk-container-id-1 label.sk-toggleable__label-arrow:hover:before {\n",
              "  color: var(--sklearn-color-text);\n",
              "}\n",
              "\n",
              "/* Toggleable content - dropdown */\n",
              "\n",
              "#sk-container-id-1 div.sk-toggleable__content {\n",
              "  max-height: 0;\n",
              "  max-width: 0;\n",
              "  overflow: hidden;\n",
              "  text-align: left;\n",
              "  /* unfitted */\n",
              "  background-color: var(--sklearn-color-unfitted-level-0);\n",
              "}\n",
              "\n",
              "#sk-container-id-1 div.sk-toggleable__content.fitted {\n",
              "  /* fitted */\n",
              "  background-color: var(--sklearn-color-fitted-level-0);\n",
              "}\n",
              "\n",
              "#sk-container-id-1 div.sk-toggleable__content pre {\n",
              "  margin: 0.2em;\n",
              "  border-radius: 0.25em;\n",
              "  color: var(--sklearn-color-text);\n",
              "  /* unfitted */\n",
              "  background-color: var(--sklearn-color-unfitted-level-0);\n",
              "}\n",
              "\n",
              "#sk-container-id-1 div.sk-toggleable__content.fitted pre {\n",
              "  /* unfitted */\n",
              "  background-color: var(--sklearn-color-fitted-level-0);\n",
              "}\n",
              "\n",
              "#sk-container-id-1 input.sk-toggleable__control:checked~div.sk-toggleable__content {\n",
              "  /* Expand drop-down */\n",
              "  max-height: 200px;\n",
              "  max-width: 100%;\n",
              "  overflow: auto;\n",
              "}\n",
              "\n",
              "#sk-container-id-1 input.sk-toggleable__control:checked~label.sk-toggleable__label-arrow:before {\n",
              "  content: \"▾\";\n",
              "}\n",
              "\n",
              "/* Pipeline/ColumnTransformer-specific style */\n",
              "\n",
              "#sk-container-id-1 div.sk-label input.sk-toggleable__control:checked~label.sk-toggleable__label {\n",
              "  color: var(--sklearn-color-text);\n",
              "  background-color: var(--sklearn-color-unfitted-level-2);\n",
              "}\n",
              "\n",
              "#sk-container-id-1 div.sk-label.fitted input.sk-toggleable__control:checked~label.sk-toggleable__label {\n",
              "  background-color: var(--sklearn-color-fitted-level-2);\n",
              "}\n",
              "\n",
              "/* Estimator-specific style */\n",
              "\n",
              "/* Colorize estimator box */\n",
              "#sk-container-id-1 div.sk-estimator input.sk-toggleable__control:checked~label.sk-toggleable__label {\n",
              "  /* unfitted */\n",
              "  background-color: var(--sklearn-color-unfitted-level-2);\n",
              "}\n",
              "\n",
              "#sk-container-id-1 div.sk-estimator.fitted input.sk-toggleable__control:checked~label.sk-toggleable__label {\n",
              "  /* fitted */\n",
              "  background-color: var(--sklearn-color-fitted-level-2);\n",
              "}\n",
              "\n",
              "#sk-container-id-1 div.sk-label label.sk-toggleable__label,\n",
              "#sk-container-id-1 div.sk-label label {\n",
              "  /* The background is the default theme color */\n",
              "  color: var(--sklearn-color-text-on-default-background);\n",
              "}\n",
              "\n",
              "/* On hover, darken the color of the background */\n",
              "#sk-container-id-1 div.sk-label:hover label.sk-toggleable__label {\n",
              "  color: var(--sklearn-color-text);\n",
              "  background-color: var(--sklearn-color-unfitted-level-2);\n",
              "}\n",
              "\n",
              "/* Label box, darken color on hover, fitted */\n",
              "#sk-container-id-1 div.sk-label.fitted:hover label.sk-toggleable__label.fitted {\n",
              "  color: var(--sklearn-color-text);\n",
              "  background-color: var(--sklearn-color-fitted-level-2);\n",
              "}\n",
              "\n",
              "/* Estimator label */\n",
              "\n",
              "#sk-container-id-1 div.sk-label label {\n",
              "  font-family: monospace;\n",
              "  font-weight: bold;\n",
              "  display: inline-block;\n",
              "  line-height: 1.2em;\n",
              "}\n",
              "\n",
              "#sk-container-id-1 div.sk-label-container {\n",
              "  text-align: center;\n",
              "}\n",
              "\n",
              "/* Estimator-specific */\n",
              "#sk-container-id-1 div.sk-estimator {\n",
              "  font-family: monospace;\n",
              "  border: 1px dotted var(--sklearn-color-border-box);\n",
              "  border-radius: 0.25em;\n",
              "  box-sizing: border-box;\n",
              "  margin-bottom: 0.5em;\n",
              "  /* unfitted */\n",
              "  background-color: var(--sklearn-color-unfitted-level-0);\n",
              "}\n",
              "\n",
              "#sk-container-id-1 div.sk-estimator.fitted {\n",
              "  /* fitted */\n",
              "  background-color: var(--sklearn-color-fitted-level-0);\n",
              "}\n",
              "\n",
              "/* on hover */\n",
              "#sk-container-id-1 div.sk-estimator:hover {\n",
              "  /* unfitted */\n",
              "  background-color: var(--sklearn-color-unfitted-level-2);\n",
              "}\n",
              "\n",
              "#sk-container-id-1 div.sk-estimator.fitted:hover {\n",
              "  /* fitted */\n",
              "  background-color: var(--sklearn-color-fitted-level-2);\n",
              "}\n",
              "\n",
              "/* Specification for estimator info (e.g. \"i\" and \"?\") */\n",
              "\n",
              "/* Common style for \"i\" and \"?\" */\n",
              "\n",
              ".sk-estimator-doc-link,\n",
              "a:link.sk-estimator-doc-link,\n",
              "a:visited.sk-estimator-doc-link {\n",
              "  float: right;\n",
              "  font-size: smaller;\n",
              "  line-height: 1em;\n",
              "  font-family: monospace;\n",
              "  background-color: var(--sklearn-color-background);\n",
              "  border-radius: 1em;\n",
              "  height: 1em;\n",
              "  width: 1em;\n",
              "  text-decoration: none !important;\n",
              "  margin-left: 1ex;\n",
              "  /* unfitted */\n",
              "  border: var(--sklearn-color-unfitted-level-1) 1pt solid;\n",
              "  color: var(--sklearn-color-unfitted-level-1);\n",
              "}\n",
              "\n",
              ".sk-estimator-doc-link.fitted,\n",
              "a:link.sk-estimator-doc-link.fitted,\n",
              "a:visited.sk-estimator-doc-link.fitted {\n",
              "  /* fitted */\n",
              "  border: var(--sklearn-color-fitted-level-1) 1pt solid;\n",
              "  color: var(--sklearn-color-fitted-level-1);\n",
              "}\n",
              "\n",
              "/* On hover */\n",
              "div.sk-estimator:hover .sk-estimator-doc-link:hover,\n",
              ".sk-estimator-doc-link:hover,\n",
              "div.sk-label-container:hover .sk-estimator-doc-link:hover,\n",
              ".sk-estimator-doc-link:hover {\n",
              "  /* unfitted */\n",
              "  background-color: var(--sklearn-color-unfitted-level-3);\n",
              "  color: var(--sklearn-color-background);\n",
              "  text-decoration: none;\n",
              "}\n",
              "\n",
              "div.sk-estimator.fitted:hover .sk-estimator-doc-link.fitted:hover,\n",
              ".sk-estimator-doc-link.fitted:hover,\n",
              "div.sk-label-container:hover .sk-estimator-doc-link.fitted:hover,\n",
              ".sk-estimator-doc-link.fitted:hover {\n",
              "  /* fitted */\n",
              "  background-color: var(--sklearn-color-fitted-level-3);\n",
              "  color: var(--sklearn-color-background);\n",
              "  text-decoration: none;\n",
              "}\n",
              "\n",
              "/* Span, style for the box shown on hovering the info icon */\n",
              ".sk-estimator-doc-link span {\n",
              "  display: none;\n",
              "  z-index: 9999;\n",
              "  position: relative;\n",
              "  font-weight: normal;\n",
              "  right: .2ex;\n",
              "  padding: .5ex;\n",
              "  margin: .5ex;\n",
              "  width: min-content;\n",
              "  min-width: 20ex;\n",
              "  max-width: 50ex;\n",
              "  color: var(--sklearn-color-text);\n",
              "  box-shadow: 2pt 2pt 4pt #999;\n",
              "  /* unfitted */\n",
              "  background: var(--sklearn-color-unfitted-level-0);\n",
              "  border: .5pt solid var(--sklearn-color-unfitted-level-3);\n",
              "}\n",
              "\n",
              ".sk-estimator-doc-link.fitted span {\n",
              "  /* fitted */\n",
              "  background: var(--sklearn-color-fitted-level-0);\n",
              "  border: var(--sklearn-color-fitted-level-3);\n",
              "}\n",
              "\n",
              ".sk-estimator-doc-link:hover span {\n",
              "  display: block;\n",
              "}\n",
              "\n",
              "/* \"?\"-specific style due to the `<a>` HTML tag */\n",
              "\n",
              "#sk-container-id-1 a.estimator_doc_link {\n",
              "  float: right;\n",
              "  font-size: 1rem;\n",
              "  line-height: 1em;\n",
              "  font-family: monospace;\n",
              "  background-color: var(--sklearn-color-background);\n",
              "  border-radius: 1rem;\n",
              "  height: 1rem;\n",
              "  width: 1rem;\n",
              "  text-decoration: none;\n",
              "  /* unfitted */\n",
              "  color: var(--sklearn-color-unfitted-level-1);\n",
              "  border: var(--sklearn-color-unfitted-level-1) 1pt solid;\n",
              "}\n",
              "\n",
              "#sk-container-id-1 a.estimator_doc_link.fitted {\n",
              "  /* fitted */\n",
              "  border: var(--sklearn-color-fitted-level-1) 1pt solid;\n",
              "  color: var(--sklearn-color-fitted-level-1);\n",
              "}\n",
              "\n",
              "/* On hover */\n",
              "#sk-container-id-1 a.estimator_doc_link:hover {\n",
              "  /* unfitted */\n",
              "  background-color: var(--sklearn-color-unfitted-level-3);\n",
              "  color: var(--sklearn-color-background);\n",
              "  text-decoration: none;\n",
              "}\n",
              "\n",
              "#sk-container-id-1 a.estimator_doc_link.fitted:hover {\n",
              "  /* fitted */\n",
              "  background-color: var(--sklearn-color-fitted-level-3);\n",
              "}\n",
              "</style><div id=\"sk-container-id-1\" class=\"sk-top-container\"><div class=\"sk-text-repr-fallback\"><pre>LinearRegression()</pre><b>In a Jupyter environment, please rerun this cell to show the HTML representation or trust the notebook. <br />On GitHub, the HTML representation is unable to render, please try loading this page with nbviewer.org.</b></div><div class=\"sk-container\" hidden><div class=\"sk-item\"><div class=\"sk-estimator fitted sk-toggleable\"><input class=\"sk-toggleable__control sk-hidden--visually\" id=\"sk-estimator-id-1\" type=\"checkbox\" checked><label for=\"sk-estimator-id-1\" class=\"sk-toggleable__label fitted sk-toggleable__label-arrow fitted\">&nbsp;&nbsp;LinearRegression<a class=\"sk-estimator-doc-link fitted\" rel=\"noreferrer\" target=\"_blank\" href=\"https://scikit-learn.org/1.5/modules/generated/sklearn.linear_model.LinearRegression.html\">?<span>Documentation for LinearRegression</span></a><span class=\"sk-estimator-doc-link fitted\">i<span>Fitted</span></span></label><div class=\"sk-toggleable__content fitted\"><pre>LinearRegression()</pre></div> </div></div></div></div>"
            ]
          },
          "metadata": {},
          "execution_count": 3
        }
      ]
    },
    {
      "cell_type": "markdown",
      "source": [
        "We take $X$ as the experience in years, with $f(X)$ being the salary in $1000. Thus we will have the following prediction / hypothesis equation:\n",
        "\n",
        "$f(X) = \\beta_0 + \\beta_1 X$"
      ],
      "metadata": {
        "id": "v1jOZhgPQYpL"
      }
    },
    {
      "cell_type": "code",
      "source": [
        "print(f'B_0 = {model.intercept_}')\n",
        "print(f'B_1 = {model.coef_[0]}')"
      ],
      "metadata": {
        "colab": {
          "base_uri": "https://localhost:8080/"
        },
        "id": "h6gVM-8XPiDC",
        "outputId": "1710fd7d-97c7-4cc3-a3a2-70d57b2d786a"
      },
      "execution_count": 4,
      "outputs": [
        {
          "output_type": "stream",
          "name": "stdout",
          "text": [
            "B_0 = 34.6475300400534\n",
            "B_1 = 5.393858477970628\n"
          ]
        }
      ]
    },
    {
      "cell_type": "markdown",
      "source": [
        "In this case, our $\\beta_0$ is the Y-intercept, whilst our $\\beta_1$ is the coefficient of $X$ (in other words, the coefficeint of the experience in years).\n",
        "\n",
        "Thus the equation would be:\n",
        "\n",
        "$f(X) = 34.64753 + 5.3939X$\n",
        "\n",
        "Interpretation of coefficients:\n",
        "- An employee with 0 years of experience is expected to earn a salary of $34.64753 \\times 1000 $ USD.\n",
        "- For every 1-year increase in experience, your salary is expected to go up by $5.3939 \\times 1000$ USD."
      ],
      "metadata": {
        "id": "vFNRpWVRQy8I"
      }
    },
    {
      "cell_type": "code",
      "source": [
        "y_pred = model.predict(X)\n",
        "\n",
        "plt.figure(figsize=(10, 5))\n",
        "plt.scatter(X, y, color = 'red', label=\"Salary\")\n",
        "plt.plot(X, y_pred, color='purple', label=\"Prediction\")\n",
        "\n",
        "plt.xlabel(\"Experience (Years)\")\n",
        "plt.ylabel(\"Salary ($1000)\")\n",
        "\n",
        "plt.legend()\n",
        "plt.show()"
      ],
      "metadata": {
        "colab": {
          "base_uri": "https://localhost:8080/",
          "height": 465
        },
        "id": "YmUuAEe4QKbz",
        "outputId": "6f045fed-81ce-4ed2-93fc-dd82d30b1d1b"
      },
      "execution_count": 5,
      "outputs": [
        {
          "output_type": "display_data",
          "data": {
            "text/plain": [
              "<Figure size 1000x500 with 1 Axes>"
            ],
            "image/png": "[encoded data removed]"
          },
          "metadata": {}
        }
      ]
    },
    {
      "cell_type": "markdown",
      "source": [
        "We can use this model to predict salary at 4.5 years of experience. This would be a simple interpolation."
      ],
      "metadata": {
        "id": "kgGMqAITRENb"
      }
    },
    {
      "cell_type": "code",
      "source": [
        "print(f\"Expected salary after 4.5 years of experience = ${model.predict(np.array([[4.5]]))} thousand.\")"
      ],
      "metadata": {
        "colab": {
          "base_uri": "https://localhost:8080/"
        },
        "id": "1-cfX1z1Pnxb",
        "outputId": "4306e997-9c96-4e34-fccf-6381625406ea"
      },
      "execution_count": 6,
      "outputs": [
        {
          "output_type": "stream",
          "name": "stdout",
          "text": [
            "Expected salary after 4.5 years of experience = $[58.91989319] thousand.\n"
          ]
        }
      ]
    },
    {
      "cell_type": "markdown",
      "source": [
        "Interpretation: With 4.5 years of experience, an individual is expected to have a salary of around $58,920."
      ],
      "metadata": {
        "id": "e-Ynqg_JRbIG"
      }
    },
    {
      "cell_type": "markdown",
      "source": [
        "# Question 2"
      ],
      "metadata": {
        "id": "MeP1tz34UmhN"
      }
    },
    {
      "cell_type": "markdown",
      "source": [
        "| House Number | Size (Sq. Ft.) | # of Bedrooms | Price ($1000) |\n",
        "| --------     | --------       | --------      | --------     |\n",
        "| House 1      | 900            | 1             | 200          |\n",
        "| House 2      | 1600           | 3             | 330          |\n",
        "| House 3      | 1875           | 4             | 400          |\n",
        "\n",
        "You want to build a model to automatically predict the price of a house given its size (in sq. ft.) and number of bedrooms. You decide to build your model analytically.\n",
        "\n",
        "1. Define your matrix $X$ and your vector $y$.\n",
        "\n",
        "2. Solve the normal equation and write the equation of the resulting hypothesis.  \n",
        "\n",
        "3. Predict the price of a house that is 1500 sq. ft. and has 3 bedrooms.\n",
        "\n",
        "4. Interpret the coefficients of your hypothesis."
      ],
      "metadata": {
        "id": "LiVMsXfbUrRA"
      }
    },
    {
      "cell_type": "markdown",
      "source": [
        "--------------------------------------"
      ],
      "metadata": {
        "id": "npgDs1eSbceq"
      }
    },
    {
      "cell_type": "markdown",
      "source": [
        "Let $m$ be the number of features and $n$ be the number of samples we have in total. Then, we define $X \\in \\mathbb{R}^{n\\times m}$ as the feature matrix, and $y \\in \\mathbb{R}^n$ where $y$ as the target vector."
      ],
      "metadata": {
        "id": "7QeqfLIBZG9n"
      }
    },
    {
      "cell_type": "markdown",
      "source": [
        "For some weight $w \\in \\mathbb{R}^m$, we define the hypothesis as follows:\n",
        "\n",
        "$h_w(X) = w^TX$\n",
        "\n",
        "The cost function would thus be the squared difference between our hypothesis $h_w(X)$ and the true value, $y$.\n",
        "\n",
        "Cost $ = (h_w(X) - y)^2$\n",
        "\n",
        "Our loss function, $J(w)$, would then calculate the MSE.\n",
        "\n",
        "$J(w) = \\frac{1}{2n} \\sum_{i=1}^{n} (h_w(X_i) - y_i)^2$\n",
        "\n",
        "For all $i \\in 1,...,n$.\n",
        "\n",
        "We want to take the partial derivative of $J$ such that we obtain the optimal value of $w$, which occurs when $\\frac{\\partial}{\\partial w} J(w) = 0$. This is where $J(w)$ is at a (local) minimum."
      ],
      "metadata": {
        "id": "XBDPeQMoZqk7"
      }
    },
    {
      "cell_type": "markdown",
      "source": [
        "Our $w$ can be obtained by doing the following calculation:\n",
        "\n",
        "$ w = (X^T X)^{-1} X^T y $"
      ],
      "metadata": {
        "id": "f32ycWlBbNhC"
      }
    },
    {
      "cell_type": "markdown",
      "source": [
        "Let us check the dimensions:\n",
        "\n",
        "$X \\in \\mathbb{R}^{3\\times2}$\n",
        "\n",
        "$X^T \\in \\mathbb{R}^{2\\times3}$\n",
        "\n",
        "$ X^T X \\in \\mathbb{R}^{2\\times2}$\n",
        "\n",
        "$ (X^T X)^{-1} \\in \\mathbb{R}^{2\\times2}$\n",
        "\n",
        "$(X^T X)^{-1} X^T \\in \\mathbb{R}^{2\\times3}$\n",
        "\n",
        "$(X^T X)^{-1} X^T y \\in \\mathbb{R}^{2\\times1}$\n",
        "\n",
        "Thus, our $w$ vector would be of size $2\\times1$. However, this does not account for an intercept term in the linear regression model. Without this, the model would be forced to pass through the origin and would therefore have less flexibility. For this reason, our $X$ is actually $\\in \\mathbb{R}^{3\\times3}$ and thus our $w \\in \\mathbb{R}^{3}$."
      ],
      "metadata": {
        "id": "zDVN6e4HeJtD"
      }
    },
    {
      "cell_type": "markdown",
      "source": [
        "Our model hypothesis would look as follows:\n",
        "\n",
        "$h_w(X) = w_0 + w_1X_1 + w_2X_2$\n",
        "\n",
        "Where $X_1$ is the size in square feet and $X_2$ is the number of bedrooms. $w_0$ is the y-intercept, with $w_1$ and $w_2$ being the coefficients of each of the size and num. bedrooms respectively."
      ],
      "metadata": {
        "id": "-ZRsoLy-dSWX"
      }
    },
    {
      "cell_type": "code",
      "source": [
        "X = np.array(\n",
        "    [\n",
        "        [1, 900, 1],\n",
        "        [1, 1600, 3],\n",
        "        [1, 1875, 4]\n",
        "    ]\n",
        ")\n",
        "\n",
        "y = np.array(\n",
        "      [200, 330, 400]\n",
        ")"
      ],
      "metadata": {
        "id": "4UxaoYOhRZm_"
      },
      "execution_count": 7,
      "outputs": []
    },
    {
      "cell_type": "code",
      "source": [
        "w = np.linalg.inv(X.T @ X) @ X.T @ y"
      ],
      "metadata": {
        "id": "FmyaYM4lbxm0"
      },
      "execution_count": 8,
      "outputs": []
    },
    {
      "cell_type": "code",
      "source": [
        "print(w)"
      ],
      "metadata": {
        "colab": {
          "base_uri": "https://localhost:8080/"
        },
        "id": "RovYyzl1ce3M",
        "outputId": "d56d3245-9bbd-4411-ab94-098aa4c77654"
      },
      "execution_count": 9,
      "outputs": [
        {
          "output_type": "stream",
          "name": "stdout",
          "text": [
            "[ 1.71666667e+02 -6.66666667e-02  8.83333333e+01]\n"
          ]
        }
      ]
    },
    {
      "cell_type": "markdown",
      "source": [
        "Thus, our $w_i$ values would be as follows:\n",
        "\n",
        "$w_0 = 171.67$\n",
        "\n",
        "$w_1 = -0.0667$\n",
        "\n",
        "$w_2 = 88.33$\n",
        "\n",
        "Interpretation:\n",
        "- $w_0$ implies that the base price of any house is 171,670 USD.\n",
        "- $w_1$ implies that for every unit increase in the square footage of the house, the price actually drops by around 67 USD. This is, however, relatively insignificant as it is an extremely small value. It has probably been calculated as such based on the low number of samples.\n",
        "- $w_2$ implies that for every unit increase in the number of bedrooms, the price of the house increases by 88,300 USD."
      ],
      "metadata": {
        "id": "_yNRiNKDgnvM"
      }
    },
    {
      "cell_type": "markdown",
      "source": [
        "The full hypothesis equation would thus be:\n",
        "\n",
        "$h_w(X) = 171.67 - 0.0667X_1 + 88.33X_2$\n",
        "\n",
        "We can plug in the values to get the price of a house that is 1500 sq. ft. and has three bedrooms:"
      ],
      "metadata": {
        "id": "dkpcpJ-Hhph6"
      }
    },
    {
      "cell_type": "code",
      "source": [
        "w_0 = w[0]\n",
        "w_1 = w[1]\n",
        "w_2 = w[2]\n",
        "\n",
        "pred = w_0 + w_1*1500 + w_2*3\n",
        "print(pred)"
      ],
      "metadata": {
        "colab": {
          "base_uri": "https://localhost:8080/"
        },
        "id": "MC4w8PKYcfYB",
        "outputId": "a61a6cce-a7cc-48fa-d491-de5005f9d6ee"
      },
      "execution_count": 10,
      "outputs": [
        {
          "output_type": "stream",
          "name": "stdout",
          "text": [
            "336.6666666666782\n"
          ]
        }
      ]
    },
    {
      "cell_type": "markdown",
      "source": [
        "The price of a house with three bedrooms and 1,500 sq. footage is 336,670 USD based on the linear regressor."
      ],
      "metadata": {
        "id": "ERwubwHziKpo"
      }
    },
    {
      "cell_type": "markdown",
      "source": [
        "# Question 3"
      ],
      "metadata": {
        "id": "kQAGMmR5iWJ3"
      }
    },
    {
      "cell_type": "markdown",
      "source": [
        "| Individual Number | Income ($1000s) | Age (Years) | Approved (0 or 1) |\n",
        "| --------          | --------        | --------    | --------          |\n",
        "| 1                 | 45              | 25          | 0          |\n",
        "| 2                 | 60              | 35          | 1          |\n",
        "| 3                 | 75              | 40          | 1          |\n",
        "| 4                 | 50              | 28          | 0          |\n",
        "| 5                 | 90              | 50          | 1          |\n",
        "| 6                 | 100             | 60          | 1          |\n",
        "\n",
        "You want to build a model to predict whether a new applicant will be approved for a credit card given their income and age.\n",
        "\n",
        "1. Define a suitable cost function that you will target to optimize for this problem.\n",
        "\n",
        "2. How many coefficients will you need to optimize in this case?\n",
        "\n",
        "3. Using the cost function you defined in part (a), derive the update rule for each coefficient that needs to be optimized. Show your work by deriving the expression for the derivative of the cost function with respect to each coefficient.\n",
        "\n",
        "4. Assuming an initial value of 1 for the first coefficient, 2 for the second coefficient, 3 for the third coefficient, 4 for the fourth coefficient, and so on, run one iteration of gradient descent using a learning rate of 0.01.\n",
        "\n",
        "5. Calculate the model accuracy using the updated coefficients.\n",
        "\n",
        "------------------------------------------------"
      ],
      "metadata": {
        "id": "AJTndN4DiY5x"
      }
    },
    {
      "cell_type": "markdown",
      "source": [
        "Binary classification $\\rightarrow$ logistic regression. Straight forward.\n",
        "\n",
        "We define $w \\in \\mathbb{R}^m$ as the weight vector, with $m$ being the number of features, and $X \\in \\mathbb{R}^{m\\times n}$ as the feature matrix. Our hypothesis is defined as follows:\n",
        "\n",
        "$ h_w(x) = \\sigma(w^T x) = \\frac{1}{1 + e^{-w^T x}} $"
      ],
      "metadata": {
        "id": "wI-vkQEridH1"
      }
    },
    {
      "cell_type": "markdown",
      "source": [
        "Our cost function would thus be the following:\n",
        "\n",
        "$ \\text{Cost}(h_w(x), y) = \\begin{cases} -\\text{log}(h_w(x)) &\\text{if }y = 1 \\\\ -\\text{log}(1-h_w(x)) &\\text{if }y = 0 \\end{cases} $\n",
        "\n",
        "\n",
        "Thus, as a single equation:\n",
        "\n",
        "$ \\text{Cost}(h_w(x), y) = [-y \\text{log}(h_w(x))] - [(1-y) \\text{log}(1 - h_w(x))]$\n",
        "\n",
        "Our loss function would follow as such:\n",
        "\n",
        "$ J(w) = -\\frac{1}{n} \\sum_{i=1}^{n} [y_i \\text{log}(h_w(x_i))] + [(1-y_i) \\text{log}(1 - h_w(x_i))] $\n",
        "\n",
        "For all $i$ corresponding to the number of samples that we are working with."
      ],
      "metadata": {
        "id": "C3rxZ8ojjmSI"
      }
    },
    {
      "cell_type": "markdown",
      "source": [
        "Since we have two input features (the income and the age), we will have 3 coefficients that we must optimize (corresponding to the income coefficient, age coefficient, and the y-intercept)."
      ],
      "metadata": {
        "id": "57GOzvlnk6Lg"
      }
    },
    {
      "cell_type": "markdown",
      "source": [
        "The update rule for the coefficients:\n",
        "\n",
        "We take $J(w)$ as above: $ J(w) = -\\frac{1}{n} \\sum_{i=1}^{n} [y_i \\text{log}(h_w(x_i))] + [(1-y_i) \\text{log}(1 - h_w(x_i))] $\n",
        "\n",
        "For $m$ samples, we will have $m$ updates to the weight vector $w$. The update rule for the weights is as follows:\n",
        "\n",
        "$ w_j := w_j - \\alpha \\frac{\\partial}{\\partial w_j} J(w) $\n",
        "\n",
        "For $j \\in 1, ..., m$.\n"
      ],
      "metadata": {
        "id": "b2PwV_x4lHyH"
      }
    },
    {
      "cell_type": "markdown",
      "source": [
        "We thus have to calculate $ \\frac{\\partial}{\\partial w_j} J(w) $. God help us."
      ],
      "metadata": {
        "id": "3cTMno9GlwDc"
      }
    },
    {
      "cell_type": "markdown",
      "source": [
        "\n",
        "$ \\frac{\\partial}{\\partial w_j} J(w) = -\\frac{1}{n} \\sum_{i=1}^{n} [y_i \\cdot{\\frac{\\partial}{\\partial w_j} \\text{log}(\\sigma(w^T x_i))}] + [(1-y_i) \\cdot {\\frac{\\partial}{\\partial w_j} \\text{log}(1 - \\sigma(w^T x_i))}] $"
      ],
      "metadata": {
        "id": "GoFwyRvjpWut"
      }
    },
    {
      "cell_type": "markdown",
      "source": [
        "First, the deriviative of the sigmoid function is as follows:\n",
        "\n",
        "$ \\sigma'(z) = \\sigma(z) (1 - \\sigma(z)) \\cdot z' $\n",
        "\n",
        "$ \\implies \\frac{\\partial}{\\partial w_j} \\sigma(w^T x) = \\sigma(w^T x) (1 - \\sigma(w^T x)) \\cdot \\frac{\\partial (w^T x)}{\\partial w_j} $\n",
        "$ \\implies \\frac{\\partial}{\\partial w_j} \\sigma(w^T x) = \\sigma(w^T x) (1 - \\sigma(w^T x)) \\cdot x_j $"
      ],
      "metadata": {
        "id": "Exxii5cnqTKo"
      }
    },
    {
      "cell_type": "markdown",
      "source": [
        "We have $ \\frac{\\partial}{\\partial w_j} \\text{log}(\\sigma(w^T x)) = \\frac{\\sigma'(w^T x)}{\\sigma(w^T x)}$\n",
        "\n",
        "Similarly, we have $\\frac{\\partial}{\\partial w_j} \\text{log}(1 - \\sigma(w^T x_i)) = \\frac{- \\sigma'(w^T x)}{1 - \\sigma(w^T x)}$"
      ],
      "metadata": {
        "id": "MEdCy8WvqrxO"
      }
    },
    {
      "cell_type": "markdown",
      "source": [
        "We can then evaluate $\\frac{\\partial}{\\partial w_j} J(w)$ as follows:\n",
        "\n",
        "$ \\frac{\\partial}{\\partial w_j} J(w) = -\\frac{1}{n} \\sum_{i=1}^{n} [y_i (1 - \\sigma(w^T x_i)) x_{ij}] + [(1-y_i) (- \\sigma(w^T x_i)) x_{ij}] $\n",
        "\n",
        "$\\implies \\frac{\\partial}{\\partial w_j} J(w) = \\frac{1}{n} \\sum_{i=1}^{n} (\\sigma(w^T x_i) - y_i) x_{ij} $\n",
        "\n",
        "Plugging this back into the update rule for $w$:\n",
        "\n",
        "$ w_j := w_j - \\alpha \\frac{\\partial}{\\partial w_j} J(w) $\n",
        "$\\implies w_j := w_j - \\alpha [\\frac{1}{n} \\sum_{i=1}^{n} (\\sigma(w^T x_i) - y_i) x_{ij}]$\n",
        "\n",
        "We can separate this for each of the $x_i$ terms:\n",
        "\n",
        "$w_0 = w_0 - \\alpha \\frac{1}{n} \\sum_{i = 1}^n (σ(x^{(i)}) - y^{(i)})$\n",
        "\n",
        "$w_1 = w_1 - \\alpha \\frac{1}{n} \\sum_{i = 1}^n (σ(x^{(i)}) - y^{(i)}) x_1^{(i)}$\n",
        "\n",
        "$w_2 = w_2 - \\alpha \\frac{1}{n} \\sum_{i = 1}^n (σ(x^{(i)}) - y^{(i)}) x_2^{(i)}$"
      ],
      "metadata": {
        "id": "1mD_sbdEqwCD"
      }
    },
    {
      "cell_type": "markdown",
      "source": [
        "Now, assume $w_0 = 1$, $w_1 = 2$, etc..., run one iteration of grad. descent with an LR of 0.01."
      ],
      "metadata": {
        "id": "LwKay2Yqr8vp"
      }
    },
    {
      "cell_type": "markdown",
      "source": [
        "In this case, we have our $w$ matrix as $w^{(0)} = [1, 2, 3]$.\n",
        "\n",
        "Thus:\n",
        "\n",
        "$w_0^{(1)} = w_0^{(0)} - 0.01 \\frac{1}{n} \\sum_{i = 1}^n (σ(x^{(i)}) - y^{(i)})$\n",
        "\n",
        "$w_1^{(1)} = w_1^{(0)} - 0.01 \\frac{1}{n} \\sum_{i = 1}^n (σ(x^{(i)}) - y^{(i)}) x_1^{(i)}$\n",
        "\n",
        "$w_2^{(1)} = w_2^{(0)} - 0.01 \\frac{1}{n} \\sum_{i = 1}^n (σ(x^{(i)}) - y^{(i)}) x_2^{(i)}$"
      ],
      "metadata": {
        "id": "2D05UysasOSl"
      }
    },
    {
      "cell_type": "markdown",
      "source": [
        "We will demonstrate the first case:\n",
        "\n",
        "$w_0^{(1)} = w_0^{(0)} - 0.01 \\frac{1}{n} \\sum_{i = 1}^n (σ(x^{(i)}) - y^{(i)})$\n",
        "\n",
        "$ \\implies w_0^{(1)} = 1 - 0.01 (\\frac{1}{6} \\sum_{i = 1}^6 (\\sigma(x^{(i)}) - y^{(i)}))$\n",
        "\n",
        "We must calculate the $\\sigma(x^{(i)})$ for each of the 6 samples.\n",
        "\n",
        "For all 6 samples, $\\sigma(x)$ is 1.\n",
        "\n",
        "Thus: $ (\\frac{1}{6} \\sum_{i = 1}^6 (\\sigma(x^{(i)}) - y^{(i)})) = \\frac{1}{6} [(1 - 0) + (1 - 1) + (1 - 1) + (1 - 0) + (1 - 1) + (1 - 1)]$\n",
        "\n",
        "$ \\implies \\frac{1}{6} (2) = \\frac{2}{6} = 0.33333$\n",
        "\n",
        "Thus $w_0^{(1)} = 1 - 0.01(\\frac{1}{3}) $\n",
        "\n",
        "$\\implies w_0^{(1)} = 0.99666666666$\n"
      ],
      "metadata": {
        "id": "-LpVIb9su0cp"
      }
    },
    {
      "cell_type": "markdown",
      "source": [
        "The remainder of the $w$s will be calculated computationally."
      ],
      "metadata": {
        "id": "XNC1xN1Ax0V-"
      }
    },
    {
      "cell_type": "code",
      "source": [
        "X = np.array(\n",
        "    [\n",
        "    [1, 45, 25],\n",
        "    [1, 60, 35],\n",
        "    [1, 75, 40],\n",
        "    [1, 50, 28],\n",
        "    [1, 90, 50],\n",
        "    [1, 100, 60]\n",
        "]\n",
        "             )\n",
        "\n",
        "y = np.array(\n",
        "    [0, 1, 1, 0, 1, 1]\n",
        "    )\n",
        "\n",
        "def sigmoid(z):\n",
        "    return 1 / (1 + np.exp(-z))\n",
        "\n",
        "w = np.array([1.0, 2.0, 3.0])\n",
        "LR = 0.01\n",
        "n = 6\n",
        "\n",
        "hypothesis = sigmoid(X @ w)\n",
        "\n",
        "grad = (1 / n) * (X.T @ (hypothesis - y))\n",
        "\n",
        "w_new = w - LR * grad\n",
        "\n",
        "print(w_new)"
      ],
      "metadata": {
        "id": "6m1lOmg0jeLY",
        "colab": {
          "base_uri": "https://localhost:8080/"
        },
        "outputId": "77e765be-33ae-4511-ff12-a6af92e6aea1"
      },
      "execution_count": 11,
      "outputs": [
        {
          "output_type": "stream",
          "name": "stdout",
          "text": [
            "[0.99666667 1.84166667 2.91166667]\n"
          ]
        }
      ]
    },
    {
      "cell_type": "markdown",
      "source": [
        "After one iteration of gradient descent, our new $w$ values are as follows:\n",
        "\n",
        "- $w_0 = 0.99667$\n",
        "- $w_1 = 1.84167$\n",
        "- $w_2 = 2.91167$"
      ],
      "metadata": {
        "id": "qlCbrkU0yUQ9"
      }
    },
    {
      "cell_type": "code",
      "source": [
        "## Extra stuff:\n",
        "\n",
        "def gradient_descent(income, age, approved, initial_w, learning_rate, n_iterations):\n",
        "    w = np.array(initial_w, dtype=float)\n",
        "    m = len(approved)\n",
        "\n",
        "    for _ in range(n_iterations):\n",
        "        z = w[0] + w[1] * income + w[2] * age\n",
        "        h = sigmoid(z)\n",
        "\n",
        "        error = h - approved\n",
        "\n",
        "        grad_w0 = (1 / m) * np.sum(error)\n",
        "        grad_w1 = (1 / m) * np.sum(error * income)\n",
        "        grad_w2 = (1 / m) * np.sum(error * age)\n",
        "\n",
        "        w[0] -= learning_rate * grad_w0\n",
        "        w[1] -= learning_rate * grad_w1\n",
        "        w[2] -= learning_rate * grad_w2\n",
        "\n",
        "\n",
        "    return w"
      ],
      "metadata": {
        "id": "mW3VWSazy8vP"
      },
      "execution_count": 12,
      "outputs": []
    },
    {
      "cell_type": "code",
      "source": [
        "income = np.array([45, 60, 75, 50, 90, 100])\n",
        "age = np.array([25, 35, 40, 28, 50, 60])\n",
        "approved = np.array([0, 1, 1, 0, 1, 1])\n",
        "\n",
        "weights_1_iter = gradient_descent(income, age, approved, initial_w=[1, 2, 3], learning_rate=0.01, n_iterations=1)\n",
        "print(\"Final weights:\", weights_1_iter)"
      ],
      "metadata": {
        "colab": {
          "base_uri": "https://localhost:8080/"
        },
        "id": "H9Dokd4SzC4M",
        "outputId": "8825140e-9b60-4715-88bd-1ddde78f21cd"
      },
      "execution_count": 13,
      "outputs": [
        {
          "output_type": "stream",
          "name": "stdout",
          "text": [
            "Final weights: [0.99666667 1.84166667 2.91166667]\n"
          ]
        }
      ]
    },
    {
      "cell_type": "markdown",
      "source": [
        "To get the model accuracy after 1 iteration:"
      ],
      "metadata": {
        "id": "eBr4BKIPzgB2"
      }
    },
    {
      "cell_type": "code",
      "source": [
        "hypothesis = sigmoid(X @ weights_1_iter)\n",
        "\n",
        "y_pred = (hypothesis >= 0.5).astype(int)\n",
        "\n",
        "accuracy = np.mean(y_pred == y) * 100\n",
        "print(f'Accuracy with initial weights = {accuracy:.2f}%')"
      ],
      "metadata": {
        "colab": {
          "base_uri": "https://localhost:8080/"
        },
        "id": "SvoXu9BDwqzb",
        "outputId": "d97032ba-b70d-4fd2-a2ce-04892fe1c6a3"
      },
      "execution_count": 14,
      "outputs": [
        {
          "output_type": "stream",
          "name": "stdout",
          "text": [
            "Accuracy with initial weights = 66.67%\n"
          ]
        }
      ]
    },
    {
      "cell_type": "markdown",
      "source": [
        "We can see that after one iteration of gradient descent, we have an accuracy of 66.67%. However, let's say we wanted to run it for 100 iterations instead. What would happen to the accuracy?"
      ],
      "metadata": {
        "id": "NtaA5UYPzqEX"
      }
    },
    {
      "cell_type": "code",
      "source": [
        "weights_100_iter = gradient_descent(income, age, approved, initial_w=[1, 2, 3], learning_rate=0.01, n_iterations=100)\n",
        "print(\"Final weights:\", weights_100_iter)\n",
        "\n",
        "hypothesis = sigmoid(X @ weights_100_iter)\n",
        "\n",
        "y_pred = (hypothesis >= 0.5).astype(int)\n",
        "\n",
        "accuracy = np.mean(y_pred == y) * 100\n",
        "print(f'Accuracy with initial weights = {accuracy:.2f}%')"
      ],
      "metadata": {
        "colab": {
          "base_uri": "https://localhost:8080/"
        },
        "id": "J1nfuw2pzmVQ",
        "outputId": "002073f4-62b8-4c3f-cff5-0893b8f2150b"
      },
      "execution_count": 15,
      "outputs": [
        {
          "output_type": "stream",
          "name": "stdout",
          "text": [
            "Final weights: [ 0.85498903 -0.84256442  1.45643132]\n",
            "Accuracy with initial weights = 66.67%\n"
          ]
        }
      ]
    },
    {
      "cell_type": "markdown",
      "source": [
        "Still the same. Maybe the model is just bad at prediction?"
      ],
      "metadata": {
        "id": "bPmPDGx70FsV"
      }
    },
    {
      "cell_type": "markdown",
      "source": [
        "# Question 4"
      ],
      "metadata": {
        "id": "9XNx0gJP0LQt"
      }
    },
    {
      "cell_type": "markdown",
      "source": [
        "You built a model that can predict whether a customer would churn (i.e., leave the company) (1 = churn, 0 = no churn) using a number of features, with one them being $x$ (salary – in thousands of dollars). In the dataset you leveraged to build the model, only 10% of the customers churned. The remaining 90% did not churn. The confusion matrix for applying the model to a test set is as follows:\n",
        "\n",
        "| Actual\\Predicted | No Churn (0) | Churn (1) |\n",
        "| --------         | --------     | --------  |\n",
        "| **No Churn (0)** | 180          | 20        |\n",
        "| **Churn (1)**    | 70           | 30        |\n",
        "\n",
        "1. Calculate the accuracy, precision, recall, and F1 score for the model.\n",
        "\n",
        "2. Interpret the F1 score and explain when it is more useful than accuracy.\n",
        "\n",
        "3. Suppose the coefficient corresponding to the feature “salary” in the model you built is −0.6. For an employee with a salary of 30,000 USD, the probability of churning is 0.63. What would the probability of churning be if the company were to increase this employee's salary to 31,000 USD?\n",
        "\n",
        "--------------------------------"
      ],
      "metadata": {
        "id": "exlytErf0PDC"
      }
    },
    {
      "cell_type": "code",
      "source": [
        "TP = 30\n",
        "TN = 180\n",
        "FP = 20\n",
        "FN = 70\n",
        "\n",
        "## This is just straight forward calculations\n",
        "\n",
        "acc = (TP + TN) / (TP + TN + FP + FN)\n",
        "precision = TP / (TP + FP)\n",
        "recall = TP / (TP + FN)\n",
        "f1 = 2 * (precision * recall) / (precision + recall)\n",
        "\n",
        "print(f'Accuracy = {acc}')\n",
        "print(f'Precision = {precision}')\n",
        "print(f'Recall = {recall}')\n",
        "print(f'F1-Score = {f1}')"
      ],
      "metadata": {
        "colab": {
          "base_uri": "https://localhost:8080/"
        },
        "id": "tyhGdtgTz8ce",
        "outputId": "df0e4b6f-c6f6-40ef-f461-7a401890b06a"
      },
      "execution_count": 16,
      "outputs": [
        {
          "output_type": "stream",
          "name": "stdout",
          "text": [
            "Accuracy = 0.7\n",
            "Precision = 0.6\n",
            "Recall = 0.3\n",
            "F1-Score = 0.4\n"
          ]
        }
      ]
    },
    {
      "cell_type": "markdown",
      "source": [
        "Interpretation of F1-Score:\n",
        "\n",
        "We have a low F1-Score of 0.40 or 40%, especially when compared to the accuracy of 0.70 or 70%. This means that the harmonic mean of the precision and recall is less than the geometric mean. Since our dataset is largely imbalanced, the F1-Score is a more reasonable metric to look at for evaluating the performance of the model than the accuracy.\n",
        "\n",
        "We have a low recall of 0.30, meaning that out of all actual positive points, only 30% of the points were predicted positive, whilst 70% were predicted negative. The precision is also only at 60%, meaning that out of all positively predicted points, only 60% were actually posiive."
      ],
      "metadata": {
        "id": "ika5lUKO01Kc"
      }
    },
    {
      "cell_type": "markdown",
      "source": [
        "We will once again be working with a logistic regression model (binary classification).\n",
        "\n",
        "$ h_w(x) = \\sigma(w^T x) = \\frac{1}{1 + e^{-w^T x}} $\n",
        "\n",
        "We have one intercept term and one coefficient term, thus our weight vector $w$ would consist of two variables to optimize. Let us call them $w_0$ and $w_1$.\n",
        "\n",
        "The hypothesis function would be:\n",
        "\n",
        "$h_w(x) = \\sigma(w_0 + w_1x)$\n",
        "\n",
        "$\\implies  h_w(x) = \\frac{1}{1 + e^{-(w_0 + w_1 x)}}$"
      ],
      "metadata": {
        "id": "noKCceEY2HWw"
      }
    },
    {
      "cell_type": "markdown",
      "source": [
        "We are fiven that the coefficient for salary ($w_1$) is -0.6. We also know that for a salary of 30,000 USD, the probability of churning is 0.63 or 63%.\n",
        "\n",
        "We must first determine what $w_0$ is given this information, and then use it to calculate the probability of churning when the salary is 31,000 USD.\n",
        "\n",
        "$ 0.63 = \\frac{1}{1 + e^{-(w_0 - 18)}} \\implies 1 + e^{-(w_0 - 18)} = \\frac{1}{0.63}$\n",
        "\n",
        "We solve for $w_0$ here to get $w_0 = 18.532$.\n",
        "\n",
        "The new hypothesis equation would thus be:\n",
        "\n",
        "$h_w(x) = \\frac{1}{1 + e^{-(18.532 -0.6 x)}}$\n",
        "\n",
        "To verify:"
      ],
      "metadata": {
        "id": "H5s_CEuw3GYm"
      }
    },
    {
      "cell_type": "code",
      "source": [
        "import math\n",
        "def hyp(x):\n",
        "  return 1 / (1 + math.exp(-(18.532 - 0.6*x)))"
      ],
      "metadata": {
        "id": "MQmo9A_60pKV"
      },
      "execution_count": 17,
      "outputs": []
    },
    {
      "cell_type": "code",
      "source": [
        "hyp(30)"
      ],
      "metadata": {
        "colab": {
          "base_uri": "https://localhost:8080/"
        },
        "id": "hWw6xSWc5mBk",
        "outputId": "31125dd4-dc5d-4433-8a42-85145b5a6d8e"
      },
      "execution_count": 18,
      "outputs": [
        {
          "output_type": "execute_result",
          "data": {
            "text/plain": [
              "0.6299494592911709"
            ]
          },
          "metadata": {},
          "execution_count": 18
        }
      ]
    },
    {
      "cell_type": "markdown",
      "source": [
        "Thus, we can use this to get the new probability at salary = 31,000 USD:"
      ],
      "metadata": {
        "id": "M1WOFVwO6X21"
      }
    },
    {
      "cell_type": "code",
      "source": [
        "hyp(31)"
      ],
      "metadata": {
        "colab": {
          "base_uri": "https://localhost:8080/"
        },
        "id": "zgDpeyT15tMk",
        "outputId": "73ab05b0-9e7d-4ca0-f599-c34079f5fe4f"
      },
      "execution_count": 19,
      "outputs": [
        {
          "output_type": "execute_result",
          "data": {
            "text/plain": [
              "0.48300654763905554"
            ]
          },
          "metadata": {},
          "execution_count": 19
        }
      ]
    },
    {
      "cell_type": "markdown",
      "source": [
        "We therefore conclude that the probability of churning with a salary of 31,000 USD is 48.3%.\n",
        "\n",
        "However, we could've also used another method of getting to this value based on the comparison of the original log odds to the new log odds. I am too sick right now to be able to go into the details of that and this is just simpler."
      ],
      "metadata": {
        "id": "TkuAknrO6eCv"
      }
    },
    {
      "cell_type": "markdown",
      "source": [
        "# Question 5"
      ],
      "metadata": {
        "id": "DoyAPQHq6xVV"
      }
    },
    {
      "cell_type": "markdown",
      "source": [
        "You want to automatically decide whether today would be a good day to play tennis or not based on the day’s outlook, temperature, and humidity. You have some recorded historical data, as shown below:\n",
        "\n",
        "| Outlook  | Temperature | Humidity | Play Tennis |\n",
        "| -------- | --------    | -------- | --------    |\n",
        "| Sunny    | Hot         | High     | No          |\n",
        "| Sunny    | Hot         | Normal   | Yes         |\n",
        "| Overcast | Hot         | High     | Yes         |\n",
        "| Overcast | Mild        | High     | Yes         |\n",
        "| Sunny    | Mild        | Normal   | No          |\n",
        "\n",
        "1. Using entropy as the measure of impurity at each node, build a decision tree classifier that can predict whether today would be a good day to play tennis or not based on\n",
        "outlook, temperature, and humidity. Recall that entropy is calculated as\n",
        "\n",
        "$H(p_1) = - \\sum_{i=1}^{n} p_i \\text{log}_2(p_i)$\n",
        "\n",
        "where $p$ is the fraction of datapoints belonging to class 1 (Yes to Playing Tennis).\n",
        "\n",
        "2. Use the decision tree classifier to predict whether to play tennis or not for a day with the following features:\n",
        "    - Outlook: Overcast\n",
        "    - Temperature: Hot\n",
        "    - Humidity: Normal\n",
        "\n",
        "-------------------------------"
      ],
      "metadata": {
        "id": "Rho6rPgt6y7W"
      }
    },
    {
      "cell_type": "markdown",
      "source": [
        "We have 5 data-points, split into 3 Y and 2 N. Thus P(Yes) = 3/5 and P(No) = 2/5.\n",
        "\n",
        "Our entropy, $H$, for the whole dataset, can thus be calculated as follows:\n",
        "\n",
        "$H(\\text{Play tennis}) = - (\\frac{3}{5}\\text{log}_2\\frac{3}{5} + \\frac{2}{5}\\text{log}_2\\frac{2}{5}) = 0.971$\n",
        "\n",
        "We then calculate the information gain for each of the features (Outlook, temperature and humidity):\n",
        "\n",
        "\n",
        "\n",
        "- For Outlook:\n",
        "\n",
        "3 instances of Sunny (2 no, 1 yes) and 2 instances of overcast (both yes).\n",
        "\n",
        "$H(\\text{sunny}) = - (\\frac{1}{3} \\log_2 \\frac{1}{3} + \\frac{2}{3} \\log_2 \\frac{2}{3}) = 0.918$\n",
        "\n",
        "Since all the overcast instances are Yes, then $H(\\text{overcast}) = 0$.\n",
        "\n",
        "Thus:\n",
        "\n",
        "$H(\\text{outlook}) = \\frac{3}{5} H(\\text{sunny}) + \\frac{2}{5}H(\\text{overcast}) = 0.551$\n",
        "\n",
        "The information gain: $H(\\text{Play tennis}) - H(\\text{outlook}) = 0.420 $\n",
        "\n",
        "- For Temperature:\n",
        "\n",
        "3 instances of Hot (2 Yes, 1 No), and 2 instances of Mild (both no).\n",
        "\n",
        "$H(\\text{Hot}) = - (\\frac{2}{3} \\log_2 \\frac{2}{3} + \\frac{1}{3} \\log_2 \\frac{1}{3}) = 0.918$\n",
        "\n",
        "Since all the overcast instances are No, then $H(\\text{Mild}) = 0$.\n",
        "\n",
        "$H(\\text{Temperature}) = \\frac{3}{5} H(\\text{Hot}) + \\frac{2}{5}H(\\text{Mild}) = 0.551$\n",
        "\n",
        "\n",
        "The information gain: $H(\\text{Play tennis}) - H(\\text{Temperature}) = 0.420 $\n",
        "\n",
        "- For Humidity:\n",
        "\n",
        "3 instances of High (1 Yes, 2 No) and 2 instances of Normal (1  Yes, 1 No).\n",
        "\n",
        "$H(\\text{High}) = - (\\frac{1}{3} \\log_2 \\frac{1}{3} + \\frac{2}{3} \\log_2 \\frac{2}{3}) = 0.918$\n",
        "\n",
        "$H(\\text{Normal}) = \\frac{1}{2}\\log_2 \\frac{1}{2} + \\frac{1}{2} \\log_2 \\frac{1}{2} = 1 $\n",
        "\n",
        "$H(\\text{Humidity}) = \\frac{3}{5} H(\\text{High}) + \\frac{2}{5}H(\\text{Normal}) = 0.951$\n",
        "\n",
        "The information gain: $H(\\text{Play tennis}) - H(\\text{Humidity}) = 0.020 $\n",
        "\n",
        "We thus have the information gain for the three features as follows:\n",
        "\n",
        "- Outlook: 0.420\n",
        "- Temperature: 0.420\n",
        "- Humidity: 0.020\n",
        "\n",
        "The highest are the outlook and temperature, so we can select either of them as our root node.\n",
        "\n"
      ],
      "metadata": {
        "id": "ZzM0PgkA9gLb"
      }
    },
    {
      "cell_type": "code",
      "source": [
        "df = {\n",
        "    \"Outlook\": [\"Sunny\", \"Sunny\", \"Overcast\", \"Overcast\", \"Sunny\"],\n",
        "    \"Temperature\": [\"Hot\", \"Hot\", \"Hot\", \"Mild\", \"Mild\"],\n",
        "    \"Humidity\": [\"High\", \"Normal\", \"High\", \"High\", \"Normal\"],\n",
        "    \"Play Tennis\": [\"No\", \"Yes\", \"Yes\", \"Yes\", \"No\"]\n",
        "}\n",
        "df = pd.DataFrame(df)"
      ],
      "metadata": {
        "id": "W-W9N1cFDp_K"
      },
      "execution_count": 20,
      "outputs": []
    },
    {
      "cell_type": "code",
      "source": [
        "import matplotlib.pyplot as plt\n",
        "from sklearn.tree import DecisionTreeClassifier, plot_tree\n",
        "from sklearn.preprocessing import LabelEncoder\n",
        "\n",
        "encoder = LabelEncoder()\n",
        "encoded_data = df.apply(encoder.fit_transform)\n",
        "\n",
        "X = encoded_data[[\"Outlook\", \"Temperature\", \"Humidity\"]]\n",
        "y = encoded_data[\"Play Tennis\"]\n",
        "\n",
        "clf = DecisionTreeClassifier(criterion=\"entropy\", max_depth=2)\n",
        "clf.fit(X, y)\n",
        "\n",
        "\n",
        "plt.figure(figsize=(12, 8))\n",
        "\n",
        "plot_tree(\n",
        "    clf,\n",
        "    feature_names=[\"Outlook\", \"Temperature\", \"Humidity\"],\n",
        "    class_names=encoder.classes_,\n",
        "    filled=True,\n",
        "    fontsize=10,\n",
        "    rounded=True,\n",
        "    proportion=False,\n",
        "    impurity=True\n",
        ")\n",
        "\n",
        "plt.title(\"Decision Tree for Playing Tennis\")\n",
        "plt.show()\n",
        "\n"
      ],
      "metadata": {
        "colab": {
          "base_uri": "https://localhost:8080/",
          "height": 675
        },
        "id": "Vi_t_d02-UAD",
        "outputId": "4a9a1d2a-cd2c-458d-dfcb-26e2946e1615"
      },
      "execution_count": 21,
      "outputs": [
        {
          "output_type": "display_data",
          "data": {
            "text/plain": [
              "<Figure size 1200x800 with 1 Axes>"
            ],
            "image/png": "[encoded data removed]"
          },
          "metadata": {}
        }
      ]
    },
    {
      "cell_type": "markdown",
      "source": [
        "Since all the outcomes in which an overcast outlook is Yes, that means that immediately, just by knowing that it is overcast, we will choose to play tennis (as indicated with the decision tree generated as well)."
      ],
      "metadata": {
        "id": "6Eb-r_FlEEdw"
      }
    }
  ]
}
{
  "cells": [
    {
      "cell_type": "markdown",
      "id": "3deac8c1-ac14-416e-b7dd-d775ea2f3ebc",
      "metadata": {
        "id": "3deac8c1-ac14-416e-b7dd-d775ea2f3ebc"
      },
      "source": [
        "<center>\n",
        "    <a href=\"https://www.aus.edu/\"><img src=\"https://i.imgur.com/pdZvnSD.png\" width=200> </a>\n",
        "</center>\n",
        "\n",
        "<h1 align=center><font size = 5>Anomaly Detection</font>\n",
        "<h1 align=center><font size = 5>Prepared by Alex Aklson, Ph.D.</font>\n",
        "<h1 align=center><font size = 5>November 7, 2024</font>"
      ]
    },
    {
      "cell_type": "markdown",
      "id": "42289afe-9842-472e-8b7a-40e984cb9214",
      "metadata": {
        "id": "42289afe-9842-472e-8b7a-40e984cb9214"
      },
      "source": [
        "  "
      ]
    },
    {
      "cell_type": "markdown",
      "id": "ff0bf640-e769-4ac0-a02f-c36e821aca22",
      "metadata": {
        "id": "ff0bf640-e769-4ac0-a02f-c36e821aca22"
      },
      "source": [
        "Import libraries and packages."
      ]
    },
    {
      "cell_type": "code",
      "execution_count": 1,
      "id": "9ffebdf8-83a6-460c-884a-1d522a254c96",
      "metadata": {
        "id": "9ffebdf8-83a6-460c-884a-1d522a254c96"
      },
      "outputs": [],
      "source": [
        "import numpy as np\n",
        "import pandas as pd\n",
        "\n",
        "from scipy.stats import norm\n",
        "from sklearn.model_selection import train_test_split\n",
        "from sklearn.metrics import confusion_matrix, precision_score, recall_score, f1_score"
      ]
    },
    {
      "cell_type": "markdown",
      "id": "bf58eeb3-bb13-49f7-ac39-9204f81083b2",
      "metadata": {
        "id": "bf58eeb3-bb13-49f7-ac39-9204f81083b2"
      },
      "source": [
        "Read Aircraft Engine Data"
      ]
    },
    {
      "cell_type": "code",
      "execution_count": 2,
      "id": "38ea0fc1-b249-4b5f-aee3-159e4b59382e",
      "metadata": {
        "id": "38ea0fc1-b249-4b5f-aee3-159e4b59382e"
      },
      "outputs": [],
      "source": [
        "aircraft_data = pd.read_csv('/content/aircraft_engine.csv')"
      ]
    },
    {
      "cell_type": "code",
      "execution_count": 3,
      "id": "6c47bc69-c321-410a-8de0-e931c27b01f3",
      "metadata": {
        "colab": {
          "base_uri": "https://localhost:8080/"
        },
        "id": "6c47bc69-c321-410a-8de0-e931c27b01f3",
        "outputId": "be130e0b-22fa-41eb-8714-6eee4f5f885a"
      },
      "outputs": [
        {
          "output_type": "execute_result",
          "data": {
            "text/plain": [
              "(1020, 3)"
            ]
          },
          "metadata": {},
          "execution_count": 3
        }
      ],
      "source": [
        "aircraft_data.shape"
      ]
    },
    {
      "cell_type": "markdown",
      "id": "33b46e98-18aa-4337-aeb4-da65f90ebe69",
      "metadata": {
        "id": "33b46e98-18aa-4337-aeb4-da65f90ebe69"
      },
      "source": [
        "Split data into normal and anomaly data"
      ]
    },
    {
      "cell_type": "code",
      "execution_count": 5,
      "id": "a11426a1-41d5-44ae-9ce2-fc3ccc03f3cd",
      "metadata": {
        "id": "a11426a1-41d5-44ae-9ce2-fc3ccc03f3cd"
      },
      "outputs": [],
      "source": [
        "normal_data = aircraft_data[aircraft_data['label'] == 0]\n",
        "anomaly_data = aircraft_data[aircraft_data['label'] == 1]"
      ]
    },
    {
      "cell_type": "markdown",
      "id": "6628fb2e-340f-4764-b8fb-ed4c30f6e11e",
      "metadata": {
        "id": "6628fb2e-340f-4764-b8fb-ed4c30f6e11e"
      },
      "source": [
        "Use 60% of data for training and 40% for validation and testing."
      ]
    },
    {
      "cell_type": "code",
      "execution_count": 6,
      "id": "dc563417-61a0-4870-859a-f615a060188f",
      "metadata": {
        "id": "dc563417-61a0-4870-859a-f615a060188f"
      },
      "outputs": [],
      "source": [
        "train_normal, valid_test_normal = train_test_split(\n",
        "    normal_data,\n",
        "    test_size=0.4,\n",
        "    random_state=42\n",
        ")"
      ]
    },
    {
      "cell_type": "markdown",
      "id": "a586cadb-c97f-4e2e-8b6f-d3a44c9e1d4b",
      "metadata": {
        "id": "a586cadb-c97f-4e2e-8b6f-d3a44c9e1d4b"
      },
      "source": [
        "Split validataion and test data into validation set and test set."
      ]
    },
    {
      "cell_type": "code",
      "execution_count": 7,
      "id": "cc6861d0-ca83-48fc-be6c-069260c9cc4a",
      "metadata": {
        "id": "cc6861d0-ca83-48fc-be6c-069260c9cc4a"
      },
      "outputs": [],
      "source": [
        "val_normal, test_normal = train_test_split(\n",
        "    valid_test_normal,\n",
        "    test_size=0.5,\n",
        "    random_state=42\n",
        ")"
      ]
    },
    {
      "cell_type": "markdown",
      "id": "d637adc9-e1a0-4a68-ac7f-9e60f340efc7",
      "metadata": {
        "id": "d637adc9-e1a0-4a68-ac7f-9e60f340efc7"
      },
      "source": [
        "Repeat the same split for anomaly data."
      ]
    },
    {
      "cell_type": "code",
      "execution_count": 8,
      "id": "43d9eef0-e068-4ab9-9e12-5da641e8c854",
      "metadata": {
        "id": "43d9eef0-e068-4ab9-9e12-5da641e8c854"
      },
      "outputs": [],
      "source": [
        "val_anomaly, test_anomaly = train_test_split(\n",
        "    anomaly_data,\n",
        "    test_size=0.5,\n",
        "    random_state=42\n",
        ")"
      ]
    },
    {
      "cell_type": "markdown",
      "id": "a80624d8-79b5-49bd-b2bc-d246ca1b31f2",
      "metadata": {
        "id": "a80624d8-79b5-49bd-b2bc-d246ca1b31f2"
      },
      "source": [
        "Create validation and test sets by combining normal and anomaly data together."
      ]
    },
    {
      "cell_type": "code",
      "execution_count": 9,
      "id": "baed2943-c385-4636-80fb-a93370406da3",
      "metadata": {
        "id": "baed2943-c385-4636-80fb-a93370406da3"
      },
      "outputs": [],
      "source": [
        "val_data = pd.concat(\n",
        "    [val_normal, val_anomaly], ignore_index=True\n",
        ")"
      ]
    },
    {
      "cell_type": "code",
      "execution_count": 10,
      "id": "875a0383-f591-43ee-a3f6-f8cd95f356a1",
      "metadata": {
        "id": "875a0383-f591-43ee-a3f6-f8cd95f356a1"
      },
      "outputs": [],
      "source": [
        "test_data = pd.concat(\n",
        "    [test_normal, test_anomaly], ignore_index=True\n",
        ")"
      ]
    },
    {
      "cell_type": "markdown",
      "id": "c83cf752-fcc8-429e-acf2-1b08edb566d8",
      "metadata": {
        "id": "c83cf752-fcc8-429e-acf2-1b08edb566d8"
      },
      "source": [
        "Fit the training data by estimating the means and standard deviations of features."
      ]
    },
    {
      "cell_type": "code",
      "execution_count": 12,
      "id": "a24c558c-c240-44e1-b684-bef80333059f",
      "metadata": {
        "id": "a24c558c-c240-44e1-b684-bef80333059f"
      },
      "outputs": [],
      "source": [
        "mean_1 = train_normal['heat_generated'].mean()\n",
        "std_1 = train_normal['heat_generated'].std()"
      ]
    },
    {
      "cell_type": "code",
      "execution_count": 13,
      "id": "9a4654e5-ff77-4125-934e-e98effada839",
      "metadata": {
        "id": "9a4654e5-ff77-4125-934e-e98effada839"
      },
      "outputs": [],
      "source": [
        "mean_2 = train_normal['vibration_intensity'].mean()\n",
        "std_2 = train_normal['vibration_intensity'].std()"
      ]
    },
    {
      "cell_type": "markdown",
      "id": "6619f881-dffb-4d9d-bb77-95c69ef382cd",
      "metadata": {
        "id": "6619f881-dffb-4d9d-bb77-95c69ef382cd"
      },
      "source": [
        "Get the probabilities for each point in the validation set."
      ]
    },
    {
      "cell_type": "code",
      "execution_count": 15,
      "id": "35b2cb44-3a69-442b-b770-f0ea29da09fa",
      "metadata": {
        "id": "35b2cb44-3a69-442b-b770-f0ea29da09fa"
      },
      "outputs": [],
      "source": [
        "val_data['prob_feature_1'] = norm.pdf(val_data['heat_generated'], mean_1, std_1)\n",
        "val_data['prob_feature_2'] = norm.pdf(val_data['vibration_intensity'], mean_2, std_2)\n",
        "val_data['overall_prob'] = val_data['prob_feature_1'] * val_data['prob_feature_2']"
      ]
    },
    {
      "cell_type": "markdown",
      "id": "1b19133b-d36c-4f6f-bd8d-89abfd950575",
      "metadata": {
        "id": "1b19133b-d36c-4f6f-bd8d-89abfd950575"
      },
      "source": [
        "Use the validation set to estimate the threshold epsilon ($\\epsilon$)."
      ]
    },
    {
      "cell_type": "code",
      "execution_count": 16,
      "id": "988df864-e09f-440b-83a5-316f7bb5c834",
      "metadata": {
        "id": "988df864-e09f-440b-83a5-316f7bb5c834"
      },
      "outputs": [],
      "source": [
        "sorted_val_data = val_data.sort_values(\n",
        "    by='overall_prob', ascending=False\n",
        ").reset_index(drop=True)"
      ]
    },
    {
      "cell_type": "code",
      "execution_count": 17,
      "id": "35133bc7-6a00-4a83-8add-3e6d87edd37e",
      "metadata": {
        "id": "35133bc7-6a00-4a83-8add-3e6d87edd37e"
      },
      "outputs": [],
      "source": [
        "first_anomalous_index = sorted_val_data[sorted_val_data['label'] == 1].index[0]\n",
        "first_anomalous_score = sorted_val_data.loc[first_anomalous_index, 'overall_prob']"
      ]
    },
    {
      "cell_type": "markdown",
      "id": "58c846d6-a528-49ac-9fbf-00b0e008e4bf",
      "metadata": {
        "id": "58c846d6-a528-49ac-9fbf-00b0e008e4bf"
      },
      "source": [
        "first_anomalous_score could serve as ($\\epsilon$)."
      ]
    },
    {
      "cell_type": "markdown",
      "id": "8c15ae87-491c-4984-91fd-4f218cd987db",
      "metadata": {
        "id": "8c15ae87-491c-4984-91fd-4f218cd987db"
      },
      "source": [
        "Or we can add some buffer to reduce false negatives."
      ]
    },
    {
      "cell_type": "code",
      "execution_count": 18,
      "id": "25502460-45e1-4dfa-9dcd-4c910da1e2a4",
      "metadata": {
        "id": "25502460-45e1-4dfa-9dcd-4c910da1e2a4"
      },
      "outputs": [],
      "source": [
        "margin = 0.01 * (sorted_val_data['overall_prob'].max() - sorted_val_data['overall_prob'].min())\n",
        "threshold = first_anomalous_score + margin"
      ]
    },
    {
      "cell_type": "markdown",
      "id": "bd922773-1ef1-4919-b354-f7372243e786",
      "metadata": {
        "id": "bd922773-1ef1-4919-b354-f7372243e786"
      },
      "source": [
        "Evaluate the anomaly detection model on the test data."
      ]
    },
    {
      "cell_type": "code",
      "execution_count": 20,
      "id": "afb9ef5b-350f-443b-ac0a-c9e55aad9b3e",
      "metadata": {
        "id": "afb9ef5b-350f-443b-ac0a-c9e55aad9b3e"
      },
      "outputs": [],
      "source": [
        "test_data['prob_feature_1'] = norm.pdf(test_data['heat_generated'], mean_1, std_1)"
      ]
    },
    {
      "cell_type": "code",
      "execution_count": 21,
      "id": "3fb07900-9ba8-4085-ba34-f0a5335e4da2",
      "metadata": {
        "id": "3fb07900-9ba8-4085-ba34-f0a5335e4da2"
      },
      "outputs": [],
      "source": [
        "test_data['prob_feature_2'] = norm.pdf(test_data['vibration_intensity'], mean_2, std_2)"
      ]
    },
    {
      "cell_type": "code",
      "execution_count": 22,
      "id": "5f04affe-e185-428b-a0d7-ea538a9d87d7",
      "metadata": {
        "id": "5f04affe-e185-428b-a0d7-ea538a9d87d7"
      },
      "outputs": [],
      "source": [
        "test_data['overall_prob'] = test_data['prob_feature_1'] * test_data['prob_feature_2']"
      ]
    },
    {
      "cell_type": "code",
      "execution_count": 23,
      "id": "2f94c538-dacd-47e5-8d5f-88b1e8bd348b",
      "metadata": {
        "id": "2f94c538-dacd-47e5-8d5f-88b1e8bd348b"
      },
      "outputs": [],
      "source": [
        "test_data['predicted_label'] = (test_data['overall_prob'] < threshold).astype(int)"
      ]
    },
    {
      "cell_type": "markdown",
      "id": "69fea67d-e6b6-4a35-b670-09c8d50aae22",
      "metadata": {
        "id": "69fea67d-e6b6-4a35-b670-09c8d50aae22"
      },
      "source": [
        "Calculate the evaluation metrics."
      ]
    },
    {
      "cell_type": "code",
      "execution_count": 24,
      "id": "21b70b62-17d7-403a-ba1d-0d39fbf9841f",
      "metadata": {
        "id": "21b70b62-17d7-403a-ba1d-0d39fbf9841f"
      },
      "outputs": [],
      "source": [
        "precision = precision_score(test_data['label'], test_data['predicted_label'])"
      ]
    },
    {
      "cell_type": "code",
      "execution_count": 25,
      "id": "7027f75b-f3e5-4e30-9827-fa0ba5cf6fbd",
      "metadata": {
        "id": "7027f75b-f3e5-4e30-9827-fa0ba5cf6fbd"
      },
      "outputs": [],
      "source": [
        "recall = recall_score(test_data['label'], test_data['predicted_label'])"
      ]
    },
    {
      "cell_type": "code",
      "execution_count": 26,
      "id": "a55a71f1-bae4-4ade-b7ac-8624e18447fe",
      "metadata": {
        "id": "a55a71f1-bae4-4ade-b7ac-8624e18447fe"
      },
      "outputs": [],
      "source": [
        "f1 = f1_score(test_data['label'], test_data['predicted_label'])"
      ]
    },
    {
      "cell_type": "code",
      "execution_count": 27,
      "id": "14fa1a5d-df26-49e1-9e78-a3fd8d90060f",
      "metadata": {
        "id": "14fa1a5d-df26-49e1-9e78-a3fd8d90060f"
      },
      "outputs": [],
      "source": [
        "conf_matrix = confusion_matrix(test_data['label'], test_data['predicted_label'])"
      ]
    },
    {
      "cell_type": "code",
      "execution_count": 29,
      "id": "2c481faa-ec76-4431-b429-96429258b5ea",
      "metadata": {
        "colab": {
          "base_uri": "https://localhost:8080/"
        },
        "id": "2c481faa-ec76-4431-b429-96429258b5ea",
        "outputId": "2b033deb-4cba-4f35-ac8e-8ccb31caa07d"
      },
      "outputs": [
        {
          "output_type": "stream",
          "name": "stdout",
          "text": [
            "Threshold: 0.00026769751119968285\n",
            "Precision: 1.0\n",
            "Recall: 1.0\n",
            "F1 Score: 1.0\n",
            "Confusion Matrix:\n",
            "[[198   2]\n",
            " [  0  10]]\n"
          ]
        }
      ],
      "source": [
        "print(\"Threshold: {}\".format(threshold))\n",
        "print(\"Precision: {}\".format(np.round(precision)))\n",
        "print(\"Recall: {}\".format(np.round(recall)))\n",
        "print(\"F1 Score: {}\".format(np.round(f1)))\n",
        "print(\"Confusion Matrix:\")\n",
        "print(conf_matrix)"
      ]
    },
    {
      "cell_type": "code",
      "source": [],
      "metadata": {
        "id": "PNWzknYb92xA"
      },
      "id": "PNWzknYb92xA",
      "execution_count": null,
      "outputs": []
    }
  ],
  "metadata": {
    "kernelspec": {
      "display_name": "Python 3 (ipykernel)",
      "language": "python",
      "name": "python3"
    },
    "language_info": {
      "codemirror_mode": {
        "name": "ipython",
        "version": 3
      },
      "file_extension": ".py",
      "mimetype": "text/x-python",
      "name": "python",
      "nbconvert_exporter": "python",
      "pygments_lexer": "ipython3",
      "version": "3.12.5"
    },
    "colab": {
      "provenance": []
    }
  },
  "nbformat": 4,
  "nbformat_minor": 5
}
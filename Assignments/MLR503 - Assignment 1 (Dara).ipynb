{
  "nbformat": 4,
  "nbformat_minor": 0,
  "metadata": {
    "colab": {
      "provenance": []
    },
    "kernelspec": {
      "name": "python3",
      "display_name": "Python 3"
    },
    "language_info": {
      "name": "python"
    }
  },
  "cells": [
    {
      "cell_type": "code",
      "execution_count": 1,
      "metadata": {
        "id": "f-zt7gme7m6D"
      },
      "outputs": [],
      "source": [
        "import pandas as pd\n",
        "import seaborn as sns\n",
        "import matplotlib.pyplot as plt"
      ]
    },
    {
      "cell_type": "markdown",
      "source": [
        "# **Question 1:**"
      ],
      "metadata": {
        "id": "Xe7SHvvu72hl"
      }
    },
    {
      "cell_type": "code",
      "source": [
        "## Comment for prof.: In case you want to re-run anything, please change the directory accordingly. I just used Google Colab because it's easier.\n",
        "bank_df = pd.read_csv('/content/drive/MyDrive/bank_marketing.csv')\n",
        "bank_df.head()"
      ],
      "metadata": {
        "colab": {
          "base_uri": "https://localhost:8080/",
          "height": 206
        },
        "id": "CN0Nbo0T71dN",
        "outputId": "faa2c0d3-541e-46fb-a4ec-dc3e5ea2fa62"
      },
      "execution_count": 2,
      "outputs": [
        {
          "output_type": "execute_result",
          "data": {
            "text/plain": [
              "    Age           Job  Marital  Education Default  Balance Housing Loan  \\\n",
              "0  58.0    management  married   tertiary      no     2143     yes   no   \n",
              "1  44.0    technician   single  secondary      no       29     yes   no   \n",
              "2  33.0  entrepreneur  married  secondary      no        2     yes  yes   \n",
              "3  47.0   blue-collar  married        NaN      no     1506     yes   no   \n",
              "4   NaN           NaN   single        NaN      no        1      no   no   \n",
              "\n",
              "    Contact  Pdays Poutcome Outcome  \n",
              "0  cellular     -1      NaN      no  \n",
              "1  cellular     -1      NaN      no  \n",
              "2  cellular     -1      NaN      no  \n",
              "3  cellular     -1      NaN      no  \n",
              "4  cellular     -1      NaN      no  "
            ],
            "text/html": [
              "\n",
              "  <div id=\"df-094b4766-9e72-4483-b6b3-b21459eb4cd1\" class=\"colab-df-container\">\n",
              "    <div>\n",
              "<style scoped>\n",
              "    .dataframe tbody tr th:only-of-type {\n",
              "        vertical-align: middle;\n",
              "    }\n",
              "\n",
              "    .dataframe tbody tr th {\n",
              "        vertical-align: top;\n",
              "    }\n",
              "\n",
              "    .dataframe thead th {\n",
              "        text-align: right;\n",
              "    }\n",
              "</style>\n",
              "<table border=\"1\" class=\"dataframe\">\n",
              "  <thead>\n",
              "    <tr style=\"text-align: right;\">\n",
              "      <th></th>\n",
              "      <th>Age</th>\n",
              "      <th>Job</th>\n",
              "      <th>Marital</th>\n",
              "      <th>Education</th>\n",
              "      <th>Default</th>\n",
              "      <th>Balance</th>\n",
              "      <th>Housing</th>\n",
              "      <th>Loan</th>\n",
              "      <th>Contact</th>\n",
              "      <th>Pdays</th>\n",
              "      <th>Poutcome</th>\n",
              "      <th>Outcome</th>\n",
              "    </tr>\n",
              "  </thead>\n",
              "  <tbody>\n",
              "    <tr>\n",
              "      <th>0</th>\n",
              "      <td>58.0</td>\n",
              "      <td>management</td>\n",
              "      <td>married</td>\n",
              "      <td>tertiary</td>\n",
              "      <td>no</td>\n",
              "      <td>2143</td>\n",
              "      <td>yes</td>\n",
              "      <td>no</td>\n",
              "      <td>cellular</td>\n",
              "      <td>-1</td>\n",
              "      <td>NaN</td>\n",
              "      <td>no</td>\n",
              "    </tr>\n",
              "    <tr>\n",
              "      <th>1</th>\n",
              "      <td>44.0</td>\n",
              "      <td>technician</td>\n",
              "      <td>single</td>\n",
              "      <td>secondary</td>\n",
              "      <td>no</td>\n",
              "      <td>29</td>\n",
              "      <td>yes</td>\n",
              "      <td>no</td>\n",
              "      <td>cellular</td>\n",
              "      <td>-1</td>\n",
              "      <td>NaN</td>\n",
              "      <td>no</td>\n",
              "    </tr>\n",
              "    <tr>\n",
              "      <th>2</th>\n",
              "      <td>33.0</td>\n",
              "      <td>entrepreneur</td>\n",
              "      <td>married</td>\n",
              "      <td>secondary</td>\n",
              "      <td>no</td>\n",
              "      <td>2</td>\n",
              "      <td>yes</td>\n",
              "      <td>yes</td>\n",
              "      <td>cellular</td>\n",
              "      <td>-1</td>\n",
              "      <td>NaN</td>\n",
              "      <td>no</td>\n",
              "    </tr>\n",
              "    <tr>\n",
              "      <th>3</th>\n",
              "      <td>47.0</td>\n",
              "      <td>blue-collar</td>\n",
              "      <td>married</td>\n",
              "      <td>NaN</td>\n",
              "      <td>no</td>\n",
              "      <td>1506</td>\n",
              "      <td>yes</td>\n",
              "      <td>no</td>\n",
              "      <td>cellular</td>\n",
              "      <td>-1</td>\n",
              "      <td>NaN</td>\n",
              "      <td>no</td>\n",
              "    </tr>\n",
              "    <tr>\n",
              "      <th>4</th>\n",
              "      <td>NaN</td>\n",
              "      <td>NaN</td>\n",
              "      <td>single</td>\n",
              "      <td>NaN</td>\n",
              "      <td>no</td>\n",
              "      <td>1</td>\n",
              "      <td>no</td>\n",
              "      <td>no</td>\n",
              "      <td>cellular</td>\n",
              "      <td>-1</td>\n",
              "      <td>NaN</td>\n",
              "      <td>no</td>\n",
              "    </tr>\n",
              "  </tbody>\n",
              "</table>\n",
              "</div>\n",
              "    <div class=\"colab-df-buttons\">\n",
              "\n",
              "  <div class=\"colab-df-container\">\n",
              "    <button class=\"colab-df-convert\" onclick=\"convertToInteractive('df-094b4766-9e72-4483-b6b3-b21459eb4cd1')\"\n",
              "            title=\"Convert this dataframe to an interactive table.\"\n",
              "            style=\"display:none;\">\n",
              "\n",
              "  <svg xmlns=\"http://www.w3.org/2000/svg\" height=\"24px\" viewBox=\"0 -960 960 960\">\n",
              "    <path d=\"M120-120v-720h720v720H120Zm60-500h600v-160H180v160Zm220 220h160v-160H400v160Zm0 220h160v-160H400v160ZM180-400h160v-160H180v160Zm440 0h160v-160H620v160ZM180-180h160v-160H180v160Zm440 0h160v-160H620v160Z\"/>\n",
              "  </svg>\n",
              "    </button>\n",
              "\n",
              "  <style>\n",
              "    .colab-df-container {\n",
              "      display:flex;\n",
              "      gap: 12px;\n",
              "    }\n",
              "\n",
              "    .colab-df-convert {\n",
              "      background-color: #E8F0FE;\n",
              "      border: none;\n",
              "      border-radius: 50%;\n",
              "      cursor: pointer;\n",
              "      display: none;\n",
              "      fill: #1967D2;\n",
              "      height: 32px;\n",
              "      padding: 0 0 0 0;\n",
              "      width: 32px;\n",
              "    }\n",
              "\n",
              "    .colab-df-convert:hover {\n",
              "      background-color: #E2EBFA;\n",
              "      box-shadow: 0px 1px 2px rgba(60, 64, 67, 0.3), 0px 1px 3px 1px rgba(60, 64, 67, 0.15);\n",
              "      fill: #174EA6;\n",
              "    }\n",
              "\n",
              "    .colab-df-buttons div {\n",
              "      margin-bottom: 4px;\n",
              "    }\n",
              "\n",
              "    [theme=dark] .colab-df-convert {\n",
              "      background-color: #3B4455;\n",
              "      fill: #D2E3FC;\n",
              "    }\n",
              "\n",
              "    [theme=dark] .colab-df-convert:hover {\n",
              "      background-color: #434B5C;\n",
              "      box-shadow: 0px 1px 3px 1px rgba(0, 0, 0, 0.15);\n",
              "      filter: drop-shadow(0px 1px 2px rgba(0, 0, 0, 0.3));\n",
              "      fill: #FFFFFF;\n",
              "    }\n",
              "  </style>\n",
              "\n",
              "    <script>\n",
              "      const buttonEl =\n",
              "        document.querySelector('#df-094b4766-9e72-4483-b6b3-b21459eb4cd1 button.colab-df-convert');\n",
              "      buttonEl.style.display =\n",
              "        google.colab.kernel.accessAllowed ? 'block' : 'none';\n",
              "\n",
              "      async function convertToInteractive(key) {\n",
              "        const element = document.querySelector('#df-094b4766-9e72-4483-b6b3-b21459eb4cd1');\n",
              "        const dataTable =\n",
              "          await google.colab.kernel.invokeFunction('convertToInteractive',\n",
              "                                                    [key], {});\n",
              "        if (!dataTable) return;\n",
              "\n",
              "        const docLinkHtml = 'Like what you see? Visit the ' +\n",
              "          '<a target=\"_blank\" href=https://colab.research.google.com/notebooks/data_table.ipynb>data table notebook</a>'\n",
              "          + ' to learn more about interactive tables.';\n",
              "        element.innerHTML = '';\n",
              "        dataTable['output_type'] = 'display_data';\n",
              "        await google.colab.output.renderOutput(dataTable, element);\n",
              "        const docLink = document.createElement('div');\n",
              "        docLink.innerHTML = docLinkHtml;\n",
              "        element.appendChild(docLink);\n",
              "      }\n",
              "    </script>\n",
              "  </div>\n",
              "\n",
              "\n",
              "<div id=\"df-58c9199e-5152-4609-8d60-aa752c6000d6\">\n",
              "  <button class=\"colab-df-quickchart\" onclick=\"quickchart('df-58c9199e-5152-4609-8d60-aa752c6000d6')\"\n",
              "            title=\"Suggest charts\"\n",
              "            style=\"display:none;\">\n",
              "\n",
              "<svg xmlns=\"http://www.w3.org/2000/svg\" height=\"24px\"viewBox=\"0 0 24 24\"\n",
              "     width=\"24px\">\n",
              "    <g>\n",
              "        <path d=\"M19 3H5c-1.1 0-2 .9-2 2v14c0 1.1.9 2 2 2h14c1.1 0 2-.9 2-2V5c0-1.1-.9-2-2-2zM9 17H7v-7h2v7zm4 0h-2V7h2v10zm4 0h-2v-4h2v4z\"/>\n",
              "    </g>\n",
              "</svg>\n",
              "  </button>\n",
              "\n",
              "<style>\n",
              "  .colab-df-quickchart {\n",
              "      --bg-color: #E8F0FE;\n",
              "      --fill-color: #1967D2;\n",
              "      --hover-bg-color: #E2EBFA;\n",
              "      --hover-fill-color: #174EA6;\n",
              "      --disabled-fill-color: #AAA;\n",
              "      --disabled-bg-color: #DDD;\n",
              "  }\n",
              "\n",
              "  [theme=dark] .colab-df-quickchart {\n",
              "      --bg-color: #3B4455;\n",
              "      --fill-color: #D2E3FC;\n",
              "      --hover-bg-color: #434B5C;\n",
              "      --hover-fill-color: #FFFFFF;\n",
              "      --disabled-bg-color: #3B4455;\n",
              "      --disabled-fill-color: #666;\n",
              "  }\n",
              "\n",
              "  .colab-df-quickchart {\n",
              "    background-color: var(--bg-color);\n",
              "    border: none;\n",
              "    border-radius: 50%;\n",
              "    cursor: pointer;\n",
              "    display: none;\n",
              "    fill: var(--fill-color);\n",
              "    height: 32px;\n",
              "    padding: 0;\n",
              "    width: 32px;\n",
              "  }\n",
              "\n",
              "  .colab-df-quickchart:hover {\n",
              "    background-color: var(--hover-bg-color);\n",
              "    box-shadow: 0 1px 2px rgba(60, 64, 67, 0.3), 0 1px 3px 1px rgba(60, 64, 67, 0.15);\n",
              "    fill: var(--button-hover-fill-color);\n",
              "  }\n",
              "\n",
              "  .colab-df-quickchart-complete:disabled,\n",
              "  .colab-df-quickchart-complete:disabled:hover {\n",
              "    background-color: var(--disabled-bg-color);\n",
              "    fill: var(--disabled-fill-color);\n",
              "    box-shadow: none;\n",
              "  }\n",
              "\n",
              "  .colab-df-spinner {\n",
              "    border: 2px solid var(--fill-color);\n",
              "    border-color: transparent;\n",
              "    border-bottom-color: var(--fill-color);\n",
              "    animation:\n",
              "      spin 1s steps(1) infinite;\n",
              "  }\n",
              "\n",
              "  @keyframes spin {\n",
              "    0% {\n",
              "      border-color: transparent;\n",
              "      border-bottom-color: var(--fill-color);\n",
              "      border-left-color: var(--fill-color);\n",
              "    }\n",
              "    20% {\n",
              "      border-color: transparent;\n",
              "      border-left-color: var(--fill-color);\n",
              "      border-top-color: var(--fill-color);\n",
              "    }\n",
              "    30% {\n",
              "      border-color: transparent;\n",
              "      border-left-color: var(--fill-color);\n",
              "      border-top-color: var(--fill-color);\n",
              "      border-right-color: var(--fill-color);\n",
              "    }\n",
              "    40% {\n",
              "      border-color: transparent;\n",
              "      border-right-color: var(--fill-color);\n",
              "      border-top-color: var(--fill-color);\n",
              "    }\n",
              "    60% {\n",
              "      border-color: transparent;\n",
              "      border-right-color: var(--fill-color);\n",
              "    }\n",
              "    80% {\n",
              "      border-color: transparent;\n",
              "      border-right-color: var(--fill-color);\n",
              "      border-bottom-color: var(--fill-color);\n",
              "    }\n",
              "    90% {\n",
              "      border-color: transparent;\n",
              "      border-bottom-color: var(--fill-color);\n",
              "    }\n",
              "  }\n",
              "</style>\n",
              "\n",
              "  <script>\n",
              "    async function quickchart(key) {\n",
              "      const quickchartButtonEl =\n",
              "        document.querySelector('#' + key + ' button');\n",
              "      quickchartButtonEl.disabled = true;  // To prevent multiple clicks.\n",
              "      quickchartButtonEl.classList.add('colab-df-spinner');\n",
              "      try {\n",
              "        const charts = await google.colab.kernel.invokeFunction(\n",
              "            'suggestCharts', [key], {});\n",
              "      } catch (error) {\n",
              "        console.error('Error during call to suggestCharts:', error);\n",
              "      }\n",
              "      quickchartButtonEl.classList.remove('colab-df-spinner');\n",
              "      quickchartButtonEl.classList.add('colab-df-quickchart-complete');\n",
              "    }\n",
              "    (() => {\n",
              "      let quickchartButtonEl =\n",
              "        document.querySelector('#df-58c9199e-5152-4609-8d60-aa752c6000d6 button');\n",
              "      quickchartButtonEl.style.display =\n",
              "        google.colab.kernel.accessAllowed ? 'block' : 'none';\n",
              "    })();\n",
              "  </script>\n",
              "</div>\n",
              "\n",
              "    </div>\n",
              "  </div>\n"
            ],
            "application/vnd.google.colaboratory.intrinsic+json": {
              "type": "dataframe",
              "variable_name": "bank_df",
              "summary": "{\n  \"name\": \"bank_df\",\n  \"rows\": 45211,\n  \"fields\": [\n    {\n      \"column\": \"Age\",\n      \"properties\": {\n        \"dtype\": \"number\",\n        \"std\": 10.624198316889,\n        \"min\": 18.0,\n        \"max\": 95.0,\n        \"num_unique_values\": 77,\n        \"samples\": [\n          35.0,\n          34.0,\n          53.0\n        ],\n        \"semantic_type\": \"\",\n        \"description\": \"\"\n      }\n    },\n    {\n      \"column\": \"Job\",\n      \"properties\": {\n        \"dtype\": \"category\",\n        \"num_unique_values\": 10,\n        \"samples\": [\n          \"housemaid\",\n          \"technician\",\n          \"admin.\"\n        ],\n        \"semantic_type\": \"\",\n        \"description\": \"\"\n      }\n    },\n    {\n      \"column\": \"Marital\",\n      \"properties\": {\n        \"dtype\": \"category\",\n        \"num_unique_values\": 3,\n        \"samples\": [\n          \"married\",\n          \"single\",\n          \"divorced\"\n        ],\n        \"semantic_type\": \"\",\n        \"description\": \"\"\n      }\n    },\n    {\n      \"column\": \"Education\",\n      \"properties\": {\n        \"dtype\": \"category\",\n        \"num_unique_values\": 3,\n        \"samples\": [\n          \"tertiary\",\n          \"secondary\",\n          \"primary\"\n        ],\n        \"semantic_type\": \"\",\n        \"description\": \"\"\n      }\n    },\n    {\n      \"column\": \"Default\",\n      \"properties\": {\n        \"dtype\": \"category\",\n        \"num_unique_values\": 2,\n        \"samples\": [\n          \"yes\",\n          \"no\"\n        ],\n        \"semantic_type\": \"\",\n        \"description\": \"\"\n      }\n    },\n    {\n      \"column\": \"Balance\",\n      \"properties\": {\n        \"dtype\": \"number\",\n        \"std\": 3044,\n        \"min\": -8019,\n        \"max\": 102127,\n        \"num_unique_values\": 7168,\n        \"samples\": [\n          3276,\n          43\n        ],\n        \"semantic_type\": \"\",\n        \"description\": \"\"\n      }\n    },\n    {\n      \"column\": \"Housing\",\n      \"properties\": {\n        \"dtype\": \"category\",\n        \"num_unique_values\": 2,\n        \"samples\": [\n          \"no\",\n          \"yes\"\n        ],\n        \"semantic_type\": \"\",\n        \"description\": \"\"\n      }\n    },\n    {\n      \"column\": \"Loan\",\n      \"properties\": {\n        \"dtype\": \"category\",\n        \"num_unique_values\": 2,\n        \"samples\": [\n          \"yes\",\n          \"no\"\n        ],\n        \"semantic_type\": \"\",\n        \"description\": \"\"\n      }\n    },\n    {\n      \"column\": \"Contact\",\n      \"properties\": {\n        \"dtype\": \"category\",\n        \"num_unique_values\": 2,\n        \"samples\": [\n          \"telephone\",\n          \"cellular\"\n        ],\n        \"semantic_type\": \"\",\n        \"description\": \"\"\n      }\n    },\n    {\n      \"column\": \"Pdays\",\n      \"properties\": {\n        \"dtype\": \"number\",\n        \"std\": 100,\n        \"min\": -1,\n        \"max\": 871,\n        \"num_unique_values\": 559,\n        \"samples\": [\n          249,\n          551\n        ],\n        \"semantic_type\": \"\",\n        \"description\": \"\"\n      }\n    },\n    {\n      \"column\": \"Poutcome\",\n      \"properties\": {\n        \"dtype\": \"category\",\n        \"num_unique_values\": 3,\n        \"samples\": [\n          \"failure\",\n          \"other\"\n        ],\n        \"semantic_type\": \"\",\n        \"description\": \"\"\n      }\n    },\n    {\n      \"column\": \"Outcome\",\n      \"properties\": {\n        \"dtype\": \"category\",\n        \"num_unique_values\": 2,\n        \"samples\": [\n          \"yes\",\n          \"no\"\n        ],\n        \"semantic_type\": \"\",\n        \"description\": \"\"\n      }\n    }\n  ]\n}"
            }
          },
          "metadata": {},
          "execution_count": 2
        }
      ]
    },
    {
      "cell_type": "code",
      "source": [
        "print(bank_df.dtypes)\n",
        "print(bank_df.nunique(axis=0))"
      ],
      "metadata": {
        "colab": {
          "base_uri": "https://localhost:8080/"
        },
        "id": "gl-kgnIf8Egj",
        "outputId": "befb227b-6b67-4506-b136-66ab1d65b7e3"
      },
      "execution_count": 3,
      "outputs": [
        {
          "output_type": "stream",
          "name": "stdout",
          "text": [
            "Age          float64\n",
            "Job           object\n",
            "Marital       object\n",
            "Education     object\n",
            "Default       object\n",
            "Balance        int64\n",
            "Housing       object\n",
            "Loan          object\n",
            "Contact       object\n",
            "Pdays          int64\n",
            "Poutcome      object\n",
            "Outcome       object\n",
            "dtype: object\n",
            "Age            77\n",
            "Job            10\n",
            "Marital         3\n",
            "Education       3\n",
            "Default         2\n",
            "Balance      7168\n",
            "Housing         2\n",
            "Loan            2\n",
            "Contact         2\n",
            "Pdays         559\n",
            "Poutcome        3\n",
            "Outcome         2\n",
            "dtype: int64\n"
          ]
        }
      ]
    },
    {
      "cell_type": "markdown",
      "source": [
        "We have 12 features.\n",
        "\n",
        "**Categorical Variables:**\n",
        "- Job\n",
        "- Marital Status\n",
        "- Education\n",
        "- Default\n",
        "- Housing\n",
        "- Loan\n",
        "- Contact\n",
        "- P outcome\n",
        "- Outcome\n",
        "\n",
        "\n",
        "**Numerical Variables:**\n",
        "- Age (Continuous, ratio; since it is any value within a range and there is a true zero defined)\n",
        "- Balance (Continuous, ratio; since true zero is defined, any value within a range)\n",
        "- P days (Discrete, ratio; number of days is integer values and cannot be continuous. There is a true 0)\n",
        "\n"
      ],
      "metadata": {
        "id": "I4zRrDXa8JMS"
      }
    },
    {
      "cell_type": "code",
      "source": [
        "for col in ['Job', 'Marital', 'Education', 'Default', 'Housing', 'Loan', 'Contact', 'Poutcome', 'Outcome']:\n",
        "  print(f'{bank_df[col].value_counts()}\\n')"
      ],
      "metadata": {
        "colab": {
          "base_uri": "https://localhost:8080/"
        },
        "id": "D2pi3bBB8G50",
        "outputId": "fec7d471-1851-4d1e-d64f-abcabdbdeda8"
      },
      "execution_count": 4,
      "outputs": [
        {
          "output_type": "stream",
          "name": "stdout",
          "text": [
            "Job\n",
            "blue-collar      9732\n",
            "management       9458\n",
            "technician       7597\n",
            "admin.           5171\n",
            "services         4154\n",
            "retired          2264\n",
            "self-employed    1579\n",
            "entrepreneur     1487\n",
            "housemaid        1240\n",
            "student           938\n",
            "Name: count, dtype: int64\n",
            "\n",
            "Marital\n",
            "married     27214\n",
            "single      12790\n",
            "divorced     5207\n",
            "Name: count, dtype: int64\n",
            "\n",
            "Education\n",
            "secondary    23202\n",
            "tertiary     13301\n",
            "primary       6851\n",
            "Name: count, dtype: int64\n",
            "\n",
            "Default\n",
            "no     43509\n",
            "yes      815\n",
            "Name: count, dtype: int64\n",
            "\n",
            "Housing\n",
            "yes    25130\n",
            "no     20081\n",
            "Name: count, dtype: int64\n",
            "\n",
            "Loan\n",
            "no     37967\n",
            "yes     7244\n",
            "Name: count, dtype: int64\n",
            "\n",
            "Contact\n",
            "cellular     41285\n",
            "telephone     2906\n",
            "Name: count, dtype: int64\n",
            "\n",
            "Poutcome\n",
            "failure    4901\n",
            "other      1840\n",
            "success    1511\n",
            "Name: count, dtype: int64\n",
            "\n",
            "Outcome\n",
            "no     39922\n",
            "yes     5289\n",
            "Name: count, dtype: int64\n",
            "\n"
          ]
        }
      ]
    },
    {
      "cell_type": "markdown",
      "source": [
        "**Categorical features with order:**\n",
        "- Education (primary, secondary and tertiary)\n",
        "\n",
        "The remainder of the features do not have an order and are therefore nominal.\n",
        "\n",
        "*   **Nominal features**: Job, Marital, Default, Housing, Loan, Contact, Poutcome, Outcome\n",
        "*   **Ordinal features**: Education"
      ],
      "metadata": {
        "id": "Yofsd_Vl8_SY"
      }
    },
    {
      "cell_type": "markdown",
      "source": [
        "# **Question 2:**"
      ],
      "metadata": {
        "id": "-18RgsXW9Xix"
      }
    },
    {
      "cell_type": "code",
      "source": [
        "def plot_numerical(col):\n",
        "    print(bank_df[col].describe())\n",
        "    sns.histplot(bank_df[col], kde=True)\n",
        "    plt.title(f\"{col} Histogram\")\n",
        "    plt.show()"
      ],
      "metadata": {
        "id": "5jJm89vA8-EO"
      },
      "execution_count": 5,
      "outputs": []
    },
    {
      "cell_type": "code",
      "source": [
        "def plot_categorical(col):\n",
        "    plt.figure(figsize=(15, 4))\n",
        "    sns.countplot(data=bank_df, x=col)\n",
        "    plt.title(f\"{col} Bar Plot\")\n",
        "    plt.show()"
      ],
      "metadata": {
        "id": "qA2Wm2vh9d9E"
      },
      "execution_count": 6,
      "outputs": []
    },
    {
      "cell_type": "markdown",
      "source": [
        "**Categorical Features**"
      ],
      "metadata": {
        "id": "dp1E6KQY_1vN"
      }
    },
    {
      "cell_type": "code",
      "source": [
        "for col in ['Job', 'Marital', 'Education', 'Default', 'Housing', 'Loan', 'Contact', 'Poutcome', 'Outcome']:\n",
        "  plot_categorical(col)\n",
        "  print('-'*100)"
      ],
      "metadata": {
        "colab": {
          "base_uri": "https://localhost:8080/",
          "height": 1000
        },
        "id": "qIq9PfPD9fwK",
        "outputId": "415f7fb2-5605-4690-ea9a-1cfabf878966"
      },
      "execution_count": 9,
      "outputs": [
        {
          "output_type": "display_data",
          "data": {
            "text/plain": [
              "<Figure size 1500x400 with 1 Axes>"
            ],
            "image/png": "[encoded data removed]"
          },
          "metadata": {}
        },
        {
          "output_type": "stream",
          "name": "stdout",
          "text": [
            "----------------------------------------------------------------------------------------------------\n"
          ]
        },
        {
          "output_type": "display_data",
          "data": {
            "text/plain": [
              "<Figure size 1500x400 with 1 Axes>"
            ],
            "image/png": "[encoded data removed]"
          },
          "metadata": {}
        },
        {
          "output_type": "stream",
          "name": "stdout",
          "text": [
            "----------------------------------------------------------------------------------------------------\n"
          ]
        },
        {
          "output_type": "display_data",
          "data": {
            "text/plain": [
              "<Figure size 1500x400 with 1 Axes>"
            ],
            "image/png": "[encoded data removed]"
          },
          "metadata": {}
        },
        {
          "output_type": "stream",
          "name": "stdout",
          "text": [
            "----------------------------------------------------------------------------------------------------\n"
          ]
        },
        {
          "output_type": "display_data",
          "data": {
            "text/plain": [
              "<Figure size 1500x400 with 1 Axes>"
            ],
            "image/png": "[encoded data removed]"
          },
          "metadata": {}
        },
        {
          "output_type": "stream",
          "name": "stdout",
          "text": [
            "----------------------------------------------------------------------------------------------------\n"
          ]
        },
        {
          "output_type": "display_data",
          "data": {
            "text/plain": [
              "<Figure size 1500x400 with 1 Axes>"
            ],
            "image/png": "[encoded data removed]"
          },
          "metadata": {}
        },
        {
          "output_type": "stream",
          "name": "stdout",
          "text": [
            "----------------------------------------------------------------------------------------------------\n"
          ]
        },
        {
          "output_type": "display_data",
          "data": {
            "text/plain": [
              "<Figure size 1500x400 with 1 Axes>"
            ],
            "image/png": "[encoded data removed]"
          },
          "metadata": {}
        },
        {
          "output_type": "stream",
          "name": "stdout",
          "text": [
            "----------------------------------------------------------------------------------------------------\n"
          ]
        },
        {
          "output_type": "display_data",
          "data": {
            "text/plain": [
              "<Figure size 1500x400 with 1 Axes>"
            ],
            "image/png": "[encoded data removed]"
          },
          "metadata": {}
        },
        {
          "output_type": "stream",
          "name": "stdout",
          "text": [
            "----------------------------------------------------------------------------------------------------\n"
          ]
        },
        {
          "output_type": "display_data",
          "data": {
            "text/plain": [
              "<Figure size 1500x400 with 1 Axes>"
            ],
            "image/png": "[encoded data removed]"
          },
          "metadata": {}
        },
        {
          "output_type": "stream",
          "name": "stdout",
          "text": [
            "----------------------------------------------------------------------------------------------------\n"
          ]
        },
        {
          "output_type": "display_data",
          "data": {
            "text/plain": [
              "<Figure size 1500x400 with 1 Axes>"
            ],
            "image/png": "[encoded data removed]"
          },
          "metadata": {}
        },
        {
          "output_type": "stream",
          "name": "stdout",
          "text": [
            "----------------------------------------------------------------------------------------------------\n"
          ]
        }
      ]
    },
    {
      "cell_type": "markdown",
      "source": [
        "- Job: The majority of clients are blue-collared workers.\n",
        "\n",
        "- Marital status: Most clients are married.\n",
        "\n",
        "- Education: Most clients are married, less than half are single and an even smaller portion are divorced.\n",
        "\n",
        "- Default: The majority of clients have not defaulted on their payments\n",
        "\n",
        "- Housing: More clients have housing loans than those who do not, but there is an (almost) equal balance between the two\n",
        "\n",
        "- Loan: The majority of clients do not have loans\n",
        "\n",
        "- Contact: Most clients are accessible and can be contacted, by a majority.\n",
        "\n",
        "- P outcome: The previous marketing campaign was **not** successful for the majority of clients. This indicates a need for a change in strategy, with only a small percentage resulting in successes with the old campaign.\n",
        "\n",
        "- Outcome: The large majority of clients did not substract to the new product."
      ],
      "metadata": {
        "id": "GAcdohKX_-VW"
      }
    },
    {
      "cell_type": "markdown",
      "source": [
        "**Numerical Features:**"
      ],
      "metadata": {
        "id": "oYlEs1-E9tYB"
      }
    },
    {
      "cell_type": "code",
      "source": [
        "for col in ['Age', 'Balance', 'Pdays']:\n",
        "  plot_numerical(col)\n",
        "  print(\"-\"*100)"
      ],
      "metadata": {
        "colab": {
          "base_uri": "https://localhost:8080/",
          "height": 1000
        },
        "id": "ONwa6aDO9eM6",
        "outputId": "f04733bf-925e-48e2-c06a-d1221c727464"
      },
      "execution_count": 8,
      "outputs": [
        {
          "output_type": "stream",
          "name": "stdout",
          "text": [
            "count    42951.000000\n",
            "mean        40.924426\n",
            "std         10.624198\n",
            "min         18.000000\n",
            "25%         33.000000\n",
            "50%         39.000000\n",
            "75%         48.000000\n",
            "max         95.000000\n",
            "Name: Age, dtype: float64\n"
          ]
        },
        {
          "output_type": "display_data",
          "data": {
            "text/plain": [
              "<Figure size 640x480 with 1 Axes>"
            ],
            "image/png": "[encoded data removed]"
          },
          "metadata": {}
        },
        {
          "output_type": "stream",
          "name": "stdout",
          "text": [
            "----------------------------------------------------------------------------------------------------\n",
            "count     45211.000000\n",
            "mean       1362.272058\n",
            "std        3044.765829\n",
            "min       -8019.000000\n",
            "25%          72.000000\n",
            "50%         448.000000\n",
            "75%        1428.000000\n",
            "max      102127.000000\n",
            "Name: Balance, dtype: float64\n"
          ]
        },
        {
          "output_type": "display_data",
          "data": {
            "text/plain": [
              "<Figure size 640x480 with 1 Axes>"
            ],
            "image/png": "[encoded data removed]"
          },
          "metadata": {}
        },
        {
          "output_type": "stream",
          "name": "stdout",
          "text": [
            "----------------------------------------------------------------------------------------------------\n",
            "count    45211.000000\n",
            "mean        40.197828\n",
            "std        100.128746\n",
            "min         -1.000000\n",
            "25%         -1.000000\n",
            "50%         -1.000000\n",
            "75%         -1.000000\n",
            "max        871.000000\n",
            "Name: Pdays, dtype: float64\n"
          ]
        },
        {
          "output_type": "display_data",
          "data": {
            "text/plain": [
              "<Figure size 640x480 with 1 Axes>"
            ],
            "image/png": "[encoded data removed]"
          },
          "metadata": {}
        },
        {
          "output_type": "stream",
          "name": "stdout",
          "text": [
            "----------------------------------------------------------------------------------------------------\n"
          ]
        }
      ]
    },
    {
      "cell_type": "markdown",
      "source": [
        "- Age:\n",
        "\n",
        "The age is skewed to the right, meaning that the majority of the data includes younger people, with a mean age of ~41 years old. Data ranges from between 18 years old to 95 years old despite this concentration towards younger people, with sub-100 people per age past the mid-60s. There are only a few individuals that whose ages are actually as high as 95. Therefore, we could say that anything above the age of 62 can be considered an outlier.\n",
        "\n",
        "- Balance:\n",
        "\n",
        "The average balance is 1362.272058 and the data is heavily skewed right (much more than the age), meaning that only a few people are in the top percentages of balance. There is a large disparity between the min and max values with a huge standard deviation.\n",
        "\n",
        "- P days:\n",
        "\n",
        "With a mean of around 40 and a standard deviation of 100, we can see the difference between the mean and the median values, which is also an indication of skewedness. The data is once again right-skewed with a maximum value of 871, which is a huge delay in contacting clients. The majority of the clients were, however, contacted within the first few days.\n",
        "\n",
        "There is no indication of normality for any of the numerical features, as they are all right-skewed."
      ],
      "metadata": {
        "id": "kjAGHitA9pcz"
      }
    },
    {
      "cell_type": "markdown",
      "source": [
        "# **Question 3:**"
      ],
      "metadata": {
        "id": "y-c2p2QlBhlT"
      }
    },
    {
      "cell_type": "code",
      "source": [
        "print(bank_df.isnull().sum())"
      ],
      "metadata": {
        "colab": {
          "base_uri": "https://localhost:8080/"
        },
        "id": "mLn3vVm3BpjI",
        "outputId": "a80218f2-073f-43ed-8bb1-50e19643c32f"
      },
      "execution_count": 10,
      "outputs": [
        {
          "output_type": "stream",
          "name": "stdout",
          "text": [
            "Age           2260\n",
            "Job           1591\n",
            "Marital          0\n",
            "Education     1857\n",
            "Default        887\n",
            "Balance          0\n",
            "Housing          0\n",
            "Loan             0\n",
            "Contact       1020\n",
            "Pdays            0\n",
            "Poutcome     36959\n",
            "Outcome          0\n",
            "dtype: int64\n"
          ]
        }
      ]
    },
    {
      "cell_type": "markdown",
      "source": [
        "Default, balance, housing, loan, P days and outcome are not missing from the data and therefore do not need to be imputed. There is a heavy concentration of missing values for the age, job, education and contact. However, these can be imputed based on recurrance within the dataset.\n",
        "\n",
        "The P outcome contains missing values for the majority of the dataset (almost 37,000 out of a dataset of size ~40,000). Implicitly, this can be attributed to the fact that most clients were not contacted in previous campaigns."
      ],
      "metadata": {
        "id": "YL8LSgs7BsB8"
      }
    },
    {
      "cell_type": "code",
      "source": [
        "from sklearn.impute import SimpleImputer\n",
        "from sklearn.preprocessing import StandardScaler, OneHotEncoder, OrdinalEncoder"
      ],
      "metadata": {
        "id": "KpyGQnQuCgB_"
      },
      "execution_count": 11,
      "outputs": []
    },
    {
      "cell_type": "markdown",
      "source": [
        "The imputation strategy for each of the columns can be found below:"
      ],
      "metadata": {
        "id": "QOpzcci6Ct0y"
      }
    },
    {
      "cell_type": "code",
      "source": [
        "imputer_median = SimpleImputer(strategy='mean')\n",
        "imputer_mode = SimpleImputer(strategy='most_frequent')"
      ],
      "metadata": {
        "id": "mqybQGrrCcsr"
      },
      "execution_count": 13,
      "outputs": []
    },
    {
      "cell_type": "markdown",
      "source": [
        "- Age: The mean age will be used to impute missing values\n",
        "\n"
      ],
      "metadata": {
        "id": "IDicudraCx1Y"
      }
    },
    {
      "cell_type": "code",
      "source": [
        "bank_df['Age'] = imputer_median.fit_transform(bank_df[['Age']])"
      ],
      "metadata": {
        "id": "GYw0iVHmDWw8"
      },
      "execution_count": 14,
      "outputs": []
    },
    {
      "cell_type": "markdown",
      "source": [
        "- Job, education, default and contact: The most frequent of each categorical feature will replace the missing values implicitly, as they are categorical (there is no mean value, only a most frequently-occurring / mode)."
      ],
      "metadata": {
        "id": "KBbGYWAbDVFc"
      }
    },
    {
      "cell_type": "code",
      "source": [
        "bank_df['Job'] = imputer_mode.fit_transform(bank_df[['Job']]).ravel()\n",
        "bank_df['Education'] = imputer_mode.fit_transform(bank_df[['Education']]).ravel()\n",
        "bank_df['Default'] = imputer_mode.fit_transform(bank_df[['Default']]).ravel()\n",
        "bank_df['Contact'] = imputer_mode.fit_transform(bank_df[['Contact']]).ravel()"
      ],
      "metadata": {
        "id": "WMY-j-VXBraf"
      },
      "execution_count": null,
      "outputs": []
    },
    {
      "cell_type": "markdown",
      "source": [
        "Since we have too many missing values for the P outcome, it would not accurately reflect the data if we impute based on only the ~4,000 values. Therefore, it would make more sense to drop the feature completely."
      ],
      "metadata": {
        "id": "psjLuAgBDZox"
      }
    },
    {
      "cell_type": "code",
      "source": [
        "bank_df = bank_df.drop(['Poutcome'], axis=1)"
      ],
      "metadata": {
        "id": "uAuqQ2m-DaCM"
      },
      "execution_count": null,
      "outputs": []
    },
    {
      "cell_type": "markdown",
      "source": [
        "# **Question 4:**"
      ],
      "metadata": {
        "id": "OlsLnZ6PDnhJ"
      }
    },
    {
      "cell_type": "markdown",
      "source": [
        "We use the Pearson and Spearman correlations for the numerical features, and for categorical features, we contact the χ^2 test."
      ],
      "metadata": {
        "id": "TGvNCvt2EXgU"
      }
    },
    {
      "cell_type": "code",
      "source": [
        "from scipy.stats import pearsonr, spearmanr, chi2_contingency"
      ],
      "metadata": {
        "id": "CyDCIXp9EQCD"
      },
      "execution_count": 15,
      "outputs": []
    },
    {
      "cell_type": "code",
      "source": [
        "def numerical_correlations(p1, p2):\n",
        "  pearson_corr, pearson_p = pearsonr(bank_df[p1], bank_df[p2])\n",
        "  spearman_corr, spearman_p = spearmanr(bank_df[p1], bank_df[p2])\n",
        "\n",
        "  print(\"--------------------Pearson--------------------\")\n",
        "  print(f\"Pearson correlation between {p1} and {p2}: {pearson_corr}, \\n p-value: {pearson_p}\")\n",
        "  print(\"--------------------Spearman--------------------\")\n",
        "  print(f\"Spearman correlation between {p1} and {p2}: {spearman_corr}, \\n p-value: {spearman_p}\")"
      ],
      "metadata": {
        "id": "32081WfdDp37"
      },
      "execution_count": 31,
      "outputs": []
    },
    {
      "cell_type": "code",
      "source": [
        "numeric = ['Age', 'Balance', 'Pdays']\n",
        "\n",
        "for i, p1 in enumerate(numeric):\n",
        "  for p2 in numeric[i+1:]:\n",
        "    numerical_correlations(p1, p2)\n",
        "    print(\"\\n\")\n",
        "    print(\"-\"*100)\n",
        "    print(\"-\"*100)\n",
        "    print(\"\\n\")"
      ],
      "metadata": {
        "colab": {
          "base_uri": "https://localhost:8080/"
        },
        "id": "XTqw2t1JERSK",
        "outputId": "07a8a22c-e9d1-43a5-c0f9-c98be7cbbfe3"
      },
      "execution_count": 32,
      "outputs": [
        {
          "output_type": "stream",
          "name": "stdout",
          "text": [
            "--------------------Pearson--------------------\n",
            "Pearson correlation between Age and Balance: 0.0965891276070834, \n",
            " p-value: 3.724621339721931e-94\n",
            "--------------------Spearman--------------------\n",
            "Spearman correlation between Age and Balance: 0.09414519135657995, \n",
            " p-value: 1.5859617483227062e-89\n",
            "\n",
            "\n",
            "----------------------------------------------------------------------------------------------------\n",
            "----------------------------------------------------------------------------------------------------\n",
            "\n",
            "\n",
            "--------------------Pearson--------------------\n",
            "Pearson correlation between Age and Pdays: -0.023881074568043767, \n",
            " p-value: 3.80651430053574e-07\n",
            "--------------------Spearman--------------------\n",
            "Spearman correlation between Age and Pdays: -0.018115226410233057, \n",
            " p-value: 0.00011714356285237106\n",
            "\n",
            "\n",
            "----------------------------------------------------------------------------------------------------\n",
            "----------------------------------------------------------------------------------------------------\n",
            "\n",
            "\n",
            "--------------------Pearson--------------------\n",
            "Pearson correlation between Balance and Pdays: 0.003435321868107062, \n",
            " p-value: 0.4651272198025891\n",
            "--------------------Spearman--------------------\n",
            "Spearman correlation between Balance and Pdays: 0.06967568381373926, \n",
            " p-value: 9.007227734167458e-50\n",
            "\n",
            "\n",
            "----------------------------------------------------------------------------------------------------\n",
            "----------------------------------------------------------------------------------------------------\n",
            "\n",
            "\n"
          ]
        }
      ]
    },
    {
      "cell_type": "markdown",
      "source": [
        "*   **Null Hypothesis**: There is no correlation between two numerical features.\n",
        "*   **Alternative Hypothesis**: There is some correlation between two numerical features.\n",
        "\n",
        "Correlation values are close to 0, indicating that there is weak correlation between the numerical features. Therefore, they can all be kept as there is little to no redundancy. The small P-values also indicate that we fail to reject the null hypothesis and the correlation coefficients are accurate, except for the correlation between balance and P days using Pearson's correlation, where we reject the null hypothesis.\n",
        "\n",
        "A little more to add:\n",
        "\n",
        "- Age and Balance: weak positive correlation with both the Spearman and the Pearson correlation algos.\n",
        "- Age and P days: weak negative correlation with both the Spearman and Pearson correlation algos., but there is a (relatively) stronger weak correlation according to the Pearson algo.\n",
        "- Balance and P days: Weak positive correlation with both algos., but with a high P-value with Pearson's correlation (whereas Spearman's correlation has a significantly smaller P-value). This does nto mean that the weak correlation is invalid. It cab be attributed to the fact that Spearman's correlation is an entire order of magnitude bigger than Pearson's, meaning that the weak positive correlation calculated there is more _accurate_."
      ],
      "metadata": {
        "id": "X3NJDfgtE-gT"
      }
    },
    {
      "cell_type": "code",
      "source": [
        "def categorical_correlations(p1, p2):\n",
        "    contingency_table = pd.crosstab(bank_df[p1], bank_df[p2])\n",
        "    chi2, p, dof, expected = chi2_contingency(contingency_table)\n",
        "\n",
        "    print(f'{p1} and {p2}:')\n",
        "    print(\"Chi-squared Test Statistic: {}\".format(chi2))\n",
        "    print(\"p-value: {}\".format(p))\n",
        "    print(\"Degrees of Freedom: {}\".format(dof))\n",
        "    if (p > 0.05):\n",
        "      print('----- p-value is > 0.05 ------')\n",
        "    print('')"
      ],
      "metadata": {
        "id": "IoixHPxjEyPE"
      },
      "execution_count": 33,
      "outputs": []
    },
    {
      "cell_type": "code",
      "source": [
        "categ = ['Job', 'Marital', 'Education', 'Default', 'Housing', 'Loan', 'Contact', 'Outcome']\n",
        "\n",
        "for i, p1 in enumerate(categ):\n",
        "  for p2 in categ[i+1:]:\n",
        "    print(\"-\"*100)\n",
        "    categorical_correlations(p1, p2)\n",
        "    print(\"-\"*100)"
      ],
      "metadata": {
        "colab": {
          "base_uri": "https://localhost:8080/"
        },
        "id": "7b4gEJHuE710",
        "outputId": "8a081b0e-e1b0-4bd4-dfcb-5d3de7f98690"
      },
      "execution_count": 35,
      "outputs": [
        {
          "output_type": "stream",
          "name": "stdout",
          "text": [
            "----------------------------------------------------------------------------------------------------\n",
            "Job and Marital:\n",
            "Chi-squared Test Statistic: 3816.213723908872\n",
            "p-value: 0.0\n",
            "Degrees of Freedom: 18\n",
            "\n",
            "----------------------------------------------------------------------------------------------------\n",
            "----------------------------------------------------------------------------------------------------\n",
            "Job and Education:\n",
            "Chi-squared Test Statistic: 26490.147257973313\n",
            "p-value: 0.0\n",
            "Degrees of Freedom: 18\n",
            "\n",
            "----------------------------------------------------------------------------------------------------\n",
            "----------------------------------------------------------------------------------------------------\n",
            "Job and Default:\n",
            "Chi-squared Test Statistic: 56.70107234644534\n",
            "p-value: 5.765097720446753e-09\n",
            "Degrees of Freedom: 9\n",
            "\n",
            "----------------------------------------------------------------------------------------------------\n",
            "----------------------------------------------------------------------------------------------------\n",
            "Job and Housing:\n",
            "Chi-squared Test Statistic: 3235.7874620629764\n",
            "p-value: 0.0\n",
            "Degrees of Freedom: 9\n",
            "\n",
            "----------------------------------------------------------------------------------------------------\n",
            "----------------------------------------------------------------------------------------------------\n",
            "Job and Loan:\n",
            "Chi-squared Test Statistic: 400.2168562968818\n",
            "p-value: 1.2314670076635369e-80\n",
            "Degrees of Freedom: 9\n",
            "\n",
            "----------------------------------------------------------------------------------------------------\n",
            "----------------------------------------------------------------------------------------------------\n",
            "Job and Contact:\n",
            "Chi-squared Test Statistic: 701.8703812395145\n",
            "p-value: 2.740146427999748e-145\n",
            "Degrees of Freedom: 9\n",
            "\n",
            "----------------------------------------------------------------------------------------------------\n",
            "----------------------------------------------------------------------------------------------------\n",
            "Job and Outcome:\n",
            "Chi-squared Test Statistic: 824.2954404193335\n",
            "p-value: 1.2509934955742356e-171\n",
            "Degrees of Freedom: 9\n",
            "\n",
            "----------------------------------------------------------------------------------------------------\n",
            "----------------------------------------------------------------------------------------------------\n",
            "Marital and Education:\n",
            "Chi-squared Test Statistic: 1326.7960642219487\n",
            "p-value: 5.15612795327846e-286\n",
            "Degrees of Freedom: 4\n",
            "\n",
            "----------------------------------------------------------------------------------------------------\n",
            "----------------------------------------------------------------------------------------------------\n",
            "Marital and Default:\n",
            "Chi-squared Test Statistic: 16.691399804968995\n",
            "p-value: 0.00023741523523126138\n",
            "Degrees of Freedom: 2\n",
            "\n",
            "----------------------------------------------------------------------------------------------------\n",
            "----------------------------------------------------------------------------------------------------\n",
            "Marital and Housing:\n",
            "Chi-squared Test Statistic: 19.34482003586502\n",
            "p-value: 6.29978462961484e-05\n",
            "Degrees of Freedom: 2\n",
            "\n",
            "----------------------------------------------------------------------------------------------------\n",
            "----------------------------------------------------------------------------------------------------\n",
            "Marital and Loan:\n",
            "Chi-squared Test Statistic: 121.95253536316297\n",
            "p-value: 3.298704544931424e-27\n",
            "Degrees of Freedom: 2\n",
            "\n",
            "----------------------------------------------------------------------------------------------------\n",
            "----------------------------------------------------------------------------------------------------\n",
            "Marital and Contact:\n",
            "Chi-squared Test Statistic: 110.44186614429348\n",
            "p-value: 1.04196584002705e-24\n",
            "Degrees of Freedom: 2\n",
            "\n",
            "----------------------------------------------------------------------------------------------------\n",
            "----------------------------------------------------------------------------------------------------\n",
            "Marital and Outcome:\n",
            "Chi-squared Test Statistic: 196.49594565603957\n",
            "p-value: 2.1450999986791792e-43\n",
            "Degrees of Freedom: 2\n",
            "\n",
            "----------------------------------------------------------------------------------------------------\n",
            "----------------------------------------------------------------------------------------------------\n",
            "Education and Default:\n",
            "Chi-squared Test Statistic: 11.183952811278555\n",
            "p-value: 0.0037276532245941285\n",
            "Degrees of Freedom: 2\n",
            "\n",
            "----------------------------------------------------------------------------------------------------\n",
            "----------------------------------------------------------------------------------------------------\n",
            "Education and Housing:\n",
            "Chi-squared Test Statistic: 542.7266890675837\n",
            "p-value: 1.4073330219573434e-118\n",
            "Degrees of Freedom: 2\n",
            "\n",
            "----------------------------------------------------------------------------------------------------\n",
            "----------------------------------------------------------------------------------------------------\n",
            "Education and Loan:\n",
            "Chi-squared Test Statistic: 175.0417178470799\n",
            "p-value: 9.776286448803584e-39\n",
            "Degrees of Freedom: 2\n",
            "\n",
            "----------------------------------------------------------------------------------------------------\n",
            "----------------------------------------------------------------------------------------------------\n",
            "Education and Contact:\n",
            "Chi-squared Test Statistic: 282.1614447734011\n",
            "p-value: 5.3631601358296225e-62\n",
            "Degrees of Freedom: 2\n",
            "\n",
            "----------------------------------------------------------------------------------------------------\n",
            "----------------------------------------------------------------------------------------------------\n",
            "Education and Outcome:\n",
            "Chi-squared Test Statistic: 233.74651791939363\n",
            "p-value: 1.7481896783696894e-51\n",
            "Degrees of Freedom: 2\n",
            "\n",
            "----------------------------------------------------------------------------------------------------\n",
            "----------------------------------------------------------------------------------------------------\n",
            "Default and Housing:\n",
            "Chi-squared Test Statistic: 1.6553237620218608\n",
            "p-value: 0.19823588472079515\n",
            "Degrees of Freedom: 1\n",
            "----- p-value is > 0.05 ------\n",
            "\n",
            "----------------------------------------------------------------------------------------------------\n",
            "----------------------------------------------------------------------------------------------------\n",
            "Default and Loan:\n",
            "Chi-squared Test Statistic: 267.5774648406086\n",
            "p-value: 3.827356305105704e-60\n",
            "Degrees of Freedom: 1\n",
            "\n",
            "----------------------------------------------------------------------------------------------------\n",
            "----------------------------------------------------------------------------------------------------\n",
            "Default and Contact:\n",
            "Chi-squared Test Statistic: 12.949726200354037\n",
            "p-value: 0.0003199682866718282\n",
            "Degrees of Freedom: 1\n",
            "\n",
            "----------------------------------------------------------------------------------------------------\n",
            "----------------------------------------------------------------------------------------------------\n",
            "Default and Outcome:\n",
            "Chi-squared Test Statistic: 22.038180426237066\n",
            "p-value: 2.672804728662879e-06\n",
            "Degrees of Freedom: 1\n",
            "\n",
            "----------------------------------------------------------------------------------------------------\n",
            "----------------------------------------------------------------------------------------------------\n",
            "Housing and Loan:\n",
            "Chi-squared Test Statistic: 76.97480834381858\n",
            "p-value: 1.7315256945310098e-18\n",
            "Degrees of Freedom: 1\n",
            "\n",
            "----------------------------------------------------------------------------------------------------\n",
            "----------------------------------------------------------------------------------------------------\n",
            "Housing and Contact:\n",
            "Chi-squared Test Statistic: 279.39666051554843\n",
            "p-value: 1.0164236507462244e-62\n",
            "Degrees of Freedom: 1\n",
            "\n",
            "----------------------------------------------------------------------------------------------------\n",
            "----------------------------------------------------------------------------------------------------\n",
            "Housing and Outcome:\n",
            "Chi-squared Test Statistic: 874.822448867983\n",
            "p-value: 2.918797605076633e-192\n",
            "Degrees of Freedom: 1\n",
            "\n",
            "----------------------------------------------------------------------------------------------------\n",
            "----------------------------------------------------------------------------------------------------\n",
            "Loan and Contact:\n",
            "Chi-squared Test Statistic: 7.970652648924195\n",
            "p-value: 0.004754179458270379\n",
            "Degrees of Freedom: 1\n",
            "\n",
            "----------------------------------------------------------------------------------------------------\n",
            "----------------------------------------------------------------------------------------------------\n",
            "Loan and Outcome:\n",
            "Chi-squared Test Statistic: 209.61698034978633\n",
            "p-value: 1.665061163492756e-47\n",
            "Degrees of Freedom: 1\n",
            "\n",
            "----------------------------------------------------------------------------------------------------\n",
            "----------------------------------------------------------------------------------------------------\n",
            "Contact and Outcome:\n",
            "Chi-squared Test Statistic: 6.784784287719528\n",
            "p-value: 0.009193813943259917\n",
            "Degrees of Freedom: 1\n",
            "\n",
            "----------------------------------------------------------------------------------------------------\n"
          ]
        }
      ]
    },
    {
      "cell_type": "markdown",
      "source": [
        "The hypotheses used for testing correlation between categorical features:\n",
        "\n",
        "*   **Null Hypothesis**: There is no correlation between two categorical features.\n",
        "*   **Alternative Hypothesis**: There is some correlation between the two categorical features.\n",
        "\n",
        "Naturally, P-values above 5% (i.e. p_value > 0.05) will result in us failing to reject the null hypothesis, as with the numerical features.\n",
        "\n",
        "The only case where we are able to reject the null hypothesis is between Default and Housing. This means there is a lack of evidence to suggest that the two features display correlation.\n",
        "\n",
        "On the other hand, the following pairs of categorical features have P-values below 5% (0.05), meaning that we reject the null hypothesis. Therefore, there is enough evidence to suggest a correlation between the two categorical features.\n",
        "\n",
        "- Job, Education\n",
        "- P outcome, Outcome\n",
        "- Job, Marital Status\n",
        "- Job, Housing\n",
        "- Education, Marital Status\n",
        "\n",
        "Out of the 5 comparisons, the \"Job\" feature appears in three, meaning that there is sufficient evidence to drop the feature from the data as the outcomes are represented with other features."
      ],
      "metadata": {
        "id": "EHy51AZDHMiq"
      }
    },
    {
      "cell_type": "code",
      "source": [
        "bank_df = bank_df.drop(['Job'], axis=1)"
      ],
      "metadata": {
        "id": "dRsBc6VPHKgC"
      },
      "execution_count": 36,
      "outputs": []
    },
    {
      "cell_type": "markdown",
      "source": [
        "# **Question 5:**"
      ],
      "metadata": {
        "id": "n6NE0T_LKJJn"
      }
    },
    {
      "cell_type": "markdown",
      "source": [
        "We will scale the numerical features (as they are numerical, obviously) using the standard scaler. Other scaling techniques such as min-max scaling can also be used."
      ],
      "metadata": {
        "id": "BkRtrgrsKODa"
      }
    },
    {
      "cell_type": "code",
      "source": [
        "numeric = ['Age', 'Balance', 'Pdays']"
      ],
      "metadata": {
        "id": "v5GIgq5YG5tz"
      },
      "execution_count": 37,
      "outputs": []
    },
    {
      "cell_type": "code",
      "source": [
        "scaler = StandardScaler()\n",
        "bank_df[numeric] = scaler.fit_transform(bank_df[numeric])"
      ],
      "metadata": {
        "id": "wEvCEznxKGmo"
      },
      "execution_count": 38,
      "outputs": []
    },
    {
      "cell_type": "markdown",
      "source": [
        "For categorical features, we use different encoding techniques based on whether the data is nominal or ordinal.\n",
        "\n",
        "- For nominal ('Marital', 'Default', 'Housing', 'Loan', 'Contact', 'Outcome'), we use one-hot encoding, as there is no order or hierarchy in any of the features\n",
        "- For ordinal ('Education'), we use ordinal encoding."
      ],
      "metadata": {
        "id": "VEyMyJQKKXzy"
      }
    },
    {
      "cell_type": "code",
      "source": [
        "nominal = ['Marital', 'Default', 'Housing', 'Loan', 'Contact', 'Outcome']"
      ],
      "metadata": {
        "id": "hjqrg0dgKv4r"
      },
      "execution_count": 40,
      "outputs": []
    },
    {
      "cell_type": "code",
      "source": [
        "onehot_encoder = OneHotEncoder(sparse_output=False, drop='first')\n",
        "encoded_nominal = onehot_encoder.fit_transform(bank_df[nominal])\n",
        "encoded_nominal_df = pd.DataFrame(encoded_nominal, columns=onehot_encoder.get_feature_names_out(nominal))"
      ],
      "metadata": {
        "id": "vk-qmPcLKH6F"
      },
      "execution_count": 41,
      "outputs": []
    },
    {
      "cell_type": "code",
      "source": [
        "ordinal = ['Education']"
      ],
      "metadata": {
        "id": "0XqfH4vPKIcu"
      },
      "execution_count": 42,
      "outputs": []
    },
    {
      "cell_type": "code",
      "source": [
        "ordinal_encoder = OrdinalEncoder()\n",
        "encoded_ordinal = ordinal_encoder.fit_transform(bank_df[ordinal])\n",
        "encoded_ordinal_df = pd.DataFrame(encoded_ordinal, columns=ordinal)"
      ],
      "metadata": {
        "id": "Ds5j9Of9KzO5"
      },
      "execution_count": 43,
      "outputs": []
    },
    {
      "cell_type": "code",
      "source": [
        "bank_df = bank_df.drop(nominal + ordinal, axis=1)\n",
        "bank_df_final = pd.concat([bank_df, encoded_nominal_df, encoded_ordinal_df], axis=1)\n",
        "bank_df_final.head()"
      ],
      "metadata": {
        "colab": {
          "base_uri": "https://localhost:8080/",
          "height": 206
        },
        "id": "L9gPQVIlK0_V",
        "outputId": "b7d47d7c-8612-42c2-f80a-854950c4fc38"
      },
      "execution_count": 44,
      "outputs": [
        {
          "output_type": "execute_result",
          "data": {
            "text/plain": [
              "        Age   Balance     Pdays Poutcome  Marital_married  Marital_single  \\\n",
              "0  1.648996  0.256419 -0.411453      NaN              1.0             0.0   \n",
              "1  0.297010 -0.437895 -0.411453      NaN              0.0             1.0   \n",
              "2 -0.765265 -0.446762 -0.411453      NaN              1.0             0.0   \n",
              "3  0.586721  0.047205 -0.411453      NaN              1.0             0.0   \n",
              "4  0.000000 -0.447091 -0.411453      NaN              0.0             1.0   \n",
              "\n",
              "   Default_yes  Default_nan  Housing_yes  Loan_yes  Contact_telephone  \\\n",
              "0          0.0          0.0          1.0       0.0                0.0   \n",
              "1          0.0          0.0          1.0       0.0                0.0   \n",
              "2          0.0          0.0          1.0       1.0                0.0   \n",
              "3          0.0          0.0          1.0       0.0                0.0   \n",
              "4          0.0          0.0          0.0       0.0                0.0   \n",
              "\n",
              "   Contact_nan  Outcome_yes  Education  \n",
              "0          0.0          0.0        2.0  \n",
              "1          0.0          0.0        1.0  \n",
              "2          0.0          0.0        1.0  \n",
              "3          0.0          0.0        NaN  \n",
              "4          0.0          0.0        NaN  "
            ],
            "text/html": [
              "\n",
              "  <div id=\"df-1dd82513-11f1-409d-84de-ec30e0711d54\" class=\"colab-df-container\">\n",
              "    <div>\n",
              "<style scoped>\n",
              "    .dataframe tbody tr th:only-of-type {\n",
              "        vertical-align: middle;\n",
              "    }\n",
              "\n",
              "    .dataframe tbody tr th {\n",
              "        vertical-align: top;\n",
              "    }\n",
              "\n",
              "    .dataframe thead th {\n",
              "        text-align: right;\n",
              "    }\n",
              "</style>\n",
              "<table border=\"1\" class=\"dataframe\">\n",
              "  <thead>\n",
              "    <tr style=\"text-align: right;\">\n",
              "      <th></th>\n",
              "      <th>Age</th>\n",
              "      <th>Balance</th>\n",
              "      <th>Pdays</th>\n",
              "      <th>Poutcome</th>\n",
              "      <th>Marital_married</th>\n",
              "      <th>Marital_single</th>\n",
              "      <th>Default_yes</th>\n",
              "      <th>Default_nan</th>\n",
              "      <th>Housing_yes</th>\n",
              "      <th>Loan_yes</th>\n",
              "      <th>Contact_telephone</th>\n",
              "      <th>Contact_nan</th>\n",
              "      <th>Outcome_yes</th>\n",
              "      <th>Education</th>\n",
              "    </tr>\n",
              "  </thead>\n",
              "  <tbody>\n",
              "    <tr>\n",
              "      <th>0</th>\n",
              "      <td>1.648996</td>\n",
              "      <td>0.256419</td>\n",
              "      <td>-0.411453</td>\n",
              "      <td>NaN</td>\n",
              "      <td>1.0</td>\n",
              "      <td>0.0</td>\n",
              "      <td>0.0</td>\n",
              "      <td>0.0</td>\n",
              "      <td>1.0</td>\n",
              "      <td>0.0</td>\n",
              "      <td>0.0</td>\n",
              "      <td>0.0</td>\n",
              "      <td>0.0</td>\n",
              "      <td>2.0</td>\n",
              "    </tr>\n",
              "    <tr>\n",
              "      <th>1</th>\n",
              "      <td>0.297010</td>\n",
              "      <td>-0.437895</td>\n",
              "      <td>-0.411453</td>\n",
              "      <td>NaN</td>\n",
              "      <td>0.0</td>\n",
              "      <td>1.0</td>\n",
              "      <td>0.0</td>\n",
              "      <td>0.0</td>\n",
              "      <td>1.0</td>\n",
              "      <td>0.0</td>\n",
              "      <td>0.0</td>\n",
              "      <td>0.0</td>\n",
              "      <td>0.0</td>\n",
              "      <td>1.0</td>\n",
              "    </tr>\n",
              "    <tr>\n",
              "      <th>2</th>\n",
              "      <td>-0.765265</td>\n",
              "      <td>-0.446762</td>\n",
              "      <td>-0.411453</td>\n",
              "      <td>NaN</td>\n",
              "      <td>1.0</td>\n",
              "      <td>0.0</td>\n",
              "      <td>0.0</td>\n",
              "      <td>0.0</td>\n",
              "      <td>1.0</td>\n",
              "      <td>1.0</td>\n",
              "      <td>0.0</td>\n",
              "      <td>0.0</td>\n",
              "      <td>0.0</td>\n",
              "      <td>1.0</td>\n",
              "    </tr>\n",
              "    <tr>\n",
              "      <th>3</th>\n",
              "      <td>0.586721</td>\n",
              "      <td>0.047205</td>\n",
              "      <td>-0.411453</td>\n",
              "      <td>NaN</td>\n",
              "      <td>1.0</td>\n",
              "      <td>0.0</td>\n",
              "      <td>0.0</td>\n",
              "      <td>0.0</td>\n",
              "      <td>1.0</td>\n",
              "      <td>0.0</td>\n",
              "      <td>0.0</td>\n",
              "      <td>0.0</td>\n",
              "      <td>0.0</td>\n",
              "      <td>NaN</td>\n",
              "    </tr>\n",
              "    <tr>\n",
              "      <th>4</th>\n",
              "      <td>0.000000</td>\n",
              "      <td>-0.447091</td>\n",
              "      <td>-0.411453</td>\n",
              "      <td>NaN</td>\n",
              "      <td>0.0</td>\n",
              "      <td>1.0</td>\n",
              "      <td>0.0</td>\n",
              "      <td>0.0</td>\n",
              "      <td>0.0</td>\n",
              "      <td>0.0</td>\n",
              "      <td>0.0</td>\n",
              "      <td>0.0</td>\n",
              "      <td>0.0</td>\n",
              "      <td>NaN</td>\n",
              "    </tr>\n",
              "  </tbody>\n",
              "</table>\n",
              "</div>\n",
              "    <div class=\"colab-df-buttons\">\n",
              "\n",
              "  <div class=\"colab-df-container\">\n",
              "    <button class=\"colab-df-convert\" onclick=\"convertToInteractive('df-1dd82513-11f1-409d-84de-ec30e0711d54')\"\n",
              "            title=\"Convert this dataframe to an interactive table.\"\n",
              "            style=\"display:none;\">\n",
              "\n",
              "  <svg xmlns=\"http://www.w3.org/2000/svg\" height=\"24px\" viewBox=\"0 -960 960 960\">\n",
              "    <path d=\"M120-120v-720h720v720H120Zm60-500h600v-160H180v160Zm220 220h160v-160H400v160Zm0 220h160v-160H400v160ZM180-400h160v-160H180v160Zm440 0h160v-160H620v160ZM180-180h160v-160H180v160Zm440 0h160v-160H620v160Z\"/>\n",
              "  </svg>\n",
              "    </button>\n",
              "\n",
              "  <style>\n",
              "    .colab-df-container {\n",
              "      display:flex;\n",
              "      gap: 12px;\n",
              "    }\n",
              "\n",
              "    .colab-df-convert {\n",
              "      background-color: #E8F0FE;\n",
              "      border: none;\n",
              "      border-radius: 50%;\n",
              "      cursor: pointer;\n",
              "      display: none;\n",
              "      fill: #1967D2;\n",
              "      height: 32px;\n",
              "      padding: 0 0 0 0;\n",
              "      width: 32px;\n",
              "    }\n",
              "\n",
              "    .colab-df-convert:hover {\n",
              "      background-color: #E2EBFA;\n",
              "      box-shadow: 0px 1px 2px rgba(60, 64, 67, 0.3), 0px 1px 3px 1px rgba(60, 64, 67, 0.15);\n",
              "      fill: #174EA6;\n",
              "    }\n",
              "\n",
              "    .colab-df-buttons div {\n",
              "      margin-bottom: 4px;\n",
              "    }\n",
              "\n",
              "    [theme=dark] .colab-df-convert {\n",
              "      background-color: #3B4455;\n",
              "      fill: #D2E3FC;\n",
              "    }\n",
              "\n",
              "    [theme=dark] .colab-df-convert:hover {\n",
              "      background-color: #434B5C;\n",
              "      box-shadow: 0px 1px 3px 1px rgba(0, 0, 0, 0.15);\n",
              "      filter: drop-shadow(0px 1px 2px rgba(0, 0, 0, 0.3));\n",
              "      fill: #FFFFFF;\n",
              "    }\n",
              "  </style>\n",
              "\n",
              "    <script>\n",
              "      const buttonEl =\n",
              "        document.querySelector('#df-1dd82513-11f1-409d-84de-ec30e0711d54 button.colab-df-convert');\n",
              "      buttonEl.style.display =\n",
              "        google.colab.kernel.accessAllowed ? 'block' : 'none';\n",
              "\n",
              "      async function convertToInteractive(key) {\n",
              "        const element = document.querySelector('#df-1dd82513-11f1-409d-84de-ec30e0711d54');\n",
              "        const dataTable =\n",
              "          await google.colab.kernel.invokeFunction('convertToInteractive',\n",
              "                                                    [key], {});\n",
              "        if (!dataTable) return;\n",
              "\n",
              "        const docLinkHtml = 'Like what you see? Visit the ' +\n",
              "          '<a target=\"_blank\" href=https://colab.research.google.com/notebooks/data_table.ipynb>data table notebook</a>'\n",
              "          + ' to learn more about interactive tables.';\n",
              "        element.innerHTML = '';\n",
              "        dataTable['output_type'] = 'display_data';\n",
              "        await google.colab.output.renderOutput(dataTable, element);\n",
              "        const docLink = document.createElement('div');\n",
              "        docLink.innerHTML = docLinkHtml;\n",
              "        element.appendChild(docLink);\n",
              "      }\n",
              "    </script>\n",
              "  </div>\n",
              "\n",
              "\n",
              "<div id=\"df-7422dacf-ccf7-46c0-9949-8f9f3514d5ea\">\n",
              "  <button class=\"colab-df-quickchart\" onclick=\"quickchart('df-7422dacf-ccf7-46c0-9949-8f9f3514d5ea')\"\n",
              "            title=\"Suggest charts\"\n",
              "            style=\"display:none;\">\n",
              "\n",
              "<svg xmlns=\"http://www.w3.org/2000/svg\" height=\"24px\"viewBox=\"0 0 24 24\"\n",
              "     width=\"24px\">\n",
              "    <g>\n",
              "        <path d=\"M19 3H5c-1.1 0-2 .9-2 2v14c0 1.1.9 2 2 2h14c1.1 0 2-.9 2-2V5c0-1.1-.9-2-2-2zM9 17H7v-7h2v7zm4 0h-2V7h2v10zm4 0h-2v-4h2v4z\"/>\n",
              "    </g>\n",
              "</svg>\n",
              "  </button>\n",
              "\n",
              "<style>\n",
              "  .colab-df-quickchart {\n",
              "      --bg-color: #E8F0FE;\n",
              "      --fill-color: #1967D2;\n",
              "      --hover-bg-color: #E2EBFA;\n",
              "      --hover-fill-color: #174EA6;\n",
              "      --disabled-fill-color: #AAA;\n",
              "      --disabled-bg-color: #DDD;\n",
              "  }\n",
              "\n",
              "  [theme=dark] .colab-df-quickchart {\n",
              "      --bg-color: #3B4455;\n",
              "      --fill-color: #D2E3FC;\n",
              "      --hover-bg-color: #434B5C;\n",
              "      --hover-fill-color: #FFFFFF;\n",
              "      --disabled-bg-color: #3B4455;\n",
              "      --disabled-fill-color: #666;\n",
              "  }\n",
              "\n",
              "  .colab-df-quickchart {\n",
              "    background-color: var(--bg-color);\n",
              "    border: none;\n",
              "    border-radius: 50%;\n",
              "    cursor: pointer;\n",
              "    display: none;\n",
              "    fill: var(--fill-color);\n",
              "    height: 32px;\n",
              "    padding: 0;\n",
              "    width: 32px;\n",
              "  }\n",
              "\n",
              "  .colab-df-quickchart:hover {\n",
              "    background-color: var(--hover-bg-color);\n",
              "    box-shadow: 0 1px 2px rgba(60, 64, 67, 0.3), 0 1px 3px 1px rgba(60, 64, 67, 0.15);\n",
              "    fill: var(--button-hover-fill-color);\n",
              "  }\n",
              "\n",
              "  .colab-df-quickchart-complete:disabled,\n",
              "  .colab-df-quickchart-complete:disabled:hover {\n",
              "    background-color: var(--disabled-bg-color);\n",
              "    fill: var(--disabled-fill-color);\n",
              "    box-shadow: none;\n",
              "  }\n",
              "\n",
              "  .colab-df-spinner {\n",
              "    border: 2px solid var(--fill-color);\n",
              "    border-color: transparent;\n",
              "    border-bottom-color: var(--fill-color);\n",
              "    animation:\n",
              "      spin 1s steps(1) infinite;\n",
              "  }\n",
              "\n",
              "  @keyframes spin {\n",
              "    0% {\n",
              "      border-color: transparent;\n",
              "      border-bottom-color: var(--fill-color);\n",
              "      border-left-color: var(--fill-color);\n",
              "    }\n",
              "    20% {\n",
              "      border-color: transparent;\n",
              "      border-left-color: var(--fill-color);\n",
              "      border-top-color: var(--fill-color);\n",
              "    }\n",
              "    30% {\n",
              "      border-color: transparent;\n",
              "      border-left-color: var(--fill-color);\n",
              "      border-top-color: var(--fill-color);\n",
              "      border-right-color: var(--fill-color);\n",
              "    }\n",
              "    40% {\n",
              "      border-color: transparent;\n",
              "      border-right-color: var(--fill-color);\n",
              "      border-top-color: var(--fill-color);\n",
              "    }\n",
              "    60% {\n",
              "      border-color: transparent;\n",
              "      border-right-color: var(--fill-color);\n",
              "    }\n",
              "    80% {\n",
              "      border-color: transparent;\n",
              "      border-right-color: var(--fill-color);\n",
              "      border-bottom-color: var(--fill-color);\n",
              "    }\n",
              "    90% {\n",
              "      border-color: transparent;\n",
              "      border-bottom-color: var(--fill-color);\n",
              "    }\n",
              "  }\n",
              "</style>\n",
              "\n",
              "  <script>\n",
              "    async function quickchart(key) {\n",
              "      const quickchartButtonEl =\n",
              "        document.querySelector('#' + key + ' button');\n",
              "      quickchartButtonEl.disabled = true;  // To prevent multiple clicks.\n",
              "      quickchartButtonEl.classList.add('colab-df-spinner');\n",
              "      try {\n",
              "        const charts = await google.colab.kernel.invokeFunction(\n",
              "            'suggestCharts', [key], {});\n",
              "      } catch (error) {\n",
              "        console.error('Error during call to suggestCharts:', error);\n",
              "      }\n",
              "      quickchartButtonEl.classList.remove('colab-df-spinner');\n",
              "      quickchartButtonEl.classList.add('colab-df-quickchart-complete');\n",
              "    }\n",
              "    (() => {\n",
              "      let quickchartButtonEl =\n",
              "        document.querySelector('#df-7422dacf-ccf7-46c0-9949-8f9f3514d5ea button');\n",
              "      quickchartButtonEl.style.display =\n",
              "        google.colab.kernel.accessAllowed ? 'block' : 'none';\n",
              "    })();\n",
              "  </script>\n",
              "</div>\n",
              "\n",
              "    </div>\n",
              "  </div>\n"
            ],
            "application/vnd.google.colaboratory.intrinsic+json": {
              "type": "dataframe",
              "variable_name": "bank_df_final",
              "summary": "{\n  \"name\": \"bank_df_final\",\n  \"rows\": 45211,\n  \"fields\": [\n    {\n      \"column\": \"Age\",\n      \"properties\": {\n        \"dtype\": \"number\",\n        \"std\": 1.000011059438955,\n        \"min\": -2.21382233429104,\n        \"max\": 5.2221031452767095,\n        \"num_unique_values\": 78,\n        \"samples\": [\n          -0.9584063442341473,\n          1.6489960966532455,\n          -1.0549768050077544\n        ],\n        \"semantic_type\": \"\",\n        \"description\": \"\"\n      }\n    },\n    {\n      \"column\": \"Balance\",\n      \"properties\": {\n        \"dtype\": \"number\",\n        \"std\": 1.000011059438955,\n        \"min\": -3.0811485466035458,\n        \"max\": 33.09477575528038,\n        \"num_unique_values\": 7168,\n        \"samples\": [\n          0.6285373701776257,\n          -0.43329658900374024,\n          1.8526187700752286\n        ],\n        \"semantic_type\": \"\",\n        \"description\": \"\"\n      }\n    },\n    {\n      \"column\": \"Pdays\",\n      \"properties\": {\n        \"dtype\": \"number\",\n        \"std\": 1.000011059438955,\n        \"min\": -0.4114531064930479,\n        \"max\": 8.297430992711057,\n        \"num_unique_values\": 559,\n        \"samples\": [\n          2.085359995342991,\n          5.101510222360926,\n          0.8669152016470042\n        ],\n        \"semantic_type\": \"\",\n        \"description\": \"\"\n      }\n    },\n    {\n      \"column\": \"Poutcome\",\n      \"properties\": {\n        \"dtype\": \"category\",\n        \"num_unique_values\": 3,\n        \"samples\": [\n          \"failure\",\n          \"other\",\n          \"success\"\n        ],\n        \"semantic_type\": \"\",\n        \"description\": \"\"\n      }\n    },\n    {\n      \"column\": \"Marital_married\",\n      \"properties\": {\n        \"dtype\": \"number\",\n        \"std\": 0.4895047816459148,\n        \"min\": 0.0,\n        \"max\": 1.0,\n        \"num_unique_values\": 2,\n        \"samples\": [\n          0.0,\n          1.0\n        ],\n        \"semantic_type\": \"\",\n        \"description\": \"\"\n      }\n    },\n    {\n      \"column\": \"Marital_single\",\n      \"properties\": {\n        \"dtype\": \"number\",\n        \"std\": 0.4504111834637751,\n        \"min\": 0.0,\n        \"max\": 1.0,\n        \"num_unique_values\": 2,\n        \"samples\": [\n          1.0,\n          0.0\n        ],\n        \"semantic_type\": \"\",\n        \"description\": \"\"\n      }\n    },\n    {\n      \"column\": \"Default_yes\",\n      \"properties\": {\n        \"dtype\": \"number\",\n        \"std\": 0.1330489390167439,\n        \"min\": 0.0,\n        \"max\": 1.0,\n        \"num_unique_values\": 2,\n        \"samples\": [\n          1.0,\n          0.0\n        ],\n        \"semantic_type\": \"\",\n        \"description\": \"\"\n      }\n    },\n    {\n      \"column\": \"Default_nan\",\n      \"properties\": {\n        \"dtype\": \"number\",\n        \"std\": 0.13868898601758659,\n        \"min\": 0.0,\n        \"max\": 1.0,\n        \"num_unique_values\": 2,\n        \"samples\": [\n          1.0,\n          0.0\n        ],\n        \"semantic_type\": \"\",\n        \"description\": \"\"\n      }\n    },\n    {\n      \"column\": \"Housing_yes\",\n      \"properties\": {\n        \"dtype\": \"number\",\n        \"std\": 0.49687781026196304,\n        \"min\": 0.0,\n        \"max\": 1.0,\n        \"num_unique_values\": 2,\n        \"samples\": [\n          0.0,\n          1.0\n        ],\n        \"semantic_type\": \"\",\n        \"description\": \"\"\n      }\n    },\n    {\n      \"column\": \"Loan_yes\",\n      \"properties\": {\n        \"dtype\": \"number\",\n        \"std\": 0.3668200383232982,\n        \"min\": 0.0,\n        \"max\": 1.0,\n        \"num_unique_values\": 2,\n        \"samples\": [\n          1.0,\n          0.0\n        ],\n        \"semantic_type\": \"\",\n        \"description\": \"\"\n      }\n    },\n    {\n      \"column\": \"Contact_telephone\",\n      \"properties\": {\n        \"dtype\": \"number\",\n        \"std\": 0.24524736201067532,\n        \"min\": 0.0,\n        \"max\": 1.0,\n        \"num_unique_values\": 2,\n        \"samples\": [\n          1.0,\n          0.0\n        ],\n        \"semantic_type\": \"\",\n        \"description\": \"\"\n      }\n    },\n    {\n      \"column\": \"Contact_nan\",\n      \"properties\": {\n        \"dtype\": \"number\",\n        \"std\": 0.14850042291725088,\n        \"min\": 0.0,\n        \"max\": 1.0,\n        \"num_unique_values\": 2,\n        \"samples\": [\n          1.0,\n          0.0\n        ],\n        \"semantic_type\": \"\",\n        \"description\": \"\"\n      }\n    },\n    {\n      \"column\": \"Outcome_yes\",\n      \"properties\": {\n        \"dtype\": \"number\",\n        \"std\": 0.3214057326156639,\n        \"min\": 0.0,\n        \"max\": 1.0,\n        \"num_unique_values\": 2,\n        \"samples\": [\n          1.0,\n          0.0\n        ],\n        \"semantic_type\": \"\",\n        \"description\": \"\"\n      }\n    },\n    {\n      \"column\": \"Education\",\n      \"properties\": {\n        \"dtype\": \"number\",\n        \"std\": 0.6653575126474085,\n        \"min\": 0.0,\n        \"max\": 2.0,\n        \"num_unique_values\": 3,\n        \"samples\": [\n          2.0,\n          1.0\n        ],\n        \"semantic_type\": \"\",\n        \"description\": \"\"\n      }\n    }\n  ]\n}"
            }
          },
          "metadata": {},
          "execution_count": 44
        }
      ]
    },
    {
      "cell_type": "markdown",
      "source": [
        "# **Question 6:**"
      ],
      "metadata": {
        "id": "3xU0frCcK9hQ"
      }
    },
    {
      "cell_type": "code",
      "source": [
        "print(bank_df_final.shape)"
      ],
      "metadata": {
        "colab": {
          "base_uri": "https://localhost:8080/"
        },
        "id": "t5IOl-RRLAz0",
        "outputId": "f9beda04-a4db-45c9-8dd8-74cf2cddd706"
      },
      "execution_count": 45,
      "outputs": [
        {
          "output_type": "execute_result",
          "data": {
            "text/plain": [
              "(45211, 14)"
            ]
          },
          "metadata": {},
          "execution_count": 45
        }
      ]
    },
    {
      "cell_type": "code",
      "source": [
        "bank_df_final"
      ],
      "metadata": {
        "colab": {
          "base_uri": "https://localhost:8080/",
          "height": 423
        },
        "id": "Yew9q4c_LLA8",
        "outputId": "32ac5bc8-8e48-4697-afc9-570abeafa4d2"
      },
      "execution_count": 47,
      "outputs": [
        {
          "output_type": "execute_result",
          "data": {
            "text/plain": [
              "            Age   Balance     Pdays Poutcome  Marital_married  Marital_single  \\\n",
              "0      1.648996  0.256419 -0.411453      NaN              1.0             0.0   \n",
              "1      0.297010 -0.437895 -0.411453      NaN              0.0             1.0   \n",
              "2     -0.765265 -0.446762 -0.411453      NaN              1.0             0.0   \n",
              "3      0.586721  0.047205 -0.411453      NaN              1.0             0.0   \n",
              "4      0.000000 -0.447091 -0.411453      NaN              0.0             1.0   \n",
              "...         ...       ...       ...      ...              ...             ...   \n",
              "45206  0.973003 -0.176460 -0.411453      NaN              1.0             0.0   \n",
              "45207  2.904412  0.120447 -0.411453      NaN              0.0             0.0   \n",
              "45208  3.000983  1.429593  1.436189  success              1.0             0.0   \n",
              "45209  1.552426 -0.228024 -0.411453      NaN              1.0             0.0   \n",
              "45210 -0.378984  0.528364  1.476138    other              1.0             0.0   \n",
              "\n",
              "       Default_yes  Default_nan  Housing_yes  Loan_yes  Contact_telephone  \\\n",
              "0              0.0          0.0          1.0       0.0                0.0   \n",
              "1              0.0          0.0          1.0       0.0                0.0   \n",
              "2              0.0          0.0          1.0       1.0                0.0   \n",
              "3              0.0          0.0          1.0       0.0                0.0   \n",
              "4              0.0          0.0          0.0       0.0                0.0   \n",
              "...            ...          ...          ...       ...                ...   \n",
              "45206          0.0          0.0          0.0       0.0                0.0   \n",
              "45207          0.0          0.0          0.0       0.0                0.0   \n",
              "45208          0.0          0.0          0.0       0.0                0.0   \n",
              "45209          0.0          0.0          0.0       0.0                1.0   \n",
              "45210          0.0          0.0          0.0       0.0                0.0   \n",
              "\n",
              "       Contact_nan  Outcome_yes  Education  \n",
              "0              0.0          0.0        2.0  \n",
              "1              0.0          0.0        1.0  \n",
              "2              0.0          0.0        1.0  \n",
              "3              0.0          0.0        NaN  \n",
              "4              0.0          0.0        NaN  \n",
              "...            ...          ...        ...  \n",
              "45206          0.0          1.0        2.0  \n",
              "45207          0.0          1.0        0.0  \n",
              "45208          0.0          1.0        1.0  \n",
              "45209          0.0          0.0        1.0  \n",
              "45210          0.0          0.0        1.0  \n",
              "\n",
              "[45211 rows x 14 columns]"
            ],
            "text/html": [
              "\n",
              "  <div id=\"df-c1dd2f8f-b2b8-4ab4-9722-d79f33966a7b\" class=\"colab-df-container\">\n",
              "    <div>\n",
              "<style scoped>\n",
              "    .dataframe tbody tr th:only-of-type {\n",
              "        vertical-align: middle;\n",
              "    }\n",
              "\n",
              "    .dataframe tbody tr th {\n",
              "        vertical-align: top;\n",
              "    }\n",
              "\n",
              "    .dataframe thead th {\n",
              "        text-align: right;\n",
              "    }\n",
              "</style>\n",
              "<table border=\"1\" class=\"dataframe\">\n",
              "  <thead>\n",
              "    <tr style=\"text-align: right;\">\n",
              "      <th></th>\n",
              "      <th>Age</th>\n",
              "      <th>Balance</th>\n",
              "      <th>Pdays</th>\n",
              "      <th>Poutcome</th>\n",
              "      <th>Marital_married</th>\n",
              "      <th>Marital_single</th>\n",
              "      <th>Default_yes</th>\n",
              "      <th>Default_nan</th>\n",
              "      <th>Housing_yes</th>\n",
              "      <th>Loan_yes</th>\n",
              "      <th>Contact_telephone</th>\n",
              "      <th>Contact_nan</th>\n",
              "      <th>Outcome_yes</th>\n",
              "      <th>Education</th>\n",
              "    </tr>\n",
              "  </thead>\n",
              "  <tbody>\n",
              "    <tr>\n",
              "      <th>0</th>\n",
              "      <td>1.648996</td>\n",
              "      <td>0.256419</td>\n",
              "      <td>-0.411453</td>\n",
              "      <td>NaN</td>\n",
              "      <td>1.0</td>\n",
              "      <td>0.0</td>\n",
              "      <td>0.0</td>\n",
              "      <td>0.0</td>\n",
              "      <td>1.0</td>\n",
              "      <td>0.0</td>\n",
              "      <td>0.0</td>\n",
              "      <td>0.0</td>\n",
              "      <td>0.0</td>\n",
              "      <td>2.0</td>\n",
              "    </tr>\n",
              "    <tr>\n",
              "      <th>1</th>\n",
              "      <td>0.297010</td>\n",
              "      <td>-0.437895</td>\n",
              "      <td>-0.411453</td>\n",
              "      <td>NaN</td>\n",
              "      <td>0.0</td>\n",
              "      <td>1.0</td>\n",
              "      <td>0.0</td>\n",
              "      <td>0.0</td>\n",
              "      <td>1.0</td>\n",
              "      <td>0.0</td>\n",
              "      <td>0.0</td>\n",
              "      <td>0.0</td>\n",
              "      <td>0.0</td>\n",
              "      <td>1.0</td>\n",
              "    </tr>\n",
              "    <tr>\n",
              "      <th>2</th>\n",
              "      <td>-0.765265</td>\n",
              "      <td>-0.446762</td>\n",
              "      <td>-0.411453</td>\n",
              "      <td>NaN</td>\n",
              "      <td>1.0</td>\n",
              "      <td>0.0</td>\n",
              "      <td>0.0</td>\n",
              "      <td>0.0</td>\n",
              "      <td>1.0</td>\n",
              "      <td>1.0</td>\n",
              "      <td>0.0</td>\n",
              "      <td>0.0</td>\n",
              "      <td>0.0</td>\n",
              "      <td>1.0</td>\n",
              "    </tr>\n",
              "    <tr>\n",
              "      <th>3</th>\n",
              "      <td>0.586721</td>\n",
              "      <td>0.047205</td>\n",
              "      <td>-0.411453</td>\n",
              "      <td>NaN</td>\n",
              "      <td>1.0</td>\n",
              "      <td>0.0</td>\n",
              "      <td>0.0</td>\n",
              "      <td>0.0</td>\n",
              "      <td>1.0</td>\n",
              "      <td>0.0</td>\n",
              "      <td>0.0</td>\n",
              "      <td>0.0</td>\n",
              "      <td>0.0</td>\n",
              "      <td>NaN</td>\n",
              "    </tr>\n",
              "    <tr>\n",
              "      <th>4</th>\n",
              "      <td>0.000000</td>\n",
              "      <td>-0.447091</td>\n",
              "      <td>-0.411453</td>\n",
              "      <td>NaN</td>\n",
              "      <td>0.0</td>\n",
              "      <td>1.0</td>\n",
              "      <td>0.0</td>\n",
              "      <td>0.0</td>\n",
              "      <td>0.0</td>\n",
              "      <td>0.0</td>\n",
              "      <td>0.0</td>\n",
              "      <td>0.0</td>\n",
              "      <td>0.0</td>\n",
              "      <td>NaN</td>\n",
              "    </tr>\n",
              "    <tr>\n",
              "      <th>...</th>\n",
              "      <td>...</td>\n",
              "      <td>...</td>\n",
              "      <td>...</td>\n",
              "      <td>...</td>\n",
              "      <td>...</td>\n",
              "      <td>...</td>\n",
              "      <td>...</td>\n",
              "      <td>...</td>\n",
              "      <td>...</td>\n",
              "      <td>...</td>\n",
              "      <td>...</td>\n",
              "      <td>...</td>\n",
              "      <td>...</td>\n",
              "      <td>...</td>\n",
              "    </tr>\n",
              "    <tr>\n",
              "      <th>45206</th>\n",
              "      <td>0.973003</td>\n",
              "      <td>-0.176460</td>\n",
              "      <td>-0.411453</td>\n",
              "      <td>NaN</td>\n",
              "      <td>1.0</td>\n",
              "      <td>0.0</td>\n",
              "      <td>0.0</td>\n",
              "      <td>0.0</td>\n",
              "      <td>0.0</td>\n",
              "      <td>0.0</td>\n",
              "      <td>0.0</td>\n",
              "      <td>0.0</td>\n",
              "      <td>1.0</td>\n",
              "      <td>2.0</td>\n",
              "    </tr>\n",
              "    <tr>\n",
              "      <th>45207</th>\n",
              "      <td>2.904412</td>\n",
              "      <td>0.120447</td>\n",
              "      <td>-0.411453</td>\n",
              "      <td>NaN</td>\n",
              "      <td>0.0</td>\n",
              "      <td>0.0</td>\n",
              "      <td>0.0</td>\n",
              "      <td>0.0</td>\n",
              "      <td>0.0</td>\n",
              "      <td>0.0</td>\n",
              "      <td>0.0</td>\n",
              "      <td>0.0</td>\n",
              "      <td>1.0</td>\n",
              "      <td>0.0</td>\n",
              "    </tr>\n",
              "    <tr>\n",
              "      <th>45208</th>\n",
              "      <td>3.000983</td>\n",
              "      <td>1.429593</td>\n",
              "      <td>1.436189</td>\n",
              "      <td>success</td>\n",
              "      <td>1.0</td>\n",
              "      <td>0.0</td>\n",
              "      <td>0.0</td>\n",
              "      <td>0.0</td>\n",
              "      <td>0.0</td>\n",
              "      <td>0.0</td>\n",
              "      <td>0.0</td>\n",
              "      <td>0.0</td>\n",
              "      <td>1.0</td>\n",
              "      <td>1.0</td>\n",
              "    </tr>\n",
              "    <tr>\n",
              "      <th>45209</th>\n",
              "      <td>1.552426</td>\n",
              "      <td>-0.228024</td>\n",
              "      <td>-0.411453</td>\n",
              "      <td>NaN</td>\n",
              "      <td>1.0</td>\n",
              "      <td>0.0</td>\n",
              "      <td>0.0</td>\n",
              "      <td>0.0</td>\n",
              "      <td>0.0</td>\n",
              "      <td>0.0</td>\n",
              "      <td>1.0</td>\n",
              "      <td>0.0</td>\n",
              "      <td>0.0</td>\n",
              "      <td>1.0</td>\n",
              "    </tr>\n",
              "    <tr>\n",
              "      <th>45210</th>\n",
              "      <td>-0.378984</td>\n",
              "      <td>0.528364</td>\n",
              "      <td>1.476138</td>\n",
              "      <td>other</td>\n",
              "      <td>1.0</td>\n",
              "      <td>0.0</td>\n",
              "      <td>0.0</td>\n",
              "      <td>0.0</td>\n",
              "      <td>0.0</td>\n",
              "      <td>0.0</td>\n",
              "      <td>0.0</td>\n",
              "      <td>0.0</td>\n",
              "      <td>0.0</td>\n",
              "      <td>1.0</td>\n",
              "    </tr>\n",
              "  </tbody>\n",
              "</table>\n",
              "<p>45211 rows × 14 columns</p>\n",
              "</div>\n",
              "    <div class=\"colab-df-buttons\">\n",
              "\n",
              "  <div class=\"colab-df-container\">\n",
              "    <button class=\"colab-df-convert\" onclick=\"convertToInteractive('df-c1dd2f8f-b2b8-4ab4-9722-d79f33966a7b')\"\n",
              "            title=\"Convert this dataframe to an interactive table.\"\n",
              "            style=\"display:none;\">\n",
              "\n",
              "  <svg xmlns=\"http://www.w3.org/2000/svg\" height=\"24px\" viewBox=\"0 -960 960 960\">\n",
              "    <path d=\"M120-120v-720h720v720H120Zm60-500h600v-160H180v160Zm220 220h160v-160H400v160Zm0 220h160v-160H400v160ZM180-400h160v-160H180v160Zm440 0h160v-160H620v160ZM180-180h160v-160H180v160Zm440 0h160v-160H620v160Z\"/>\n",
              "  </svg>\n",
              "    </button>\n",
              "\n",
              "  <style>\n",
              "    .colab-df-container {\n",
              "      display:flex;\n",
              "      gap: 12px;\n",
              "    }\n",
              "\n",
              "    .colab-df-convert {\n",
              "      background-color: #E8F0FE;\n",
              "      border: none;\n",
              "      border-radius: 50%;\n",
              "      cursor: pointer;\n",
              "      display: none;\n",
              "      fill: #1967D2;\n",
              "      height: 32px;\n",
              "      padding: 0 0 0 0;\n",
              "      width: 32px;\n",
              "    }\n",
              "\n",
              "    .colab-df-convert:hover {\n",
              "      background-color: #E2EBFA;\n",
              "      box-shadow: 0px 1px 2px rgba(60, 64, 67, 0.3), 0px 1px 3px 1px rgba(60, 64, 67, 0.15);\n",
              "      fill: #174EA6;\n",
              "    }\n",
              "\n",
              "    .colab-df-buttons div {\n",
              "      margin-bottom: 4px;\n",
              "    }\n",
              "\n",
              "    [theme=dark] .colab-df-convert {\n",
              "      background-color: #3B4455;\n",
              "      fill: #D2E3FC;\n",
              "    }\n",
              "\n",
              "    [theme=dark] .colab-df-convert:hover {\n",
              "      background-color: #434B5C;\n",
              "      box-shadow: 0px 1px 3px 1px rgba(0, 0, 0, 0.15);\n",
              "      filter: drop-shadow(0px 1px 2px rgba(0, 0, 0, 0.3));\n",
              "      fill: #FFFFFF;\n",
              "    }\n",
              "  </style>\n",
              "\n",
              "    <script>\n",
              "      const buttonEl =\n",
              "        document.querySelector('#df-c1dd2f8f-b2b8-4ab4-9722-d79f33966a7b button.colab-df-convert');\n",
              "      buttonEl.style.display =\n",
              "        google.colab.kernel.accessAllowed ? 'block' : 'none';\n",
              "\n",
              "      async function convertToInteractive(key) {\n",
              "        const element = document.querySelector('#df-c1dd2f8f-b2b8-4ab4-9722-d79f33966a7b');\n",
              "        const dataTable =\n",
              "          await google.colab.kernel.invokeFunction('convertToInteractive',\n",
              "                                                    [key], {});\n",
              "        if (!dataTable) return;\n",
              "\n",
              "        const docLinkHtml = 'Like what you see? Visit the ' +\n",
              "          '<a target=\"_blank\" href=https://colab.research.google.com/notebooks/data_table.ipynb>data table notebook</a>'\n",
              "          + ' to learn more about interactive tables.';\n",
              "        element.innerHTML = '';\n",
              "        dataTable['output_type'] = 'display_data';\n",
              "        await google.colab.output.renderOutput(dataTable, element);\n",
              "        const docLink = document.createElement('div');\n",
              "        docLink.innerHTML = docLinkHtml;\n",
              "        element.appendChild(docLink);\n",
              "      }\n",
              "    </script>\n",
              "  </div>\n",
              "\n",
              "\n",
              "<div id=\"df-848cc018-38a3-4347-add0-821ec50f5070\">\n",
              "  <button class=\"colab-df-quickchart\" onclick=\"quickchart('df-848cc018-38a3-4347-add0-821ec50f5070')\"\n",
              "            title=\"Suggest charts\"\n",
              "            style=\"display:none;\">\n",
              "\n",
              "<svg xmlns=\"http://www.w3.org/2000/svg\" height=\"24px\"viewBox=\"0 0 24 24\"\n",
              "     width=\"24px\">\n",
              "    <g>\n",
              "        <path d=\"M19 3H5c-1.1 0-2 .9-2 2v14c0 1.1.9 2 2 2h14c1.1 0 2-.9 2-2V5c0-1.1-.9-2-2-2zM9 17H7v-7h2v7zm4 0h-2V7h2v10zm4 0h-2v-4h2v4z\"/>\n",
              "    </g>\n",
              "</svg>\n",
              "  </button>\n",
              "\n",
              "<style>\n",
              "  .colab-df-quickchart {\n",
              "      --bg-color: #E8F0FE;\n",
              "      --fill-color: #1967D2;\n",
              "      --hover-bg-color: #E2EBFA;\n",
              "      --hover-fill-color: #174EA6;\n",
              "      --disabled-fill-color: #AAA;\n",
              "      --disabled-bg-color: #DDD;\n",
              "  }\n",
              "\n",
              "  [theme=dark] .colab-df-quickchart {\n",
              "      --bg-color: #3B4455;\n",
              "      --fill-color: #D2E3FC;\n",
              "      --hover-bg-color: #434B5C;\n",
              "      --hover-fill-color: #FFFFFF;\n",
              "      --disabled-bg-color: #3B4455;\n",
              "      --disabled-fill-color: #666;\n",
              "  }\n",
              "\n",
              "  .colab-df-quickchart {\n",
              "    background-color: var(--bg-color);\n",
              "    border: none;\n",
              "    border-radius: 50%;\n",
              "    cursor: pointer;\n",
              "    display: none;\n",
              "    fill: var(--fill-color);\n",
              "    height: 32px;\n",
              "    padding: 0;\n",
              "    width: 32px;\n",
              "  }\n",
              "\n",
              "  .colab-df-quickchart:hover {\n",
              "    background-color: var(--hover-bg-color);\n",
              "    box-shadow: 0 1px 2px rgba(60, 64, 67, 0.3), 0 1px 3px 1px rgba(60, 64, 67, 0.15);\n",
              "    fill: var(--button-hover-fill-color);\n",
              "  }\n",
              "\n",
              "  .colab-df-quickchart-complete:disabled,\n",
              "  .colab-df-quickchart-complete:disabled:hover {\n",
              "    background-color: var(--disabled-bg-color);\n",
              "    fill: var(--disabled-fill-color);\n",
              "    box-shadow: none;\n",
              "  }\n",
              "\n",
              "  .colab-df-spinner {\n",
              "    border: 2px solid var(--fill-color);\n",
              "    border-color: transparent;\n",
              "    border-bottom-color: var(--fill-color);\n",
              "    animation:\n",
              "      spin 1s steps(1) infinite;\n",
              "  }\n",
              "\n",
              "  @keyframes spin {\n",
              "    0% {\n",
              "      border-color: transparent;\n",
              "      border-bottom-color: var(--fill-color);\n",
              "      border-left-color: var(--fill-color);\n",
              "    }\n",
              "    20% {\n",
              "      border-color: transparent;\n",
              "      border-left-color: var(--fill-color);\n",
              "      border-top-color: var(--fill-color);\n",
              "    }\n",
              "    30% {\n",
              "      border-color: transparent;\n",
              "      border-left-color: var(--fill-color);\n",
              "      border-top-color: var(--fill-color);\n",
              "      border-right-color: var(--fill-color);\n",
              "    }\n",
              "    40% {\n",
              "      border-color: transparent;\n",
              "      border-right-color: var(--fill-color);\n",
              "      border-top-color: var(--fill-color);\n",
              "    }\n",
              "    60% {\n",
              "      border-color: transparent;\n",
              "      border-right-color: var(--fill-color);\n",
              "    }\n",
              "    80% {\n",
              "      border-color: transparent;\n",
              "      border-right-color: var(--fill-color);\n",
              "      border-bottom-color: var(--fill-color);\n",
              "    }\n",
              "    90% {\n",
              "      border-color: transparent;\n",
              "      border-bottom-color: var(--fill-color);\n",
              "    }\n",
              "  }\n",
              "</style>\n",
              "\n",
              "  <script>\n",
              "    async function quickchart(key) {\n",
              "      const quickchartButtonEl =\n",
              "        document.querySelector('#' + key + ' button');\n",
              "      quickchartButtonEl.disabled = true;  // To prevent multiple clicks.\n",
              "      quickchartButtonEl.classList.add('colab-df-spinner');\n",
              "      try {\n",
              "        const charts = await google.colab.kernel.invokeFunction(\n",
              "            'suggestCharts', [key], {});\n",
              "      } catch (error) {\n",
              "        console.error('Error during call to suggestCharts:', error);\n",
              "      }\n",
              "      quickchartButtonEl.classList.remove('colab-df-spinner');\n",
              "      quickchartButtonEl.classList.add('colab-df-quickchart-complete');\n",
              "    }\n",
              "    (() => {\n",
              "      let quickchartButtonEl =\n",
              "        document.querySelector('#df-848cc018-38a3-4347-add0-821ec50f5070 button');\n",
              "      quickchartButtonEl.style.display =\n",
              "        google.colab.kernel.accessAllowed ? 'block' : 'none';\n",
              "    })();\n",
              "  </script>\n",
              "</div>\n",
              "\n",
              "  <div id=\"id_ea2432c1-ff79-40d4-988f-d0a074b82ce4\">\n",
              "    <style>\n",
              "      .colab-df-generate {\n",
              "        background-color: #E8F0FE;\n",
              "        border: none;\n",
              "        border-radius: 50%;\n",
              "        cursor: pointer;\n",
              "        display: none;\n",
              "        fill: #1967D2;\n",
              "        height: 32px;\n",
              "        padding: 0 0 0 0;\n",
              "        width: 32px;\n",
              "      }\n",
              "\n",
              "      .colab-df-generate:hover {\n",
              "        background-color: #E2EBFA;\n",
              "        box-shadow: 0px 1px 2px rgba(60, 64, 67, 0.3), 0px 1px 3px 1px rgba(60, 64, 67, 0.15);\n",
              "        fill: #174EA6;\n",
              "      }\n",
              "\n",
              "      [theme=dark] .colab-df-generate {\n",
              "        background-color: #3B4455;\n",
              "        fill: #D2E3FC;\n",
              "      }\n",
              "\n",
              "      [theme=dark] .colab-df-generate:hover {\n",
              "        background-color: #434B5C;\n",
              "        box-shadow: 0px 1px 3px 1px rgba(0, 0, 0, 0.15);\n",
              "        filter: drop-shadow(0px 1px 2px rgba(0, 0, 0, 0.3));\n",
              "        fill: #FFFFFF;\n",
              "      }\n",
              "    </style>\n",
              "    <button class=\"colab-df-generate\" onclick=\"generateWithVariable('bank_df_final')\"\n",
              "            title=\"Generate code using this dataframe.\"\n",
              "            style=\"display:none;\">\n",
              "\n",
              "  <svg xmlns=\"http://www.w3.org/2000/svg\" height=\"24px\"viewBox=\"0 0 24 24\"\n",
              "       width=\"24px\">\n",
              "    <path d=\"M7,19H8.4L18.45,9,17,7.55,7,17.6ZM5,21V16.75L18.45,3.32a2,2,0,0,1,2.83,0l1.4,1.43a1.91,1.91,0,0,1,.58,1.4,1.91,1.91,0,0,1-.58,1.4L9.25,21ZM18.45,9,17,7.55Zm-12,3A5.31,5.31,0,0,0,4.9,8.1,5.31,5.31,0,0,0,1,6.5,5.31,5.31,0,0,0,4.9,4.9,5.31,5.31,0,0,0,6.5,1,5.31,5.31,0,0,0,8.1,4.9,5.31,5.31,0,0,0,12,6.5,5.46,5.46,0,0,0,6.5,12Z\"/>\n",
              "  </svg>\n",
              "    </button>\n",
              "    <script>\n",
              "      (() => {\n",
              "      const buttonEl =\n",
              "        document.querySelector('#id_ea2432c1-ff79-40d4-988f-d0a074b82ce4 button.colab-df-generate');\n",
              "      buttonEl.style.display =\n",
              "        google.colab.kernel.accessAllowed ? 'block' : 'none';\n",
              "\n",
              "      buttonEl.onclick = () => {\n",
              "        google.colab.notebook.generateWithVariable('bank_df_final');\n",
              "      }\n",
              "      })();\n",
              "    </script>\n",
              "  </div>\n",
              "\n",
              "    </div>\n",
              "  </div>\n"
            ],
            "application/vnd.google.colaboratory.intrinsic+json": {
              "type": "dataframe",
              "variable_name": "bank_df_final",
              "summary": "{\n  \"name\": \"bank_df_final\",\n  \"rows\": 45211,\n  \"fields\": [\n    {\n      \"column\": \"Age\",\n      \"properties\": {\n        \"dtype\": \"number\",\n        \"std\": 1.000011059438955,\n        \"min\": -2.21382233429104,\n        \"max\": 5.2221031452767095,\n        \"num_unique_values\": 78,\n        \"samples\": [\n          -0.9584063442341473,\n          1.6489960966532455,\n          -1.0549768050077544\n        ],\n        \"semantic_type\": \"\",\n        \"description\": \"\"\n      }\n    },\n    {\n      \"column\": \"Balance\",\n      \"properties\": {\n        \"dtype\": \"number\",\n        \"std\": 1.000011059438955,\n        \"min\": -3.0811485466035458,\n        \"max\": 33.09477575528038,\n        \"num_unique_values\": 7168,\n        \"samples\": [\n          0.6285373701776257,\n          -0.43329658900374024,\n          1.8526187700752286\n        ],\n        \"semantic_type\": \"\",\n        \"description\": \"\"\n      }\n    },\n    {\n      \"column\": \"Pdays\",\n      \"properties\": {\n        \"dtype\": \"number\",\n        \"std\": 1.000011059438955,\n        \"min\": -0.4114531064930479,\n        \"max\": 8.297430992711057,\n        \"num_unique_values\": 559,\n        \"samples\": [\n          2.085359995342991,\n          5.101510222360926,\n          0.8669152016470042\n        ],\n        \"semantic_type\": \"\",\n        \"description\": \"\"\n      }\n    },\n    {\n      \"column\": \"Poutcome\",\n      \"properties\": {\n        \"dtype\": \"category\",\n        \"num_unique_values\": 3,\n        \"samples\": [\n          \"failure\",\n          \"other\",\n          \"success\"\n        ],\n        \"semantic_type\": \"\",\n        \"description\": \"\"\n      }\n    },\n    {\n      \"column\": \"Marital_married\",\n      \"properties\": {\n        \"dtype\": \"number\",\n        \"std\": 0.4895047816459148,\n        \"min\": 0.0,\n        \"max\": 1.0,\n        \"num_unique_values\": 2,\n        \"samples\": [\n          0.0,\n          1.0\n        ],\n        \"semantic_type\": \"\",\n        \"description\": \"\"\n      }\n    },\n    {\n      \"column\": \"Marital_single\",\n      \"properties\": {\n        \"dtype\": \"number\",\n        \"std\": 0.4504111834637751,\n        \"min\": 0.0,\n        \"max\": 1.0,\n        \"num_unique_values\": 2,\n        \"samples\": [\n          1.0,\n          0.0\n        ],\n        \"semantic_type\": \"\",\n        \"description\": \"\"\n      }\n    },\n    {\n      \"column\": \"Default_yes\",\n      \"properties\": {\n        \"dtype\": \"number\",\n        \"std\": 0.1330489390167439,\n        \"min\": 0.0,\n        \"max\": 1.0,\n        \"num_unique_values\": 2,\n        \"samples\": [\n          1.0,\n          0.0\n        ],\n        \"semantic_type\": \"\",\n        \"description\": \"\"\n      }\n    },\n    {\n      \"column\": \"Default_nan\",\n      \"properties\": {\n        \"dtype\": \"number\",\n        \"std\": 0.13868898601758659,\n        \"min\": 0.0,\n        \"max\": 1.0,\n        \"num_unique_values\": 2,\n        \"samples\": [\n          1.0,\n          0.0\n        ],\n        \"semantic_type\": \"\",\n        \"description\": \"\"\n      }\n    },\n    {\n      \"column\": \"Housing_yes\",\n      \"properties\": {\n        \"dtype\": \"number\",\n        \"std\": 0.49687781026196304,\n        \"min\": 0.0,\n        \"max\": 1.0,\n        \"num_unique_values\": 2,\n        \"samples\": [\n          0.0,\n          1.0\n        ],\n        \"semantic_type\": \"\",\n        \"description\": \"\"\n      }\n    },\n    {\n      \"column\": \"Loan_yes\",\n      \"properties\": {\n        \"dtype\": \"number\",\n        \"std\": 0.3668200383232982,\n        \"min\": 0.0,\n        \"max\": 1.0,\n        \"num_unique_values\": 2,\n        \"samples\": [\n          1.0,\n          0.0\n        ],\n        \"semantic_type\": \"\",\n        \"description\": \"\"\n      }\n    },\n    {\n      \"column\": \"Contact_telephone\",\n      \"properties\": {\n        \"dtype\": \"number\",\n        \"std\": 0.24524736201067532,\n        \"min\": 0.0,\n        \"max\": 1.0,\n        \"num_unique_values\": 2,\n        \"samples\": [\n          1.0,\n          0.0\n        ],\n        \"semantic_type\": \"\",\n        \"description\": \"\"\n      }\n    },\n    {\n      \"column\": \"Contact_nan\",\n      \"properties\": {\n        \"dtype\": \"number\",\n        \"std\": 0.14850042291725088,\n        \"min\": 0.0,\n        \"max\": 1.0,\n        \"num_unique_values\": 2,\n        \"samples\": [\n          1.0,\n          0.0\n        ],\n        \"semantic_type\": \"\",\n        \"description\": \"\"\n      }\n    },\n    {\n      \"column\": \"Outcome_yes\",\n      \"properties\": {\n        \"dtype\": \"number\",\n        \"std\": 0.3214057326156639,\n        \"min\": 0.0,\n        \"max\": 1.0,\n        \"num_unique_values\": 2,\n        \"samples\": [\n          1.0,\n          0.0\n        ],\n        \"semantic_type\": \"\",\n        \"description\": \"\"\n      }\n    },\n    {\n      \"column\": \"Education\",\n      \"properties\": {\n        \"dtype\": \"number\",\n        \"std\": 0.6653575126474085,\n        \"min\": 0.0,\n        \"max\": 2.0,\n        \"num_unique_values\": 3,\n        \"samples\": [\n          2.0,\n          1.0\n        ],\n        \"semantic_type\": \"\",\n        \"description\": \"\"\n      }\n    }\n  ]\n}"
            }
          },
          "metadata": {},
          "execution_count": 47
        }
      ]
    },
    {
      "cell_type": "code",
      "source": [],
      "metadata": {
        "id": "HE_YOTQOLLnN"
      },
      "execution_count": null,
      "outputs": []
    }
  ]
}
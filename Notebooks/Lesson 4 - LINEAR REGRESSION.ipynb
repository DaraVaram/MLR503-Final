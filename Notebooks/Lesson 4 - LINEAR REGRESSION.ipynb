{
  "cells": [
    {
      "cell_type": "markdown",
      "id": "1cf73827-9020-44e2-afea-f501d79cc17e",
      "metadata": {
        "id": "1cf73827-9020-44e2-afea-f501d79cc17e"
      },
      "source": [
        "<a href=\"https://www.aus.edu/\"><img src=\"https://i.imgur.com/pdZvnSD.png\" width=200> </a>\n",
        "\n",
        "<h1 align=center><font size = 5>Regression - Univariate and Multivariate</font>\n",
        "<h1 align=center><font size = 5>Prepared by Alex Aklson, Ph.D.</font>\n",
        "<h1 align=center><font size = 5>October 3, 2024</font>"
      ]
    },
    {
      "cell_type": "code",
      "execution_count": 1,
      "id": "3c179c02-a1ec-4144-874e-4df3fd795f08",
      "metadata": {
        "id": "3c179c02-a1ec-4144-874e-4df3fd795f08"
      },
      "outputs": [],
      "source": [
        "import numpy as np\n",
        "import pandas as pd\n",
        "import matplotlib.pyplot as plt\n",
        "import seaborn as sns\n",
        "\n",
        "from sklearn.model_selection import train_test_split\n",
        "from sklearn.preprocessing import StandardScaler, MinMaxScaler\n",
        "from sklearn.linear_model import LinearRegression, SGDRegressor\n",
        "\n",
        "from sklearn.metrics import root_mean_squared_error, mean_squared_error, r2_score\n",
        "\n",
        "from sklearn.datasets import fetch_california_housing"
      ]
    },
    {
      "cell_type": "markdown",
      "id": "18917977-42fb-4898-9c53-a5c6675c6c6b",
      "metadata": {
        "id": "18917977-42fb-4898-9c53-a5c6675c6c6b"
      },
      "source": [
        "Create a random dataset."
      ]
    },
    {
      "cell_type": "code",
      "execution_count": 2,
      "id": "02b19766-aad9-4aea-8ed8-e73b32acc6ce",
      "metadata": {
        "id": "02b19766-aad9-4aea-8ed8-e73b32acc6ce"
      },
      "outputs": [],
      "source": [
        "np.random.seed(0)\n",
        "X = 2 * np.random.rand(100, 1)\n",
        "y = 4 + 3 * X + np.random.randn(100, 1)"
      ]
    },
    {
      "cell_type": "code",
      "execution_count": 3,
      "id": "d5f07f52-fe42-4f3a-bd55-fd7d221d01aa",
      "metadata": {
        "colab": {
          "base_uri": "https://localhost:8080/",
          "height": 449
        },
        "id": "d5f07f52-fe42-4f3a-bd55-fd7d221d01aa",
        "outputId": "06960001-ca70-491d-93d1-43b60bfb6293"
      },
      "outputs": [
        {
          "output_type": "display_data",
          "data": {
            "text/plain": [
              "<Figure size 640x480 with 1 Axes>"
            ],
            "image/png": "[encoded data removed]"
          },
          "metadata": {}
        }
      ],
      "source": [
        "plt.scatter(X, y)\n",
        "plt.xlabel('Size (m2)')\n",
        "plt.ylabel('Price ($100,000)')\n",
        "plt.show()"
      ]
    },
    {
      "cell_type": "markdown",
      "id": "ad06aa4a-76f1-440e-99ef-33fb5b8150d5",
      "metadata": {
        "id": "ad06aa4a-76f1-440e-99ef-33fb5b8150d5"
      },
      "source": [
        "Split the dataset into training and test sets."
      ]
    },
    {
      "cell_type": "code",
      "execution_count": 4,
      "id": "bacd6f64-005e-4d35-abc1-f4c7073a248e",
      "metadata": {
        "id": "bacd6f64-005e-4d35-abc1-f4c7073a248e"
      },
      "outputs": [],
      "source": [
        "X_train, X_test, y_train, y_test = train_test_split(X, y, test_size=0.2, random_state=42)"
      ]
    },
    {
      "cell_type": "markdown",
      "id": "fa5792e5-3d37-4a2c-b598-e54c194b20e8",
      "metadata": {
        "id": "fa5792e5-3d37-4a2c-b598-e54c194b20e8"
      },
      "source": [
        "### Normal Equation (Ordinary Least Squares)"
      ]
    },
    {
      "cell_type": "code",
      "execution_count": 5,
      "id": "041806ca-aa96-4e5e-a06b-e5b70e1bb94c",
      "metadata": {
        "id": "041806ca-aa96-4e5e-a06b-e5b70e1bb94c"
      },
      "outputs": [],
      "source": [
        "model = LinearRegression()"
      ]
    },
    {
      "cell_type": "code",
      "execution_count": 6,
      "id": "1789e9d4-2e3c-420f-8a6a-64a0b9d61272",
      "metadata": {
        "colab": {
          "base_uri": "https://localhost:8080/",
          "height": 80
        },
        "id": "1789e9d4-2e3c-420f-8a6a-64a0b9d61272",
        "outputId": "854483ce-2209-4944-aa88-2545d41b1fb1"
      },
      "outputs": [
        {
          "output_type": "execute_result",
          "data": {
            "text/plain": [
              "LinearRegression()"
            ],
            "text/html": [
              "<style>#sk-container-id-1 {\n",
              "  /* Definition of color scheme common for light and dark mode */\n",
              "  --sklearn-color-text: black;\n",
              "  --sklearn-color-line: gray;\n",
              "  /* Definition of color scheme for unfitted estimators */\n",
              "  --sklearn-color-unfitted-level-0: #fff5e6;\n",
              "  --sklearn-color-unfitted-level-1: #f6e4d2;\n",
              "  --sklearn-color-unfitted-level-2: #ffe0b3;\n",
              "  --sklearn-color-unfitted-level-3: chocolate;\n",
              "  /* Definition of color scheme for fitted estimators */\n",
              "  --sklearn-color-fitted-level-0: #f0f8ff;\n",
              "  --sklearn-color-fitted-level-1: #d4ebff;\n",
              "  --sklearn-color-fitted-level-2: #b3dbfd;\n",
              "  --sklearn-color-fitted-level-3: cornflowerblue;\n",
              "\n",
              "  /* Specific color for light theme */\n",
              "  --sklearn-color-text-on-default-background: var(--sg-text-color, var(--theme-code-foreground, var(--jp-content-font-color1, black)));\n",
              "  --sklearn-color-background: var(--sg-background-color, var(--theme-background, var(--jp-layout-color0, white)));\n",
              "  --sklearn-color-border-box: var(--sg-text-color, var(--theme-code-foreground, var(--jp-content-font-color1, black)));\n",
              "  --sklearn-color-icon: #696969;\n",
              "\n",
              "  @media (prefers-color-scheme: dark) {\n",
              "    /* Redefinition of color scheme for dark theme */\n",
              "    --sklearn-color-text-on-default-background: var(--sg-text-color, var(--theme-code-foreground, var(--jp-content-font-color1, white)));\n",
              "    --sklearn-color-background: var(--sg-background-color, var(--theme-background, var(--jp-layout-color0, #111)));\n",
              "    --sklearn-color-border-box: var(--sg-text-color, var(--theme-code-foreground, var(--jp-content-font-color1, white)));\n",
              "    --sklearn-color-icon: #878787;\n",
              "  }\n",
              "}\n",
              "\n",
              "#sk-container-id-1 {\n",
              "  color: var(--sklearn-color-text);\n",
              "}\n",
              "\n",
              "#sk-container-id-1 pre {\n",
              "  padding: 0;\n",
              "}\n",
              "\n",
              "#sk-container-id-1 input.sk-hidden--visually {\n",
              "  border: 0;\n",
              "  clip: rect(1px 1px 1px 1px);\n",
              "  clip: rect(1px, 1px, 1px, 1px);\n",
              "  height: 1px;\n",
              "  margin: -1px;\n",
              "  overflow: hidden;\n",
              "  padding: 0;\n",
              "  position: absolute;\n",
              "  width: 1px;\n",
              "}\n",
              "\n",
              "#sk-container-id-1 div.sk-dashed-wrapped {\n",
              "  border: 1px dashed var(--sklearn-color-line);\n",
              "  margin: 0 0.4em 0.5em 0.4em;\n",
              "  box-sizing: border-box;\n",
              "  padding-bottom: 0.4em;\n",
              "  background-color: var(--sklearn-color-background);\n",
              "}\n",
              "\n",
              "#sk-container-id-1 div.sk-container {\n",
              "  /* jupyter's `normalize.less` sets `[hidden] { display: none; }`\n",
              "     but bootstrap.min.css set `[hidden] { display: none !important; }`\n",
              "     so we also need the `!important` here to be able to override the\n",
              "     default hidden behavior on the sphinx rendered scikit-learn.org.\n",
              "     See: https://github.com/scikit-learn/scikit-learn/issues/21755 */\n",
              "  display: inline-block !important;\n",
              "  position: relative;\n",
              "}\n",
              "\n",
              "#sk-container-id-1 div.sk-text-repr-fallback {\n",
              "  display: none;\n",
              "}\n",
              "\n",
              "div.sk-parallel-item,\n",
              "div.sk-serial,\n",
              "div.sk-item {\n",
              "  /* draw centered vertical line to link estimators */\n",
              "  background-image: linear-gradient(var(--sklearn-color-text-on-default-background), var(--sklearn-color-text-on-default-background));\n",
              "  background-size: 2px 100%;\n",
              "  background-repeat: no-repeat;\n",
              "  background-position: center center;\n",
              "}\n",
              "\n",
              "/* Parallel-specific style estimator block */\n",
              "\n",
              "#sk-container-id-1 div.sk-parallel-item::after {\n",
              "  content: \"\";\n",
              "  width: 100%;\n",
              "  border-bottom: 2px solid var(--sklearn-color-text-on-default-background);\n",
              "  flex-grow: 1;\n",
              "}\n",
              "\n",
              "#sk-container-id-1 div.sk-parallel {\n",
              "  display: flex;\n",
              "  align-items: stretch;\n",
              "  justify-content: center;\n",
              "  background-color: var(--sklearn-color-background);\n",
              "  position: relative;\n",
              "}\n",
              "\n",
              "#sk-container-id-1 div.sk-parallel-item {\n",
              "  display: flex;\n",
              "  flex-direction: column;\n",
              "}\n",
              "\n",
              "#sk-container-id-1 div.sk-parallel-item:first-child::after {\n",
              "  align-self: flex-end;\n",
              "  width: 50%;\n",
              "}\n",
              "\n",
              "#sk-container-id-1 div.sk-parallel-item:last-child::after {\n",
              "  align-self: flex-start;\n",
              "  width: 50%;\n",
              "}\n",
              "\n",
              "#sk-container-id-1 div.sk-parallel-item:only-child::after {\n",
              "  width: 0;\n",
              "}\n",
              "\n",
              "/* Serial-specific style estimator block */\n",
              "\n",
              "#sk-container-id-1 div.sk-serial {\n",
              "  display: flex;\n",
              "  flex-direction: column;\n",
              "  align-items: center;\n",
              "  background-color: var(--sklearn-color-background);\n",
              "  padding-right: 1em;\n",
              "  padding-left: 1em;\n",
              "}\n",
              "\n",
              "\n",
              "/* Toggleable style: style used for estimator/Pipeline/ColumnTransformer box that is\n",
              "clickable and can be expanded/collapsed.\n",
              "- Pipeline and ColumnTransformer use this feature and define the default style\n",
              "- Estimators will overwrite some part of the style using the `sk-estimator` class\n",
              "*/\n",
              "\n",
              "/* Pipeline and ColumnTransformer style (default) */\n",
              "\n",
              "#sk-container-id-1 div.sk-toggleable {\n",
              "  /* Default theme specific background. It is overwritten whether we have a\n",
              "  specific estimator or a Pipeline/ColumnTransformer */\n",
              "  background-color: var(--sklearn-color-background);\n",
              "}\n",
              "\n",
              "/* Toggleable label */\n",
              "#sk-container-id-1 label.sk-toggleable__label {\n",
              "  cursor: pointer;\n",
              "  display: block;\n",
              "  width: 100%;\n",
              "  margin-bottom: 0;\n",
              "  padding: 0.5em;\n",
              "  box-sizing: border-box;\n",
              "  text-align: center;\n",
              "}\n",
              "\n",
              "#sk-container-id-1 label.sk-toggleable__label-arrow:before {\n",
              "  /* Arrow on the left of the label */\n",
              "  content: \"▸\";\n",
              "  float: left;\n",
              "  margin-right: 0.25em;\n",
              "  color: var(--sklearn-color-icon);\n",
              "}\n",
              "\n",
              "#sk-container-id-1 label.sk-toggleable__label-arrow:hover:before {\n",
              "  color: var(--sklearn-color-text);\n",
              "}\n",
              "\n",
              "/* Toggleable content - dropdown */\n",
              "\n",
              "#sk-container-id-1 div.sk-toggleable__content {\n",
              "  max-height: 0;\n",
              "  max-width: 0;\n",
              "  overflow: hidden;\n",
              "  text-align: left;\n",
              "  /* unfitted */\n",
              "  background-color: var(--sklearn-color-unfitted-level-0);\n",
              "}\n",
              "\n",
              "#sk-container-id-1 div.sk-toggleable__content.fitted {\n",
              "  /* fitted */\n",
              "  background-color: var(--sklearn-color-fitted-level-0);\n",
              "}\n",
              "\n",
              "#sk-container-id-1 div.sk-toggleable__content pre {\n",
              "  margin: 0.2em;\n",
              "  border-radius: 0.25em;\n",
              "  color: var(--sklearn-color-text);\n",
              "  /* unfitted */\n",
              "  background-color: var(--sklearn-color-unfitted-level-0);\n",
              "}\n",
              "\n",
              "#sk-container-id-1 div.sk-toggleable__content.fitted pre {\n",
              "  /* unfitted */\n",
              "  background-color: var(--sklearn-color-fitted-level-0);\n",
              "}\n",
              "\n",
              "#sk-container-id-1 input.sk-toggleable__control:checked~div.sk-toggleable__content {\n",
              "  /* Expand drop-down */\n",
              "  max-height: 200px;\n",
              "  max-width: 100%;\n",
              "  overflow: auto;\n",
              "}\n",
              "\n",
              "#sk-container-id-1 input.sk-toggleable__control:checked~label.sk-toggleable__label-arrow:before {\n",
              "  content: \"▾\";\n",
              "}\n",
              "\n",
              "/* Pipeline/ColumnTransformer-specific style */\n",
              "\n",
              "#sk-container-id-1 div.sk-label input.sk-toggleable__control:checked~label.sk-toggleable__label {\n",
              "  color: var(--sklearn-color-text);\n",
              "  background-color: var(--sklearn-color-unfitted-level-2);\n",
              "}\n",
              "\n",
              "#sk-container-id-1 div.sk-label.fitted input.sk-toggleable__control:checked~label.sk-toggleable__label {\n",
              "  background-color: var(--sklearn-color-fitted-level-2);\n",
              "}\n",
              "\n",
              "/* Estimator-specific style */\n",
              "\n",
              "/* Colorize estimator box */\n",
              "#sk-container-id-1 div.sk-estimator input.sk-toggleable__control:checked~label.sk-toggleable__label {\n",
              "  /* unfitted */\n",
              "  background-color: var(--sklearn-color-unfitted-level-2);\n",
              "}\n",
              "\n",
              "#sk-container-id-1 div.sk-estimator.fitted input.sk-toggleable__control:checked~label.sk-toggleable__label {\n",
              "  /* fitted */\n",
              "  background-color: var(--sklearn-color-fitted-level-2);\n",
              "}\n",
              "\n",
              "#sk-container-id-1 div.sk-label label.sk-toggleable__label,\n",
              "#sk-container-id-1 div.sk-label label {\n",
              "  /* The background is the default theme color */\n",
              "  color: var(--sklearn-color-text-on-default-background);\n",
              "}\n",
              "\n",
              "/* On hover, darken the color of the background */\n",
              "#sk-container-id-1 div.sk-label:hover label.sk-toggleable__label {\n",
              "  color: var(--sklearn-color-text);\n",
              "  background-color: var(--sklearn-color-unfitted-level-2);\n",
              "}\n",
              "\n",
              "/* Label box, darken color on hover, fitted */\n",
              "#sk-container-id-1 div.sk-label.fitted:hover label.sk-toggleable__label.fitted {\n",
              "  color: var(--sklearn-color-text);\n",
              "  background-color: var(--sklearn-color-fitted-level-2);\n",
              "}\n",
              "\n",
              "/* Estimator label */\n",
              "\n",
              "#sk-container-id-1 div.sk-label label {\n",
              "  font-family: monospace;\n",
              "  font-weight: bold;\n",
              "  display: inline-block;\n",
              "  line-height: 1.2em;\n",
              "}\n",
              "\n",
              "#sk-container-id-1 div.sk-label-container {\n",
              "  text-align: center;\n",
              "}\n",
              "\n",
              "/* Estimator-specific */\n",
              "#sk-container-id-1 div.sk-estimator {\n",
              "  font-family: monospace;\n",
              "  border: 1px dotted var(--sklearn-color-border-box);\n",
              "  border-radius: 0.25em;\n",
              "  box-sizing: border-box;\n",
              "  margin-bottom: 0.5em;\n",
              "  /* unfitted */\n",
              "  background-color: var(--sklearn-color-unfitted-level-0);\n",
              "}\n",
              "\n",
              "#sk-container-id-1 div.sk-estimator.fitted {\n",
              "  /* fitted */\n",
              "  background-color: var(--sklearn-color-fitted-level-0);\n",
              "}\n",
              "\n",
              "/* on hover */\n",
              "#sk-container-id-1 div.sk-estimator:hover {\n",
              "  /* unfitted */\n",
              "  background-color: var(--sklearn-color-unfitted-level-2);\n",
              "}\n",
              "\n",
              "#sk-container-id-1 div.sk-estimator.fitted:hover {\n",
              "  /* fitted */\n",
              "  background-color: var(--sklearn-color-fitted-level-2);\n",
              "}\n",
              "\n",
              "/* Specification for estimator info (e.g. \"i\" and \"?\") */\n",
              "\n",
              "/* Common style for \"i\" and \"?\" */\n",
              "\n",
              ".sk-estimator-doc-link,\n",
              "a:link.sk-estimator-doc-link,\n",
              "a:visited.sk-estimator-doc-link {\n",
              "  float: right;\n",
              "  font-size: smaller;\n",
              "  line-height: 1em;\n",
              "  font-family: monospace;\n",
              "  background-color: var(--sklearn-color-background);\n",
              "  border-radius: 1em;\n",
              "  height: 1em;\n",
              "  width: 1em;\n",
              "  text-decoration: none !important;\n",
              "  margin-left: 1ex;\n",
              "  /* unfitted */\n",
              "  border: var(--sklearn-color-unfitted-level-1) 1pt solid;\n",
              "  color: var(--sklearn-color-unfitted-level-1);\n",
              "}\n",
              "\n",
              ".sk-estimator-doc-link.fitted,\n",
              "a:link.sk-estimator-doc-link.fitted,\n",
              "a:visited.sk-estimator-doc-link.fitted {\n",
              "  /* fitted */\n",
              "  border: var(--sklearn-color-fitted-level-1) 1pt solid;\n",
              "  color: var(--sklearn-color-fitted-level-1);\n",
              "}\n",
              "\n",
              "/* On hover */\n",
              "div.sk-estimator:hover .sk-estimator-doc-link:hover,\n",
              ".sk-estimator-doc-link:hover,\n",
              "div.sk-label-container:hover .sk-estimator-doc-link:hover,\n",
              ".sk-estimator-doc-link:hover {\n",
              "  /* unfitted */\n",
              "  background-color: var(--sklearn-color-unfitted-level-3);\n",
              "  color: var(--sklearn-color-background);\n",
              "  text-decoration: none;\n",
              "}\n",
              "\n",
              "div.sk-estimator.fitted:hover .sk-estimator-doc-link.fitted:hover,\n",
              ".sk-estimator-doc-link.fitted:hover,\n",
              "div.sk-label-container:hover .sk-estimator-doc-link.fitted:hover,\n",
              ".sk-estimator-doc-link.fitted:hover {\n",
              "  /* fitted */\n",
              "  background-color: var(--sklearn-color-fitted-level-3);\n",
              "  color: var(--sklearn-color-background);\n",
              "  text-decoration: none;\n",
              "}\n",
              "\n",
              "/* Span, style for the box shown on hovering the info icon */\n",
              ".sk-estimator-doc-link span {\n",
              "  display: none;\n",
              "  z-index: 9999;\n",
              "  position: relative;\n",
              "  font-weight: normal;\n",
              "  right: .2ex;\n",
              "  padding: .5ex;\n",
              "  margin: .5ex;\n",
              "  width: min-content;\n",
              "  min-width: 20ex;\n",
              "  max-width: 50ex;\n",
              "  color: var(--sklearn-color-text);\n",
              "  box-shadow: 2pt 2pt 4pt #999;\n",
              "  /* unfitted */\n",
              "  background: var(--sklearn-color-unfitted-level-0);\n",
              "  border: .5pt solid var(--sklearn-color-unfitted-level-3);\n",
              "}\n",
              "\n",
              ".sk-estimator-doc-link.fitted span {\n",
              "  /* fitted */\n",
              "  background: var(--sklearn-color-fitted-level-0);\n",
              "  border: var(--sklearn-color-fitted-level-3);\n",
              "}\n",
              "\n",
              ".sk-estimator-doc-link:hover span {\n",
              "  display: block;\n",
              "}\n",
              "\n",
              "/* \"?\"-specific style due to the `<a>` HTML tag */\n",
              "\n",
              "#sk-container-id-1 a.estimator_doc_link {\n",
              "  float: right;\n",
              "  font-size: 1rem;\n",
              "  line-height: 1em;\n",
              "  font-family: monospace;\n",
              "  background-color: var(--sklearn-color-background);\n",
              "  border-radius: 1rem;\n",
              "  height: 1rem;\n",
              "  width: 1rem;\n",
              "  text-decoration: none;\n",
              "  /* unfitted */\n",
              "  color: var(--sklearn-color-unfitted-level-1);\n",
              "  border: var(--sklearn-color-unfitted-level-1) 1pt solid;\n",
              "}\n",
              "\n",
              "#sk-container-id-1 a.estimator_doc_link.fitted {\n",
              "  /* fitted */\n",
              "  border: var(--sklearn-color-fitted-level-1) 1pt solid;\n",
              "  color: var(--sklearn-color-fitted-level-1);\n",
              "}\n",
              "\n",
              "/* On hover */\n",
              "#sk-container-id-1 a.estimator_doc_link:hover {\n",
              "  /* unfitted */\n",
              "  background-color: var(--sklearn-color-unfitted-level-3);\n",
              "  color: var(--sklearn-color-background);\n",
              "  text-decoration: none;\n",
              "}\n",
              "\n",
              "#sk-container-id-1 a.estimator_doc_link.fitted:hover {\n",
              "  /* fitted */\n",
              "  background-color: var(--sklearn-color-fitted-level-3);\n",
              "}\n",
              "</style><div id=\"sk-container-id-1\" class=\"sk-top-container\"><div class=\"sk-text-repr-fallback\"><pre>LinearRegression()</pre><b>In a Jupyter environment, please rerun this cell to show the HTML representation or trust the notebook. <br />On GitHub, the HTML representation is unable to render, please try loading this page with nbviewer.org.</b></div><div class=\"sk-container\" hidden><div class=\"sk-item\"><div class=\"sk-estimator fitted sk-toggleable\"><input class=\"sk-toggleable__control sk-hidden--visually\" id=\"sk-estimator-id-1\" type=\"checkbox\" checked><label for=\"sk-estimator-id-1\" class=\"sk-toggleable__label fitted sk-toggleable__label-arrow fitted\">&nbsp;&nbsp;LinearRegression<a class=\"sk-estimator-doc-link fitted\" rel=\"noreferrer\" target=\"_blank\" href=\"https://scikit-learn.org/1.5/modules/generated/sklearn.linear_model.LinearRegression.html\">?<span>Documentation for LinearRegression</span></a><span class=\"sk-estimator-doc-link fitted\">i<span>Fitted</span></span></label><div class=\"sk-toggleable__content fitted\"><pre>LinearRegression()</pre></div> </div></div></div></div>"
            ]
          },
          "metadata": {},
          "execution_count": 6
        }
      ],
      "source": [
        "model.fit(X_train, y_train)"
      ]
    },
    {
      "cell_type": "markdown",
      "id": "b4f20eb7-0803-4981-88d8-c0a15546cb23",
      "metadata": {
        "id": "b4f20eb7-0803-4981-88d8-c0a15546cb23"
      },
      "source": [
        "Get the parameters (weight values)"
      ]
    },
    {
      "cell_type": "code",
      "execution_count": 7,
      "id": "6ea2be67-030e-48d5-8e3f-c673c3bcf468",
      "metadata": {
        "id": "6ea2be67-030e-48d5-8e3f-c673c3bcf468"
      },
      "outputs": [],
      "source": [
        "weight_0 = model.intercept_  # this is the bias term (w_0)\n",
        "weight_1 = model.coef_  # this is the slope (w_1)"
      ]
    },
    {
      "cell_type": "code",
      "execution_count": 8,
      "id": "cd2a4272-d9b9-47f6-ab8c-a55192d6de98",
      "metadata": {
        "colab": {
          "base_uri": "https://localhost:8080/"
        },
        "id": "cd2a4272-d9b9-47f6-ab8c-a55192d6de98",
        "outputId": "da1dc4a4-bb57-4e9b-a711-838faa2126ea"
      },
      "outputs": [
        {
          "output_type": "stream",
          "name": "stdout",
          "text": [
            "Intercept (w_0): [4.20634019]\n",
            "Coefficient (w_1): [[2.9902591]]\n"
          ]
        }
      ],
      "source": [
        "print(\"Intercept (w_0): {}\".format(weight_0))\n",
        "print(\"Coefficient (w_1): {}\".format(weight_1))"
      ]
    },
    {
      "cell_type": "markdown",
      "id": "46b2ca9e-8cf0-44f7-b111-701746fce59f",
      "metadata": {
        "id": "46b2ca9e-8cf0-44f7-b111-701746fce59f"
      },
      "source": [
        "Let's predict the values of the samples in the test set."
      ]
    },
    {
      "cell_type": "code",
      "execution_count": 9,
      "id": "9b362824-718b-4f27-afce-1a4314d88db0",
      "metadata": {
        "id": "9b362824-718b-4f27-afce-1a4314d88db0"
      },
      "outputs": [],
      "source": [
        "y_pred = model.predict(X_test)"
      ]
    },
    {
      "cell_type": "code",
      "execution_count": 10,
      "id": "0a7593bf-42db-4f5b-aea2-7babb6149820",
      "metadata": {
        "colab": {
          "base_uri": "https://localhost:8080/"
        },
        "id": "0a7593bf-42db-4f5b-aea2-7babb6149820",
        "outputId": "82b4724e-c44f-4c37-f32f-3ca7fe08545d"
      },
      "outputs": [
        {
          "output_type": "execute_result",
          "data": {
            "text/plain": [
              "20"
            ]
          },
          "metadata": {},
          "execution_count": 10
        }
      ],
      "source": [
        "len(y_pred)"
      ]
    },
    {
      "cell_type": "code",
      "execution_count": 11,
      "id": "baf241b9-c026-4f79-a94a-b7f50d766ea2",
      "metadata": {
        "colab": {
          "base_uri": "https://localhost:8080/"
        },
        "id": "baf241b9-c026-4f79-a94a-b7f50d766ea2",
        "outputId": "47f079e7-cbc4-4768-e329-17747763ec58"
      },
      "outputs": [
        {
          "output_type": "execute_result",
          "data": {
            "text/plain": [
              "array([[ 8.3476823 ],\n",
              "       [ 4.81662104],\n",
              "       [10.04607379],\n",
              "       [ 8.21710217],\n",
              "       [ 8.19395067],\n",
              "       [ 8.2839789 ],\n",
              "       [ 6.96622591],\n",
              "       [ 6.10804438],\n",
              "       [ 8.94126619],\n",
              "       [ 7.48852934],\n",
              "       [ 8.8601208 ],\n",
              "       [ 5.78851984],\n",
              "       [ 7.82362983],\n",
              "       [ 7.60586977],\n",
              "       [ 6.11154761],\n",
              "       [ 6.74001543],\n",
              "       [ 5.89767238],\n",
              "       [ 4.92517791],\n",
              "       [ 7.60354103],\n",
              "       [ 8.83665886]])"
            ]
          },
          "metadata": {},
          "execution_count": 11
        }
      ],
      "source": [
        "y_pred"
      ]
    },
    {
      "cell_type": "markdown",
      "id": "7a0881ed-f17c-4d4f-8243-9dba0d01ef7d",
      "metadata": {
        "id": "7a0881ed-f17c-4d4f-8243-9dba0d01ef7d"
      },
      "source": [
        "Plot the data and the regression line"
      ]
    },
    {
      "cell_type": "code",
      "execution_count": 12,
      "id": "13e41426-612d-4bb6-9de4-50dbf8e51d25",
      "metadata": {
        "colab": {
          "base_uri": "https://localhost:8080/",
          "height": 465
        },
        "id": "13e41426-612d-4bb6-9de4-50dbf8e51d25",
        "outputId": "bd366e50-42cf-40a1-d49b-b837da8f8b3a"
      },
      "outputs": [
        {
          "output_type": "display_data",
          "data": {
            "text/plain": [
              "<Figure size 800x500 with 1 Axes>"
            ],
            "image/png": "[encoded data removed]"
          },
          "metadata": {}
        }
      ],
      "source": [
        "plt.figure(figsize=(8, 5))\n",
        "\n",
        "plt.scatter(X, y, color='blue', label='Actual data')\n",
        "plt.plot(X_test, y_pred, color='red', label='Regression line')\n",
        "plt.xlabel('Size (m2)')\n",
        "plt.ylabel('Price ($100,000)')\n",
        "plt.legend()\n",
        "\n",
        "ax = plt.gca()\n",
        "ax.spines['top'].set_visible(False)\n",
        "ax.spines['right'].set_visible(False)\n",
        "\n",
        "plt.show()"
      ]
    },
    {
      "cell_type": "markdown",
      "id": "cf0dc227-6ad2-4648-838f-58f904b2ddc9",
      "metadata": {
        "id": "cf0dc227-6ad2-4648-838f-58f904b2ddc9"
      },
      "source": [
        "Calculate mean squared error and R-squared."
      ]
    },
    {
      "cell_type": "code",
      "execution_count": 13,
      "id": "51bf75fc-1357-4abf-b4c3-90395b610646",
      "metadata": {
        "id": "51bf75fc-1357-4abf-b4c3-90395b610646"
      },
      "outputs": [],
      "source": [
        "rmse = root_mean_squared_error(y_test, y_pred)\n",
        "r2 = r2_score(y_test, y_pred)"
      ]
    },
    {
      "cell_type": "code",
      "execution_count": 14,
      "id": "9c6e765f-372c-4cdf-bb24-90297964640d",
      "metadata": {
        "colab": {
          "base_uri": "https://localhost:8080/"
        },
        "id": "9c6e765f-372c-4cdf-bb24-90297964640d",
        "outputId": "71c745d6-74e2-46a0-d4e9-fec70d639b1d"
      },
      "outputs": [
        {
          "output_type": "stream",
          "name": "stdout",
          "text": [
            "Root Mean Squared Error: 0.9579943877557056\n",
            "R-squared: 0.6521157503858556\n"
          ]
        }
      ],
      "source": [
        "print(\"Root Mean Squared Error: {}\".format(rmse))\n",
        "print(\"R-squared: {}\".format(r2))"
      ]
    },
    {
      "cell_type": "markdown",
      "id": "150db9b9-565b-4941-a020-4523ec973180",
      "metadata": {
        "id": "150db9b9-565b-4941-a020-4523ec973180"
      },
      "source": [
        "### Gradient Descent - StandardScaler"
      ]
    },
    {
      "cell_type": "markdown",
      "id": "7f45c522-7caa-4567-9b9d-c46fcda95a51",
      "metadata": {
        "id": "7f45c522-7caa-4567-9b9d-c46fcda95a51"
      },
      "source": [
        "Visualize the distribution of the data."
      ]
    },
    {
      "cell_type": "code",
      "execution_count": 15,
      "id": "a4e56882-206f-4c2b-ad0d-b841c6aa2d48",
      "metadata": {
        "colab": {
          "base_uri": "https://localhost:8080/",
          "height": 465
        },
        "id": "a4e56882-206f-4c2b-ad0d-b841c6aa2d48",
        "outputId": "14e55c2a-4eee-4c7b-ff2b-4fa2ec7b7f8f"
      },
      "outputs": [
        {
          "output_type": "display_data",
          "data": {
            "text/plain": [
              "<Figure size 800x500 with 1 Axes>"
            ],
            "image/png": "[encoded data removed]"
          },
          "metadata": {}
        }
      ],
      "source": [
        "X_train_flattened = X_train.flatten()\n",
        "\n",
        "plt.figure(figsize=(8, 5))\n",
        "sns.histplot(X_train_flattened, bins=10, kde=True, color='blue')\n",
        "\n",
        "plt.xlabel('Size')\n",
        "plt.ylabel('Frequency')\n",
        "\n",
        "ax = plt.gca()\n",
        "ax.spines['top'].set_visible(False)\n",
        "ax.spines['right'].set_visible(False)"
      ]
    },
    {
      "cell_type": "markdown",
      "id": "ab0e0bef-7a30-4e95-b054-51017f5cb83f",
      "metadata": {
        "id": "ab0e0bef-7a30-4e95-b054-51017f5cb83f"
      },
      "source": [
        "Standardize the features."
      ]
    },
    {
      "cell_type": "code",
      "execution_count": 16,
      "id": "c6c69dcb-750b-41a9-9a60-265a1db7dbae",
      "metadata": {
        "id": "c6c69dcb-750b-41a9-9a60-265a1db7dbae"
      },
      "outputs": [],
      "source": [
        "scaler = StandardScaler()\n",
        "X_train_scaled = scaler.fit_transform(X_train)\n",
        "X_test_scaled = scaler.transform(X_test)"
      ]
    },
    {
      "cell_type": "markdown",
      "id": "1a26841b-ed16-43fb-8217-3b9818c413a1",
      "metadata": {
        "id": "1a26841b-ed16-43fb-8217-3b9818c413a1"
      },
      "source": [
        "Visualize the distribution of the scaled data."
      ]
    },
    {
      "cell_type": "code",
      "execution_count": 17,
      "id": "0323bfd4-29bc-42ca-8c27-88b0cda3ad94",
      "metadata": {
        "colab": {
          "base_uri": "https://localhost:8080/",
          "height": 465
        },
        "id": "0323bfd4-29bc-42ca-8c27-88b0cda3ad94",
        "outputId": "7e1671bf-b722-4aa3-958d-11f2fd922743"
      },
      "outputs": [
        {
          "output_type": "display_data",
          "data": {
            "text/plain": [
              "<Figure size 800x500 with 1 Axes>"
            ],
            "image/png": "[encoded data removed]"
          },
          "metadata": {}
        }
      ],
      "source": [
        "X_train_scaled_flattened = X_train_scaled.flatten()\n",
        "\n",
        "plt.figure(figsize=(8, 5))\n",
        "sns.histplot(X_train_scaled_flattened, bins=10, kde=True, color='blue')\n",
        "\n",
        "plt.xlabel('Size')\n",
        "plt.ylabel('Frequency')\n",
        "\n",
        "ax = plt.gca()\n",
        "ax.spines['top'].set_visible(False)\n",
        "ax.spines['right'].set_visible(False)"
      ]
    },
    {
      "cell_type": "markdown",
      "id": "278560d3-0a60-443f-81f9-5baee399e70e",
      "metadata": {
        "id": "278560d3-0a60-443f-81f9-5baee399e70e"
      },
      "source": [
        "Create an SGDRegressor model."
      ]
    },
    {
      "cell_type": "code",
      "execution_count": 18,
      "id": "af76180d-44b9-4f74-8c4b-448f161df60d",
      "metadata": {
        "id": "af76180d-44b9-4f74-8c4b-448f161df60d"
      },
      "outputs": [],
      "source": [
        "gradient_descent_model = SGDRegressor(max_iter=10000, tol=1e-3, eta0=0.01, random_state=42)"
      ]
    },
    {
      "cell_type": "markdown",
      "id": "2f2a3061-40d1-4905-bf8f-f85a7f8e2d42",
      "metadata": {
        "id": "2f2a3061-40d1-4905-bf8f-f85a7f8e2d42"
      },
      "source": [
        "Fit the model to the training data"
      ]
    },
    {
      "cell_type": "code",
      "execution_count": 19,
      "id": "9394fa1d-0bae-4922-9cb7-6f126b6aecf7",
      "metadata": {
        "colab": {
          "base_uri": "https://localhost:8080/",
          "height": 80
        },
        "id": "9394fa1d-0bae-4922-9cb7-6f126b6aecf7",
        "outputId": "20be3e81-e8b1-42ad-c520-c50a1753e2f3"
      },
      "outputs": [
        {
          "output_type": "execute_result",
          "data": {
            "text/plain": [
              "SGDRegressor(max_iter=10000, random_state=42)"
            ],
            "text/html": [
              "<style>#sk-container-id-2 {\n",
              "  /* Definition of color scheme common for light and dark mode */\n",
              "  --sklearn-color-text: black;\n",
              "  --sklearn-color-line: gray;\n",
              "  /* Definition of color scheme for unfitted estimators */\n",
              "  --sklearn-color-unfitted-level-0: #fff5e6;\n",
              "  --sklearn-color-unfitted-level-1: #f6e4d2;\n",
              "  --sklearn-color-unfitted-level-2: #ffe0b3;\n",
              "  --sklearn-color-unfitted-level-3: chocolate;\n",
              "  /* Definition of color scheme for fitted estimators */\n",
              "  --sklearn-color-fitted-level-0: #f0f8ff;\n",
              "  --sklearn-color-fitted-level-1: #d4ebff;\n",
              "  --sklearn-color-fitted-level-2: #b3dbfd;\n",
              "  --sklearn-color-fitted-level-3: cornflowerblue;\n",
              "\n",
              "  /* Specific color for light theme */\n",
              "  --sklearn-color-text-on-default-background: var(--sg-text-color, var(--theme-code-foreground, var(--jp-content-font-color1, black)));\n",
              "  --sklearn-color-background: var(--sg-background-color, var(--theme-background, var(--jp-layout-color0, white)));\n",
              "  --sklearn-color-border-box: var(--sg-text-color, var(--theme-code-foreground, var(--jp-content-font-color1, black)));\n",
              "  --sklearn-color-icon: #696969;\n",
              "\n",
              "  @media (prefers-color-scheme: dark) {\n",
              "    /* Redefinition of color scheme for dark theme */\n",
              "    --sklearn-color-text-on-default-background: var(--sg-text-color, var(--theme-code-foreground, var(--jp-content-font-color1, white)));\n",
              "    --sklearn-color-background: var(--sg-background-color, var(--theme-background, var(--jp-layout-color0, #111)));\n",
              "    --sklearn-color-border-box: var(--sg-text-color, var(--theme-code-foreground, var(--jp-content-font-color1, white)));\n",
              "    --sklearn-color-icon: #878787;\n",
              "  }\n",
              "}\n",
              "\n",
              "#sk-container-id-2 {\n",
              "  color: var(--sklearn-color-text);\n",
              "}\n",
              "\n",
              "#sk-container-id-2 pre {\n",
              "  padding: 0;\n",
              "}\n",
              "\n",
              "#sk-container-id-2 input.sk-hidden--visually {\n",
              "  border: 0;\n",
              "  clip: rect(1px 1px 1px 1px);\n",
              "  clip: rect(1px, 1px, 1px, 1px);\n",
              "  height: 1px;\n",
              "  margin: -1px;\n",
              "  overflow: hidden;\n",
              "  padding: 0;\n",
              "  position: absolute;\n",
              "  width: 1px;\n",
              "}\n",
              "\n",
              "#sk-container-id-2 div.sk-dashed-wrapped {\n",
              "  border: 1px dashed var(--sklearn-color-line);\n",
              "  margin: 0 0.4em 0.5em 0.4em;\n",
              "  box-sizing: border-box;\n",
              "  padding-bottom: 0.4em;\n",
              "  background-color: var(--sklearn-color-background);\n",
              "}\n",
              "\n",
              "#sk-container-id-2 div.sk-container {\n",
              "  /* jupyter's `normalize.less` sets `[hidden] { display: none; }`\n",
              "     but bootstrap.min.css set `[hidden] { display: none !important; }`\n",
              "     so we also need the `!important` here to be able to override the\n",
              "     default hidden behavior on the sphinx rendered scikit-learn.org.\n",
              "     See: https://github.com/scikit-learn/scikit-learn/issues/21755 */\n",
              "  display: inline-block !important;\n",
              "  position: relative;\n",
              "}\n",
              "\n",
              "#sk-container-id-2 div.sk-text-repr-fallback {\n",
              "  display: none;\n",
              "}\n",
              "\n",
              "div.sk-parallel-item,\n",
              "div.sk-serial,\n",
              "div.sk-item {\n",
              "  /* draw centered vertical line to link estimators */\n",
              "  background-image: linear-gradient(var(--sklearn-color-text-on-default-background), var(--sklearn-color-text-on-default-background));\n",
              "  background-size: 2px 100%;\n",
              "  background-repeat: no-repeat;\n",
              "  background-position: center center;\n",
              "}\n",
              "\n",
              "/* Parallel-specific style estimator block */\n",
              "\n",
              "#sk-container-id-2 div.sk-parallel-item::after {\n",
              "  content: \"\";\n",
              "  width: 100%;\n",
              "  border-bottom: 2px solid var(--sklearn-color-text-on-default-background);\n",
              "  flex-grow: 1;\n",
              "}\n",
              "\n",
              "#sk-container-id-2 div.sk-parallel {\n",
              "  display: flex;\n",
              "  align-items: stretch;\n",
              "  justify-content: center;\n",
              "  background-color: var(--sklearn-color-background);\n",
              "  position: relative;\n",
              "}\n",
              "\n",
              "#sk-container-id-2 div.sk-parallel-item {\n",
              "  display: flex;\n",
              "  flex-direction: column;\n",
              "}\n",
              "\n",
              "#sk-container-id-2 div.sk-parallel-item:first-child::after {\n",
              "  align-self: flex-end;\n",
              "  width: 50%;\n",
              "}\n",
              "\n",
              "#sk-container-id-2 div.sk-parallel-item:last-child::after {\n",
              "  align-self: flex-start;\n",
              "  width: 50%;\n",
              "}\n",
              "\n",
              "#sk-container-id-2 div.sk-parallel-item:only-child::after {\n",
              "  width: 0;\n",
              "}\n",
              "\n",
              "/* Serial-specific style estimator block */\n",
              "\n",
              "#sk-container-id-2 div.sk-serial {\n",
              "  display: flex;\n",
              "  flex-direction: column;\n",
              "  align-items: center;\n",
              "  background-color: var(--sklearn-color-background);\n",
              "  padding-right: 1em;\n",
              "  padding-left: 1em;\n",
              "}\n",
              "\n",
              "\n",
              "/* Toggleable style: style used for estimator/Pipeline/ColumnTransformer box that is\n",
              "clickable and can be expanded/collapsed.\n",
              "- Pipeline and ColumnTransformer use this feature and define the default style\n",
              "- Estimators will overwrite some part of the style using the `sk-estimator` class\n",
              "*/\n",
              "\n",
              "/* Pipeline and ColumnTransformer style (default) */\n",
              "\n",
              "#sk-container-id-2 div.sk-toggleable {\n",
              "  /* Default theme specific background. It is overwritten whether we have a\n",
              "  specific estimator or a Pipeline/ColumnTransformer */\n",
              "  background-color: var(--sklearn-color-background);\n",
              "}\n",
              "\n",
              "/* Toggleable label */\n",
              "#sk-container-id-2 label.sk-toggleable__label {\n",
              "  cursor: pointer;\n",
              "  display: block;\n",
              "  width: 100%;\n",
              "  margin-bottom: 0;\n",
              "  padding: 0.5em;\n",
              "  box-sizing: border-box;\n",
              "  text-align: center;\n",
              "}\n",
              "\n",
              "#sk-container-id-2 label.sk-toggleable__label-arrow:before {\n",
              "  /* Arrow on the left of the label */\n",
              "  content: \"▸\";\n",
              "  float: left;\n",
              "  margin-right: 0.25em;\n",
              "  color: var(--sklearn-color-icon);\n",
              "}\n",
              "\n",
              "#sk-container-id-2 label.sk-toggleable__label-arrow:hover:before {\n",
              "  color: var(--sklearn-color-text);\n",
              "}\n",
              "\n",
              "/* Toggleable content - dropdown */\n",
              "\n",
              "#sk-container-id-2 div.sk-toggleable__content {\n",
              "  max-height: 0;\n",
              "  max-width: 0;\n",
              "  overflow: hidden;\n",
              "  text-align: left;\n",
              "  /* unfitted */\n",
              "  background-color: var(--sklearn-color-unfitted-level-0);\n",
              "}\n",
              "\n",
              "#sk-container-id-2 div.sk-toggleable__content.fitted {\n",
              "  /* fitted */\n",
              "  background-color: var(--sklearn-color-fitted-level-0);\n",
              "}\n",
              "\n",
              "#sk-container-id-2 div.sk-toggleable__content pre {\n",
              "  margin: 0.2em;\n",
              "  border-radius: 0.25em;\n",
              "  color: var(--sklearn-color-text);\n",
              "  /* unfitted */\n",
              "  background-color: var(--sklearn-color-unfitted-level-0);\n",
              "}\n",
              "\n",
              "#sk-container-id-2 div.sk-toggleable__content.fitted pre {\n",
              "  /* unfitted */\n",
              "  background-color: var(--sklearn-color-fitted-level-0);\n",
              "}\n",
              "\n",
              "#sk-container-id-2 input.sk-toggleable__control:checked~div.sk-toggleable__content {\n",
              "  /* Expand drop-down */\n",
              "  max-height: 200px;\n",
              "  max-width: 100%;\n",
              "  overflow: auto;\n",
              "}\n",
              "\n",
              "#sk-container-id-2 input.sk-toggleable__control:checked~label.sk-toggleable__label-arrow:before {\n",
              "  content: \"▾\";\n",
              "}\n",
              "\n",
              "/* Pipeline/ColumnTransformer-specific style */\n",
              "\n",
              "#sk-container-id-2 div.sk-label input.sk-toggleable__control:checked~label.sk-toggleable__label {\n",
              "  color: var(--sklearn-color-text);\n",
              "  background-color: var(--sklearn-color-unfitted-level-2);\n",
              "}\n",
              "\n",
              "#sk-container-id-2 div.sk-label.fitted input.sk-toggleable__control:checked~label.sk-toggleable__label {\n",
              "  background-color: var(--sklearn-color-fitted-level-2);\n",
              "}\n",
              "\n",
              "/* Estimator-specific style */\n",
              "\n",
              "/* Colorize estimator box */\n",
              "#sk-container-id-2 div.sk-estimator input.sk-toggleable__control:checked~label.sk-toggleable__label {\n",
              "  /* unfitted */\n",
              "  background-color: var(--sklearn-color-unfitted-level-2);\n",
              "}\n",
              "\n",
              "#sk-container-id-2 div.sk-estimator.fitted input.sk-toggleable__control:checked~label.sk-toggleable__label {\n",
              "  /* fitted */\n",
              "  background-color: var(--sklearn-color-fitted-level-2);\n",
              "}\n",
              "\n",
              "#sk-container-id-2 div.sk-label label.sk-toggleable__label,\n",
              "#sk-container-id-2 div.sk-label label {\n",
              "  /* The background is the default theme color */\n",
              "  color: var(--sklearn-color-text-on-default-background);\n",
              "}\n",
              "\n",
              "/* On hover, darken the color of the background */\n",
              "#sk-container-id-2 div.sk-label:hover label.sk-toggleable__label {\n",
              "  color: var(--sklearn-color-text);\n",
              "  background-color: var(--sklearn-color-unfitted-level-2);\n",
              "}\n",
              "\n",
              "/* Label box, darken color on hover, fitted */\n",
              "#sk-container-id-2 div.sk-label.fitted:hover label.sk-toggleable__label.fitted {\n",
              "  color: var(--sklearn-color-text);\n",
              "  background-color: var(--sklearn-color-fitted-level-2);\n",
              "}\n",
              "\n",
              "/* Estimator label */\n",
              "\n",
              "#sk-container-id-2 div.sk-label label {\n",
              "  font-family: monospace;\n",
              "  font-weight: bold;\n",
              "  display: inline-block;\n",
              "  line-height: 1.2em;\n",
              "}\n",
              "\n",
              "#sk-container-id-2 div.sk-label-container {\n",
              "  text-align: center;\n",
              "}\n",
              "\n",
              "/* Estimator-specific */\n",
              "#sk-container-id-2 div.sk-estimator {\n",
              "  font-family: monospace;\n",
              "  border: 1px dotted var(--sklearn-color-border-box);\n",
              "  border-radius: 0.25em;\n",
              "  box-sizing: border-box;\n",
              "  margin-bottom: 0.5em;\n",
              "  /* unfitted */\n",
              "  background-color: var(--sklearn-color-unfitted-level-0);\n",
              "}\n",
              "\n",
              "#sk-container-id-2 div.sk-estimator.fitted {\n",
              "  /* fitted */\n",
              "  background-color: var(--sklearn-color-fitted-level-0);\n",
              "}\n",
              "\n",
              "/* on hover */\n",
              "#sk-container-id-2 div.sk-estimator:hover {\n",
              "  /* unfitted */\n",
              "  background-color: var(--sklearn-color-unfitted-level-2);\n",
              "}\n",
              "\n",
              "#sk-container-id-2 div.sk-estimator.fitted:hover {\n",
              "  /* fitted */\n",
              "  background-color: var(--sklearn-color-fitted-level-2);\n",
              "}\n",
              "\n",
              "/* Specification for estimator info (e.g. \"i\" and \"?\") */\n",
              "\n",
              "/* Common style for \"i\" and \"?\" */\n",
              "\n",
              ".sk-estimator-doc-link,\n",
              "a:link.sk-estimator-doc-link,\n",
              "a:visited.sk-estimator-doc-link {\n",
              "  float: right;\n",
              "  font-size: smaller;\n",
              "  line-height: 1em;\n",
              "  font-family: monospace;\n",
              "  background-color: var(--sklearn-color-background);\n",
              "  border-radius: 1em;\n",
              "  height: 1em;\n",
              "  width: 1em;\n",
              "  text-decoration: none !important;\n",
              "  margin-left: 1ex;\n",
              "  /* unfitted */\n",
              "  border: var(--sklearn-color-unfitted-level-1) 1pt solid;\n",
              "  color: var(--sklearn-color-unfitted-level-1);\n",
              "}\n",
              "\n",
              ".sk-estimator-doc-link.fitted,\n",
              "a:link.sk-estimator-doc-link.fitted,\n",
              "a:visited.sk-estimator-doc-link.fitted {\n",
              "  /* fitted */\n",
              "  border: var(--sklearn-color-fitted-level-1) 1pt solid;\n",
              "  color: var(--sklearn-color-fitted-level-1);\n",
              "}\n",
              "\n",
              "/* On hover */\n",
              "div.sk-estimator:hover .sk-estimator-doc-link:hover,\n",
              ".sk-estimator-doc-link:hover,\n",
              "div.sk-label-container:hover .sk-estimator-doc-link:hover,\n",
              ".sk-estimator-doc-link:hover {\n",
              "  /* unfitted */\n",
              "  background-color: var(--sklearn-color-unfitted-level-3);\n",
              "  color: var(--sklearn-color-background);\n",
              "  text-decoration: none;\n",
              "}\n",
              "\n",
              "div.sk-estimator.fitted:hover .sk-estimator-doc-link.fitted:hover,\n",
              ".sk-estimator-doc-link.fitted:hover,\n",
              "div.sk-label-container:hover .sk-estimator-doc-link.fitted:hover,\n",
              ".sk-estimator-doc-link.fitted:hover {\n",
              "  /* fitted */\n",
              "  background-color: var(--sklearn-color-fitted-level-3);\n",
              "  color: var(--sklearn-color-background);\n",
              "  text-decoration: none;\n",
              "}\n",
              "\n",
              "/* Span, style for the box shown on hovering the info icon */\n",
              ".sk-estimator-doc-link span {\n",
              "  display: none;\n",
              "  z-index: 9999;\n",
              "  position: relative;\n",
              "  font-weight: normal;\n",
              "  right: .2ex;\n",
              "  padding: .5ex;\n",
              "  margin: .5ex;\n",
              "  width: min-content;\n",
              "  min-width: 20ex;\n",
              "  max-width: 50ex;\n",
              "  color: var(--sklearn-color-text);\n",
              "  box-shadow: 2pt 2pt 4pt #999;\n",
              "  /* unfitted */\n",
              "  background: var(--sklearn-color-unfitted-level-0);\n",
              "  border: .5pt solid var(--sklearn-color-unfitted-level-3);\n",
              "}\n",
              "\n",
              ".sk-estimator-doc-link.fitted span {\n",
              "  /* fitted */\n",
              "  background: var(--sklearn-color-fitted-level-0);\n",
              "  border: var(--sklearn-color-fitted-level-3);\n",
              "}\n",
              "\n",
              ".sk-estimator-doc-link:hover span {\n",
              "  display: block;\n",
              "}\n",
              "\n",
              "/* \"?\"-specific style due to the `<a>` HTML tag */\n",
              "\n",
              "#sk-container-id-2 a.estimator_doc_link {\n",
              "  float: right;\n",
              "  font-size: 1rem;\n",
              "  line-height: 1em;\n",
              "  font-family: monospace;\n",
              "  background-color: var(--sklearn-color-background);\n",
              "  border-radius: 1rem;\n",
              "  height: 1rem;\n",
              "  width: 1rem;\n",
              "  text-decoration: none;\n",
              "  /* unfitted */\n",
              "  color: var(--sklearn-color-unfitted-level-1);\n",
              "  border: var(--sklearn-color-unfitted-level-1) 1pt solid;\n",
              "}\n",
              "\n",
              "#sk-container-id-2 a.estimator_doc_link.fitted {\n",
              "  /* fitted */\n",
              "  border: var(--sklearn-color-fitted-level-1) 1pt solid;\n",
              "  color: var(--sklearn-color-fitted-level-1);\n",
              "}\n",
              "\n",
              "/* On hover */\n",
              "#sk-container-id-2 a.estimator_doc_link:hover {\n",
              "  /* unfitted */\n",
              "  background-color: var(--sklearn-color-unfitted-level-3);\n",
              "  color: var(--sklearn-color-background);\n",
              "  text-decoration: none;\n",
              "}\n",
              "\n",
              "#sk-container-id-2 a.estimator_doc_link.fitted:hover {\n",
              "  /* fitted */\n",
              "  background-color: var(--sklearn-color-fitted-level-3);\n",
              "}\n",
              "</style><div id=\"sk-container-id-2\" class=\"sk-top-container\"><div class=\"sk-text-repr-fallback\"><pre>SGDRegressor(max_iter=10000, random_state=42)</pre><b>In a Jupyter environment, please rerun this cell to show the HTML representation or trust the notebook. <br />On GitHub, the HTML representation is unable to render, please try loading this page with nbviewer.org.</b></div><div class=\"sk-container\" hidden><div class=\"sk-item\"><div class=\"sk-estimator fitted sk-toggleable\"><input class=\"sk-toggleable__control sk-hidden--visually\" id=\"sk-estimator-id-2\" type=\"checkbox\" checked><label for=\"sk-estimator-id-2\" class=\"sk-toggleable__label fitted sk-toggleable__label-arrow fitted\">&nbsp;&nbsp;SGDRegressor<a class=\"sk-estimator-doc-link fitted\" rel=\"noreferrer\" target=\"_blank\" href=\"https://scikit-learn.org/1.5/modules/generated/sklearn.linear_model.SGDRegressor.html\">?<span>Documentation for SGDRegressor</span></a><span class=\"sk-estimator-doc-link fitted\">i<span>Fitted</span></span></label><div class=\"sk-toggleable__content fitted\"><pre>SGDRegressor(max_iter=10000, random_state=42)</pre></div> </div></div></div></div>"
            ]
          },
          "metadata": {},
          "execution_count": 19
        }
      ],
      "source": [
        "gradient_descent_model.fit(X_train_scaled, y_train.ravel())"
      ]
    },
    {
      "cell_type": "markdown",
      "id": "86e71eae-9a36-4a2d-b892-77c546ed80e2",
      "metadata": {
        "id": "86e71eae-9a36-4a2d-b892-77c546ed80e2"
      },
      "source": [
        "Get the parameters (w values)."
      ]
    },
    {
      "cell_type": "code",
      "execution_count": 20,
      "id": "a50e616b-ea06-4230-9e98-15250c0548aa",
      "metadata": {
        "id": "a50e616b-ea06-4230-9e98-15250c0548aa"
      },
      "outputs": [],
      "source": [
        "gradient_descent_w_0 = gradient_descent_model.intercept_\n",
        "gradient_descent_w_1 = gradient_descent_model.coef_"
      ]
    },
    {
      "cell_type": "code",
      "execution_count": 21,
      "id": "bf1db16a-c6a9-4407-b176-b152bfbf041c",
      "metadata": {
        "colab": {
          "base_uri": "https://localhost:8080/"
        },
        "id": "bf1db16a-c6a9-4407-b176-b152bfbf041c",
        "outputId": "6fe038cf-7d9e-4535-cb87-eedb77d13196"
      },
      "outputs": [
        {
          "output_type": "stream",
          "name": "stdout",
          "text": [
            "SGD Intercept (w_0): [6.90341165]\n",
            "SGD Coefficient (w_1): [1.77370923]\n"
          ]
        }
      ],
      "source": [
        "print(\"SGD Intercept (w_0): {}\".format(gradient_descent_w_0))\n",
        "print(\"SGD Coefficient (w_1): {}\".format(gradient_descent_w_1))"
      ]
    },
    {
      "cell_type": "markdown",
      "id": "47ddfead-2aeb-4b5a-bf97-fc2d0b35cc69",
      "metadata": {
        "id": "47ddfead-2aeb-4b5a-bf97-fc2d0b35cc69"
      },
      "source": [
        "Retrieve the mean and standard deviation of the original training data."
      ]
    },
    {
      "cell_type": "code",
      "execution_count": 22,
      "id": "14254222-d655-4863-a63c-ba171a82ee22",
      "metadata": {
        "id": "14254222-d655-4863-a63c-ba171a82ee22"
      },
      "outputs": [],
      "source": [
        "X_mean = scaler.mean_  # mean of the original feature\n",
        "X_std = scaler.scale_  # standard deviation of the original feature"
      ]
    },
    {
      "cell_type": "markdown",
      "id": "547d7d3a-1e14-4f4a-ba94-56325c9baad2",
      "metadata": {
        "id": "547d7d3a-1e14-4f4a-ba94-56325c9baad2"
      },
      "source": [
        "Adjust the coefficients."
      ]
    },
    {
      "cell_type": "code",
      "execution_count": 23,
      "id": "4446d4e0-0f42-4ec3-8b9d-428095202ac9",
      "metadata": {
        "id": "4446d4e0-0f42-4ec3-8b9d-428095202ac9"
      },
      "outputs": [],
      "source": [
        "w_1_adjusted = gradient_descent_model.coef_ / X_std\n",
        "w_0_adjusted = gradient_descent_model.intercept_ - (gradient_descent_model.coef_ * X_mean / X_std)"
      ]
    },
    {
      "cell_type": "code",
      "execution_count": 24,
      "id": "5327c42f-897f-4bc1-97e4-22bcf165e324",
      "metadata": {
        "colab": {
          "base_uri": "https://localhost:8080/"
        },
        "id": "5327c42f-897f-4bc1-97e4-22bcf165e324",
        "outputId": "174f0e0d-a137-42b3-d0b2-690d7f387fb4"
      },
      "outputs": [
        {
          "output_type": "stream",
          "name": "stdout",
          "text": [
            "Adjusted Intercept (w_0): [4.18492034]\n",
            "Adjusted Coefficient (w_1): [2.96570634]\n"
          ]
        }
      ],
      "source": [
        "print(\"Adjusted Intercept (w_0): {}\".format(w_0_adjusted))\n",
        "print(\"Adjusted Coefficient (w_1): {}\".format(w_1_adjusted))"
      ]
    },
    {
      "cell_type": "markdown",
      "id": "0c3a77d8-b4e9-486a-84ec-bda81d88eade",
      "metadata": {
        "id": "0c3a77d8-b4e9-486a-84ec-bda81d88eade"
      },
      "source": [
        "Let's predict the values of the samples in the test set."
      ]
    },
    {
      "cell_type": "code",
      "execution_count": 25,
      "id": "bfee7b4c-e4da-4f84-b64f-0d16c59f8116",
      "metadata": {
        "id": "bfee7b4c-e4da-4f84-b64f-0d16c59f8116"
      },
      "outputs": [],
      "source": [
        "y_pred_gradient_descent = gradient_descent_model.predict(X_test_scaled)"
      ]
    },
    {
      "cell_type": "markdown",
      "id": "1c968a8a-bc33-46ca-ab60-723447099961",
      "metadata": {
        "id": "1c968a8a-bc33-46ca-ab60-723447099961"
      },
      "source": [
        "Calculate Mean Squared Error and R-squared for Gradient Descent."
      ]
    },
    {
      "cell_type": "code",
      "execution_count": 26,
      "id": "865df103-7868-44eb-b0cc-5a87bcf5df38",
      "metadata": {
        "id": "865df103-7868-44eb-b0cc-5a87bcf5df38"
      },
      "outputs": [],
      "source": [
        "rmse_gradient_descent = root_mean_squared_error(y_test, y_pred_gradient_descent)\n",
        "r2_gradient_descent = r2_score(y_test, y_pred_gradient_descent)"
      ]
    },
    {
      "cell_type": "code",
      "execution_count": 27,
      "id": "3976fd9e-481a-450a-be38-8704870159e7",
      "metadata": {
        "colab": {
          "base_uri": "https://localhost:8080/"
        },
        "id": "3976fd9e-481a-450a-be38-8704870159e7",
        "outputId": "6d8922f1-83db-4aab-bb76-6d2300c86b53"
      },
      "outputs": [
        {
          "output_type": "stream",
          "name": "stdout",
          "text": [
            "Gradient Descent Root Mean Squared Error: 0.9571927031530311\n",
            "Gradient Descent R-squared: 0.6526977511906491\n"
          ]
        }
      ],
      "source": [
        "print(\"Gradient Descent Root Mean Squared Error: {}\".format(rmse_gradient_descent))\n",
        "print(\"Gradient Descent R-squared: {}\".format(r2_gradient_descent))"
      ]
    },
    {
      "cell_type": "markdown",
      "id": "8c42c8fd-526a-4fa3-8592-8824e39e7f14",
      "metadata": {
        "id": "8c42c8fd-526a-4fa3-8592-8824e39e7f14"
      },
      "source": [
        "Plot the original data points and the best-fit line."
      ]
    },
    {
      "cell_type": "code",
      "execution_count": 28,
      "id": "32601868-8fe2-4087-ba64-b99940788bb0",
      "metadata": {
        "colab": {
          "base_uri": "https://localhost:8080/",
          "height": 465
        },
        "id": "32601868-8fe2-4087-ba64-b99940788bb0",
        "outputId": "70ce42cf-f8f0-4845-cc88-6ce4340f16c5"
      },
      "outputs": [
        {
          "output_type": "display_data",
          "data": {
            "text/plain": [
              "<Figure size 800x500 with 1 Axes>"
            ],
            "image/png": "[encoded data removed]"
          },
          "metadata": {}
        }
      ],
      "source": [
        "plt.figure(figsize=(8, 5))\n",
        "\n",
        "plt.scatter(X, y, color='blue', label='Actual data')  # scatter plot of actual values\n",
        "plt.plot(X_test, y_pred_gradient_descent, color='green', label='GD Best-fit line')  # best fit line from gradient descent\n",
        "plt.xlabel('Size (m2)')\n",
        "plt.ylabel('Price ($100,000)')\n",
        "\n",
        "ax = plt.gca()\n",
        "ax.spines['top'].set_visible(False)\n",
        "ax.spines['right'].set_visible(False)\n",
        "\n",
        "plt.legend()\n",
        "plt.show()"
      ]
    },
    {
      "cell_type": "markdown",
      "id": "b3888d17-feb6-4986-a2e8-0abbd40e61f0",
      "metadata": {
        "id": "b3888d17-feb6-4986-a2e8-0abbd40e61f0"
      },
      "source": [
        "Plot both the original data and both regression lines (Gradient Descent and closed-form)."
      ]
    },
    {
      "cell_type": "code",
      "execution_count": 29,
      "id": "abae8736-ad78-44f3-9fd4-6d53a63f81d4",
      "metadata": {
        "colab": {
          "base_uri": "https://localhost:8080/",
          "height": 465
        },
        "id": "abae8736-ad78-44f3-9fd4-6d53a63f81d4",
        "outputId": "b982c032-06c8-4002-c735-4af24617137d"
      },
      "outputs": [
        {
          "output_type": "display_data",
          "data": {
            "text/plain": [
              "<Figure size 800x500 with 1 Axes>"
            ],
            "image/png": "[encoded data removed]"
          },
          "metadata": {}
        }
      ],
      "source": [
        "plt.figure(figsize=(8, 5))\n",
        "\n",
        "plt.scatter(X, y, color='blue', label='Actual data')  # scatter plot of actual values\n",
        "plt.plot(X_test, y_pred_gradient_descent, color='green', label='GD Best-fit line')  # best-fit line from gradient descent\n",
        "plt.plot(X_test, y_pred, color='red', label='Closed-form Best-fit line')  # Best-fit line from closed-form\n",
        "\n",
        "plt.xlabel('Size (m2)')\n",
        "plt.ylabel('Price ($100,000)')\n",
        "plt.legend()\n",
        "\n",
        "ax = plt.gca()\n",
        "ax.spines['top'].set_visible(False)\n",
        "ax.spines['right'].set_visible(False)\n",
        "\n",
        "plt.show()"
      ]
    },
    {
      "cell_type": "markdown",
      "id": "655636c4-0569-4d16-b3e5-a09e5b2be615",
      "metadata": {
        "id": "655636c4-0569-4d16-b3e5-a09e5b2be615"
      },
      "source": [
        "### Gradient Descent - MinMaxScaler"
      ]
    },
    {
      "cell_type": "markdown",
      "id": "a512a219-77f5-4e3e-8b1b-9375623ddf8b",
      "metadata": {
        "id": "a512a219-77f5-4e3e-8b1b-9375623ddf8b"
      },
      "source": [
        "Define an instance of the MinMaxScaler."
      ]
    },
    {
      "cell_type": "code",
      "execution_count": 30,
      "id": "eb3210a5-a298-467e-9460-65764ee54b19",
      "metadata": {
        "id": "eb3210a5-a298-467e-9460-65764ee54b19"
      },
      "outputs": [],
      "source": [
        "## Add your code here\n",
        "scaler = MinMaxScaler()"
      ]
    },
    {
      "cell_type": "markdown",
      "id": "ab773379-8f94-43f6-a155-a72ec37dd475",
      "metadata": {
        "id": "ab773379-8f94-43f6-a155-a72ec37dd475"
      },
      "source": [
        "Scale the features."
      ]
    },
    {
      "cell_type": "code",
      "execution_count": 31,
      "id": "737c1027-d251-4028-9b13-394f8282e844",
      "metadata": {
        "id": "737c1027-d251-4028-9b13-394f8282e844"
      },
      "outputs": [],
      "source": [
        "## Add your code here\n",
        "X_train_scaled = scaler.fit_transform(X_train)\n",
        "X_test_scaled = scaler.transform(X_test)"
      ]
    },
    {
      "cell_type": "markdown",
      "id": "c10ecb98-3e20-4f80-b812-65e6b9aff7d4",
      "metadata": {
        "id": "c10ecb98-3e20-4f80-b812-65e6b9aff7d4"
      },
      "source": [
        "Visualize the distribution of the scaled data."
      ]
    },
    {
      "cell_type": "code",
      "execution_count": 32,
      "id": "9b314790-d21e-4cb2-be27-735c81128470",
      "metadata": {
        "colab": {
          "base_uri": "https://localhost:8080/",
          "height": 465
        },
        "id": "9b314790-d21e-4cb2-be27-735c81128470",
        "outputId": "45a99178-0af1-4fff-a905-5c19e1c50c27"
      },
      "outputs": [
        {
          "output_type": "display_data",
          "data": {
            "text/plain": [
              "<Figure size 800x500 with 1 Axes>"
            ],
            "image/png": "[encoded data removed]"
          },
          "metadata": {}
        }
      ],
      "source": [
        "## Add your code here\n",
        "X_train_scaled_flattened = X_train_scaled.flatten()\n",
        "\n",
        "plt.figure(figsize=(8, 5))\n",
        "sns.histplot(X_train_scaled_flattened, bins=10, kde=True, color='blue')\n",
        "\n",
        "plt.xlabel('Size')\n",
        "plt.ylabel('Frequency')\n",
        "\n",
        "ax = plt.gca()\n",
        "ax.spines['top'].set_visible(False)\n",
        "ax.spines['right'].set_visible(False)"
      ]
    },
    {
      "cell_type": "markdown",
      "id": "23cde05c-7980-413c-9ef7-cf054022f4d4",
      "metadata": {
        "id": "23cde05c-7980-413c-9ef7-cf054022f4d4"
      },
      "source": [
        "Create an SGDRegressor model."
      ]
    },
    {
      "cell_type": "code",
      "execution_count": 33,
      "id": "25ddf62d-6393-48af-b41c-9ab7b7a6667b",
      "metadata": {
        "id": "25ddf62d-6393-48af-b41c-9ab7b7a6667b"
      },
      "outputs": [],
      "source": [
        "## Add your code here.\n",
        "gradient_descent_model = SGDRegressor(max_iter=10000, tol=1e-3, eta0=0.01, random_state=42)"
      ]
    },
    {
      "cell_type": "markdown",
      "id": "99024d7d-82ae-4185-a932-6e958093f815",
      "metadata": {
        "id": "99024d7d-82ae-4185-a932-6e958093f815"
      },
      "source": [
        "Fit the model to the training data."
      ]
    },
    {
      "cell_type": "code",
      "execution_count": 34,
      "id": "bffa6f2f-d8bb-41d4-bfae-715820ca37b0",
      "metadata": {
        "colab": {
          "base_uri": "https://localhost:8080/",
          "height": 80
        },
        "id": "bffa6f2f-d8bb-41d4-bfae-715820ca37b0",
        "outputId": "8b840c42-49fc-484c-ec1d-3f598896c74c"
      },
      "outputs": [
        {
          "output_type": "execute_result",
          "data": {
            "text/plain": [
              "SGDRegressor(max_iter=10000, random_state=42)"
            ],
            "text/html": [
              "<style>#sk-container-id-3 {\n",
              "  /* Definition of color scheme common for light and dark mode */\n",
              "  --sklearn-color-text: black;\n",
              "  --sklearn-color-line: gray;\n",
              "  /* Definition of color scheme for unfitted estimators */\n",
              "  --sklearn-color-unfitted-level-0: #fff5e6;\n",
              "  --sklearn-color-unfitted-level-1: #f6e4d2;\n",
              "  --sklearn-color-unfitted-level-2: #ffe0b3;\n",
              "  --sklearn-color-unfitted-level-3: chocolate;\n",
              "  /* Definition of color scheme for fitted estimators */\n",
              "  --sklearn-color-fitted-level-0: #f0f8ff;\n",
              "  --sklearn-color-fitted-level-1: #d4ebff;\n",
              "  --sklearn-color-fitted-level-2: #b3dbfd;\n",
              "  --sklearn-color-fitted-level-3: cornflowerblue;\n",
              "\n",
              "  /* Specific color for light theme */\n",
              "  --sklearn-color-text-on-default-background: var(--sg-text-color, var(--theme-code-foreground, var(--jp-content-font-color1, black)));\n",
              "  --sklearn-color-background: var(--sg-background-color, var(--theme-background, var(--jp-layout-color0, white)));\n",
              "  --sklearn-color-border-box: var(--sg-text-color, var(--theme-code-foreground, var(--jp-content-font-color1, black)));\n",
              "  --sklearn-color-icon: #696969;\n",
              "\n",
              "  @media (prefers-color-scheme: dark) {\n",
              "    /* Redefinition of color scheme for dark theme */\n",
              "    --sklearn-color-text-on-default-background: var(--sg-text-color, var(--theme-code-foreground, var(--jp-content-font-color1, white)));\n",
              "    --sklearn-color-background: var(--sg-background-color, var(--theme-background, var(--jp-layout-color0, #111)));\n",
              "    --sklearn-color-border-box: var(--sg-text-color, var(--theme-code-foreground, var(--jp-content-font-color1, white)));\n",
              "    --sklearn-color-icon: #878787;\n",
              "  }\n",
              "}\n",
              "\n",
              "#sk-container-id-3 {\n",
              "  color: var(--sklearn-color-text);\n",
              "}\n",
              "\n",
              "#sk-container-id-3 pre {\n",
              "  padding: 0;\n",
              "}\n",
              "\n",
              "#sk-container-id-3 input.sk-hidden--visually {\n",
              "  border: 0;\n",
              "  clip: rect(1px 1px 1px 1px);\n",
              "  clip: rect(1px, 1px, 1px, 1px);\n",
              "  height: 1px;\n",
              "  margin: -1px;\n",
              "  overflow: hidden;\n",
              "  padding: 0;\n",
              "  position: absolute;\n",
              "  width: 1px;\n",
              "}\n",
              "\n",
              "#sk-container-id-3 div.sk-dashed-wrapped {\n",
              "  border: 1px dashed var(--sklearn-color-line);\n",
              "  margin: 0 0.4em 0.5em 0.4em;\n",
              "  box-sizing: border-box;\n",
              "  padding-bottom: 0.4em;\n",
              "  background-color: var(--sklearn-color-background);\n",
              "}\n",
              "\n",
              "#sk-container-id-3 div.sk-container {\n",
              "  /* jupyter's `normalize.less` sets `[hidden] { display: none; }`\n",
              "     but bootstrap.min.css set `[hidden] { display: none !important; }`\n",
              "     so we also need the `!important` here to be able to override the\n",
              "     default hidden behavior on the sphinx rendered scikit-learn.org.\n",
              "     See: https://github.com/scikit-learn/scikit-learn/issues/21755 */\n",
              "  display: inline-block !important;\n",
              "  position: relative;\n",
              "}\n",
              "\n",
              "#sk-container-id-3 div.sk-text-repr-fallback {\n",
              "  display: none;\n",
              "}\n",
              "\n",
              "div.sk-parallel-item,\n",
              "div.sk-serial,\n",
              "div.sk-item {\n",
              "  /* draw centered vertical line to link estimators */\n",
              "  background-image: linear-gradient(var(--sklearn-color-text-on-default-background), var(--sklearn-color-text-on-default-background));\n",
              "  background-size: 2px 100%;\n",
              "  background-repeat: no-repeat;\n",
              "  background-position: center center;\n",
              "}\n",
              "\n",
              "/* Parallel-specific style estimator block */\n",
              "\n",
              "#sk-container-id-3 div.sk-parallel-item::after {\n",
              "  content: \"\";\n",
              "  width: 100%;\n",
              "  border-bottom: 2px solid var(--sklearn-color-text-on-default-background);\n",
              "  flex-grow: 1;\n",
              "}\n",
              "\n",
              "#sk-container-id-3 div.sk-parallel {\n",
              "  display: flex;\n",
              "  align-items: stretch;\n",
              "  justify-content: center;\n",
              "  background-color: var(--sklearn-color-background);\n",
              "  position: relative;\n",
              "}\n",
              "\n",
              "#sk-container-id-3 div.sk-parallel-item {\n",
              "  display: flex;\n",
              "  flex-direction: column;\n",
              "}\n",
              "\n",
              "#sk-container-id-3 div.sk-parallel-item:first-child::after {\n",
              "  align-self: flex-end;\n",
              "  width: 50%;\n",
              "}\n",
              "\n",
              "#sk-container-id-3 div.sk-parallel-item:last-child::after {\n",
              "  align-self: flex-start;\n",
              "  width: 50%;\n",
              "}\n",
              "\n",
              "#sk-container-id-3 div.sk-parallel-item:only-child::after {\n",
              "  width: 0;\n",
              "}\n",
              "\n",
              "/* Serial-specific style estimator block */\n",
              "\n",
              "#sk-container-id-3 div.sk-serial {\n",
              "  display: flex;\n",
              "  flex-direction: column;\n",
              "  align-items: center;\n",
              "  background-color: var(--sklearn-color-background);\n",
              "  padding-right: 1em;\n",
              "  padding-left: 1em;\n",
              "}\n",
              "\n",
              "\n",
              "/* Toggleable style: style used for estimator/Pipeline/ColumnTransformer box that is\n",
              "clickable and can be expanded/collapsed.\n",
              "- Pipeline and ColumnTransformer use this feature and define the default style\n",
              "- Estimators will overwrite some part of the style using the `sk-estimator` class\n",
              "*/\n",
              "\n",
              "/* Pipeline and ColumnTransformer style (default) */\n",
              "\n",
              "#sk-container-id-3 div.sk-toggleable {\n",
              "  /* Default theme specific background. It is overwritten whether we have a\n",
              "  specific estimator or a Pipeline/ColumnTransformer */\n",
              "  background-color: var(--sklearn-color-background);\n",
              "}\n",
              "\n",
              "/* Toggleable label */\n",
              "#sk-container-id-3 label.sk-toggleable__label {\n",
              "  cursor: pointer;\n",
              "  display: block;\n",
              "  width: 100%;\n",
              "  margin-bottom: 0;\n",
              "  padding: 0.5em;\n",
              "  box-sizing: border-box;\n",
              "  text-align: center;\n",
              "}\n",
              "\n",
              "#sk-container-id-3 label.sk-toggleable__label-arrow:before {\n",
              "  /* Arrow on the left of the label */\n",
              "  content: \"▸\";\n",
              "  float: left;\n",
              "  margin-right: 0.25em;\n",
              "  color: var(--sklearn-color-icon);\n",
              "}\n",
              "\n",
              "#sk-container-id-3 label.sk-toggleable__label-arrow:hover:before {\n",
              "  color: var(--sklearn-color-text);\n",
              "}\n",
              "\n",
              "/* Toggleable content - dropdown */\n",
              "\n",
              "#sk-container-id-3 div.sk-toggleable__content {\n",
              "  max-height: 0;\n",
              "  max-width: 0;\n",
              "  overflow: hidden;\n",
              "  text-align: left;\n",
              "  /* unfitted */\n",
              "  background-color: var(--sklearn-color-unfitted-level-0);\n",
              "}\n",
              "\n",
              "#sk-container-id-3 div.sk-toggleable__content.fitted {\n",
              "  /* fitted */\n",
              "  background-color: var(--sklearn-color-fitted-level-0);\n",
              "}\n",
              "\n",
              "#sk-container-id-3 div.sk-toggleable__content pre {\n",
              "  margin: 0.2em;\n",
              "  border-radius: 0.25em;\n",
              "  color: var(--sklearn-color-text);\n",
              "  /* unfitted */\n",
              "  background-color: var(--sklearn-color-unfitted-level-0);\n",
              "}\n",
              "\n",
              "#sk-container-id-3 div.sk-toggleable__content.fitted pre {\n",
              "  /* unfitted */\n",
              "  background-color: var(--sklearn-color-fitted-level-0);\n",
              "}\n",
              "\n",
              "#sk-container-id-3 input.sk-toggleable__control:checked~div.sk-toggleable__content {\n",
              "  /* Expand drop-down */\n",
              "  max-height: 200px;\n",
              "  max-width: 100%;\n",
              "  overflow: auto;\n",
              "}\n",
              "\n",
              "#sk-container-id-3 input.sk-toggleable__control:checked~label.sk-toggleable__label-arrow:before {\n",
              "  content: \"▾\";\n",
              "}\n",
              "\n",
              "/* Pipeline/ColumnTransformer-specific style */\n",
              "\n",
              "#sk-container-id-3 div.sk-label input.sk-toggleable__control:checked~label.sk-toggleable__label {\n",
              "  color: var(--sklearn-color-text);\n",
              "  background-color: var(--sklearn-color-unfitted-level-2);\n",
              "}\n",
              "\n",
              "#sk-container-id-3 div.sk-label.fitted input.sk-toggleable__control:checked~label.sk-toggleable__label {\n",
              "  background-color: var(--sklearn-color-fitted-level-2);\n",
              "}\n",
              "\n",
              "/* Estimator-specific style */\n",
              "\n",
              "/* Colorize estimator box */\n",
              "#sk-container-id-3 div.sk-estimator input.sk-toggleable__control:checked~label.sk-toggleable__label {\n",
              "  /* unfitted */\n",
              "  background-color: var(--sklearn-color-unfitted-level-2);\n",
              "}\n",
              "\n",
              "#sk-container-id-3 div.sk-estimator.fitted input.sk-toggleable__control:checked~label.sk-toggleable__label {\n",
              "  /* fitted */\n",
              "  background-color: var(--sklearn-color-fitted-level-2);\n",
              "}\n",
              "\n",
              "#sk-container-id-3 div.sk-label label.sk-toggleable__label,\n",
              "#sk-container-id-3 div.sk-label label {\n",
              "  /* The background is the default theme color */\n",
              "  color: var(--sklearn-color-text-on-default-background);\n",
              "}\n",
              "\n",
              "/* On hover, darken the color of the background */\n",
              "#sk-container-id-3 div.sk-label:hover label.sk-toggleable__label {\n",
              "  color: var(--sklearn-color-text);\n",
              "  background-color: var(--sklearn-color-unfitted-level-2);\n",
              "}\n",
              "\n",
              "/* Label box, darken color on hover, fitted */\n",
              "#sk-container-id-3 div.sk-label.fitted:hover label.sk-toggleable__label.fitted {\n",
              "  color: var(--sklearn-color-text);\n",
              "  background-color: var(--sklearn-color-fitted-level-2);\n",
              "}\n",
              "\n",
              "/* Estimator label */\n",
              "\n",
              "#sk-container-id-3 div.sk-label label {\n",
              "  font-family: monospace;\n",
              "  font-weight: bold;\n",
              "  display: inline-block;\n",
              "  line-height: 1.2em;\n",
              "}\n",
              "\n",
              "#sk-container-id-3 div.sk-label-container {\n",
              "  text-align: center;\n",
              "}\n",
              "\n",
              "/* Estimator-specific */\n",
              "#sk-container-id-3 div.sk-estimator {\n",
              "  font-family: monospace;\n",
              "  border: 1px dotted var(--sklearn-color-border-box);\n",
              "  border-radius: 0.25em;\n",
              "  box-sizing: border-box;\n",
              "  margin-bottom: 0.5em;\n",
              "  /* unfitted */\n",
              "  background-color: var(--sklearn-color-unfitted-level-0);\n",
              "}\n",
              "\n",
              "#sk-container-id-3 div.sk-estimator.fitted {\n",
              "  /* fitted */\n",
              "  background-color: var(--sklearn-color-fitted-level-0);\n",
              "}\n",
              "\n",
              "/* on hover */\n",
              "#sk-container-id-3 div.sk-estimator:hover {\n",
              "  /* unfitted */\n",
              "  background-color: var(--sklearn-color-unfitted-level-2);\n",
              "}\n",
              "\n",
              "#sk-container-id-3 div.sk-estimator.fitted:hover {\n",
              "  /* fitted */\n",
              "  background-color: var(--sklearn-color-fitted-level-2);\n",
              "}\n",
              "\n",
              "/* Specification for estimator info (e.g. \"i\" and \"?\") */\n",
              "\n",
              "/* Common style for \"i\" and \"?\" */\n",
              "\n",
              ".sk-estimator-doc-link,\n",
              "a:link.sk-estimator-doc-link,\n",
              "a:visited.sk-estimator-doc-link {\n",
              "  float: right;\n",
              "  font-size: smaller;\n",
              "  line-height: 1em;\n",
              "  font-family: monospace;\n",
              "  background-color: var(--sklearn-color-background);\n",
              "  border-radius: 1em;\n",
              "  height: 1em;\n",
              "  width: 1em;\n",
              "  text-decoration: none !important;\n",
              "  margin-left: 1ex;\n",
              "  /* unfitted */\n",
              "  border: var(--sklearn-color-unfitted-level-1) 1pt solid;\n",
              "  color: var(--sklearn-color-unfitted-level-1);\n",
              "}\n",
              "\n",
              ".sk-estimator-doc-link.fitted,\n",
              "a:link.sk-estimator-doc-link.fitted,\n",
              "a:visited.sk-estimator-doc-link.fitted {\n",
              "  /* fitted */\n",
              "  border: var(--sklearn-color-fitted-level-1) 1pt solid;\n",
              "  color: var(--sklearn-color-fitted-level-1);\n",
              "}\n",
              "\n",
              "/* On hover */\n",
              "div.sk-estimator:hover .sk-estimator-doc-link:hover,\n",
              ".sk-estimator-doc-link:hover,\n",
              "div.sk-label-container:hover .sk-estimator-doc-link:hover,\n",
              ".sk-estimator-doc-link:hover {\n",
              "  /* unfitted */\n",
              "  background-color: var(--sklearn-color-unfitted-level-3);\n",
              "  color: var(--sklearn-color-background);\n",
              "  text-decoration: none;\n",
              "}\n",
              "\n",
              "div.sk-estimator.fitted:hover .sk-estimator-doc-link.fitted:hover,\n",
              ".sk-estimator-doc-link.fitted:hover,\n",
              "div.sk-label-container:hover .sk-estimator-doc-link.fitted:hover,\n",
              ".sk-estimator-doc-link.fitted:hover {\n",
              "  /* fitted */\n",
              "  background-color: var(--sklearn-color-fitted-level-3);\n",
              "  color: var(--sklearn-color-background);\n",
              "  text-decoration: none;\n",
              "}\n",
              "\n",
              "/* Span, style for the box shown on hovering the info icon */\n",
              ".sk-estimator-doc-link span {\n",
              "  display: none;\n",
              "  z-index: 9999;\n",
              "  position: relative;\n",
              "  font-weight: normal;\n",
              "  right: .2ex;\n",
              "  padding: .5ex;\n",
              "  margin: .5ex;\n",
              "  width: min-content;\n",
              "  min-width: 20ex;\n",
              "  max-width: 50ex;\n",
              "  color: var(--sklearn-color-text);\n",
              "  box-shadow: 2pt 2pt 4pt #999;\n",
              "  /* unfitted */\n",
              "  background: var(--sklearn-color-unfitted-level-0);\n",
              "  border: .5pt solid var(--sklearn-color-unfitted-level-3);\n",
              "}\n",
              "\n",
              ".sk-estimator-doc-link.fitted span {\n",
              "  /* fitted */\n",
              "  background: var(--sklearn-color-fitted-level-0);\n",
              "  border: var(--sklearn-color-fitted-level-3);\n",
              "}\n",
              "\n",
              ".sk-estimator-doc-link:hover span {\n",
              "  display: block;\n",
              "}\n",
              "\n",
              "/* \"?\"-specific style due to the `<a>` HTML tag */\n",
              "\n",
              "#sk-container-id-3 a.estimator_doc_link {\n",
              "  float: right;\n",
              "  font-size: 1rem;\n",
              "  line-height: 1em;\n",
              "  font-family: monospace;\n",
              "  background-color: var(--sklearn-color-background);\n",
              "  border-radius: 1rem;\n",
              "  height: 1rem;\n",
              "  width: 1rem;\n",
              "  text-decoration: none;\n",
              "  /* unfitted */\n",
              "  color: var(--sklearn-color-unfitted-level-1);\n",
              "  border: var(--sklearn-color-unfitted-level-1) 1pt solid;\n",
              "}\n",
              "\n",
              "#sk-container-id-3 a.estimator_doc_link.fitted {\n",
              "  /* fitted */\n",
              "  border: var(--sklearn-color-fitted-level-1) 1pt solid;\n",
              "  color: var(--sklearn-color-fitted-level-1);\n",
              "}\n",
              "\n",
              "/* On hover */\n",
              "#sk-container-id-3 a.estimator_doc_link:hover {\n",
              "  /* unfitted */\n",
              "  background-color: var(--sklearn-color-unfitted-level-3);\n",
              "  color: var(--sklearn-color-background);\n",
              "  text-decoration: none;\n",
              "}\n",
              "\n",
              "#sk-container-id-3 a.estimator_doc_link.fitted:hover {\n",
              "  /* fitted */\n",
              "  background-color: var(--sklearn-color-fitted-level-3);\n",
              "}\n",
              "</style><div id=\"sk-container-id-3\" class=\"sk-top-container\"><div class=\"sk-text-repr-fallback\"><pre>SGDRegressor(max_iter=10000, random_state=42)</pre><b>In a Jupyter environment, please rerun this cell to show the HTML representation or trust the notebook. <br />On GitHub, the HTML representation is unable to render, please try loading this page with nbviewer.org.</b></div><div class=\"sk-container\" hidden><div class=\"sk-item\"><div class=\"sk-estimator fitted sk-toggleable\"><input class=\"sk-toggleable__control sk-hidden--visually\" id=\"sk-estimator-id-3\" type=\"checkbox\" checked><label for=\"sk-estimator-id-3\" class=\"sk-toggleable__label fitted sk-toggleable__label-arrow fitted\">&nbsp;&nbsp;SGDRegressor<a class=\"sk-estimator-doc-link fitted\" rel=\"noreferrer\" target=\"_blank\" href=\"https://scikit-learn.org/1.5/modules/generated/sklearn.linear_model.SGDRegressor.html\">?<span>Documentation for SGDRegressor</span></a><span class=\"sk-estimator-doc-link fitted\">i<span>Fitted</span></span></label><div class=\"sk-toggleable__content fitted\"><pre>SGDRegressor(max_iter=10000, random_state=42)</pre></div> </div></div></div></div>"
            ]
          },
          "metadata": {},
          "execution_count": 34
        }
      ],
      "source": [
        "## Add your code here.\n",
        "gradient_descent_model.fit(X_train_scaled, y_train.ravel())"
      ]
    },
    {
      "cell_type": "markdown",
      "id": "20021645-183f-4689-abcc-236d44d3cd58",
      "metadata": {
        "id": "20021645-183f-4689-abcc-236d44d3cd58"
      },
      "source": [
        "Get the parameters (w values)."
      ]
    },
    {
      "cell_type": "code",
      "execution_count": 35,
      "id": "2003563e-b909-4d2c-9f5e-bb6324c5815f",
      "metadata": {
        "id": "2003563e-b909-4d2c-9f5e-bb6324c5815f"
      },
      "outputs": [],
      "source": [
        "## Add your code here\n",
        "gradient_descent_w_0 = gradient_descent_model.intercept_\n",
        "gradient_descent_w_1 = gradient_descent_model.coef_"
      ]
    },
    {
      "cell_type": "markdown",
      "id": "8d0bcc87-ee88-4077-b751-0c10df56f5d9",
      "metadata": {
        "id": "8d0bcc87-ee88-4077-b751-0c10df56f5d9"
      },
      "source": [
        "Print the parameters."
      ]
    },
    {
      "cell_type": "code",
      "execution_count": 36,
      "id": "beedc48f-cd5f-4f69-9e9c-8d590f6ce9c7",
      "metadata": {
        "colab": {
          "base_uri": "https://localhost:8080/"
        },
        "id": "beedc48f-cd5f-4f69-9e9c-8d590f6ce9c7",
        "outputId": "9355f634-7f98-4c2d-d293-9a5a99d46801"
      },
      "outputs": [
        {
          "output_type": "stream",
          "name": "stdout",
          "text": [
            "SGD Intercept (w_0): [4.8594441]\n",
            "SGD Coefficient (w_1): [4.632398]\n"
          ]
        }
      ],
      "source": [
        "## Add your code here\n",
        "print(\"SGD Intercept (w_0): {}\".format(gradient_descent_w_0))\n",
        "print(\"SGD Coefficient (w_1): {}\".format(gradient_descent_w_1))"
      ]
    },
    {
      "cell_type": "markdown",
      "id": "cd351bb0-c39a-412d-8380-bc30bd11e93d",
      "metadata": {
        "id": "cd351bb0-c39a-412d-8380-bc30bd11e93d"
      },
      "source": [
        "What do you notice? Do you they look close to the ones that were estimated by the Linear Equation and GD using standardized features?"
      ]
    },
    {
      "cell_type": "markdown",
      "id": "46d4374b-b143-4fce-91e2-fcb7e86ad855",
      "metadata": {
        "id": "46d4374b-b143-4fce-91e2-fcb7e86ad855"
      },
      "source": [
        "Retrieve the min and max of the original training data."
      ]
    },
    {
      "cell_type": "code",
      "execution_count": 37,
      "id": "d03e250a-5116-4ba7-9fb2-7d778322c8a9",
      "metadata": {
        "id": "d03e250a-5116-4ba7-9fb2-7d778322c8a9"
      },
      "outputs": [],
      "source": [
        "## Add your code here\n",
        "data_min = scaler.data_min_\n",
        "data_max = scaler.data_max_\n",
        "data_range = data_max - data_min"
      ]
    },
    {
      "cell_type": "markdown",
      "id": "ec903314-095d-4d7f-a384-4f4f34440026",
      "metadata": {
        "id": "ec903314-095d-4d7f-a384-4f4f34440026"
      },
      "source": [
        "Adjust the coefficients."
      ]
    },
    {
      "cell_type": "code",
      "execution_count": 38,
      "id": "9910fd6c-2ca7-4f32-9b5b-e4a6438a70dd",
      "metadata": {
        "id": "9910fd6c-2ca7-4f32-9b5b-e4a6438a70dd"
      },
      "outputs": [],
      "source": [
        "## Add your code here\n",
        "adjusted_w_0 = gradient_descent_w_0 - (gradient_descent_w_1 * data_min / data_range)\n",
        "adjusted_w_1 = gradient_descent_w_1 / data_range"
      ]
    },
    {
      "cell_type": "markdown",
      "id": "70d6326c-1b93-4375-bab8-12385ff971ea",
      "metadata": {
        "id": "70d6326c-1b93-4375-bab8-12385ff971ea"
      },
      "source": [
        "Print the adjusted coefficients."
      ]
    },
    {
      "cell_type": "code",
      "execution_count": 39,
      "id": "10a1599f-e156-46a4-ac28-e77c1aa0be94",
      "metadata": {
        "colab": {
          "base_uri": "https://localhost:8080/"
        },
        "id": "10a1599f-e156-46a4-ac28-e77c1aa0be94",
        "outputId": "6fd24afa-3c30-4ec8-8b10-73ce3592d47d"
      },
      "outputs": [
        {
          "output_type": "stream",
          "name": "stdout",
          "text": [
            "Adjusted w_0: [4.83733188]\n",
            "Adjusted w_1: [2.35463043]\n"
          ]
        }
      ],
      "source": [
        "## Add your code here\n",
        "print('Adjusted w_0: {}'.format(adjusted_w_0))\n",
        "print('Adjusted w_1: {}'.format(adjusted_w_1))"
      ]
    },
    {
      "cell_type": "markdown",
      "id": "35726f2a-d63b-437a-9c0a-0268c9c6454a",
      "metadata": {
        "id": "35726f2a-d63b-437a-9c0a-0268c9c6454a"
      },
      "source": [
        "Let's predict the values of the samples in the test set."
      ]
    },
    {
      "cell_type": "code",
      "execution_count": 40,
      "id": "758fb5df-3693-4ba3-96e1-9e4d29494308",
      "metadata": {
        "id": "758fb5df-3693-4ba3-96e1-9e4d29494308"
      },
      "outputs": [],
      "source": [
        "## Add your code here\n",
        "y_pred_gradient_descent = gradient_descent_model.predict(X_test_scaled)"
      ]
    },
    {
      "cell_type": "markdown",
      "id": "2b2166c4-448b-4549-a6c0-4e11b238d6d5",
      "metadata": {
        "id": "2b2166c4-448b-4549-a6c0-4e11b238d6d5"
      },
      "source": [
        "Calculate Mean Squared Error and R-squared for Gradient Descent."
      ]
    },
    {
      "cell_type": "code",
      "execution_count": 41,
      "id": "7aec0f08-4d92-45d7-9cbf-1ea941a9ce76",
      "metadata": {
        "id": "7aec0f08-4d92-45d7-9cbf-1ea941a9ce76"
      },
      "outputs": [],
      "source": [
        "## Add your code here\n",
        "rmse_gradient_descent = root_mean_squared_error(y_test, y_pred_gradient_descent)\n",
        "r2_gradient_descent = r2_score(y_test, y_pred_gradient_descent)"
      ]
    },
    {
      "cell_type": "markdown",
      "id": "4d3c59c8-d7b6-4010-a61c-2efb1762bcf2",
      "metadata": {
        "id": "4d3c59c8-d7b6-4010-a61c-2efb1762bcf2"
      },
      "source": [
        "Print the evaluation metrics."
      ]
    },
    {
      "cell_type": "code",
      "execution_count": 42,
      "id": "50364cd3-57dd-4883-96f9-bff796aef257",
      "metadata": {
        "colab": {
          "base_uri": "https://localhost:8080/"
        },
        "id": "50364cd3-57dd-4883-96f9-bff796aef257",
        "outputId": "692248f9-58ca-4f0b-d8ed-23edf52df5d8"
      },
      "outputs": [
        {
          "output_type": "stream",
          "name": "stdout",
          "text": [
            "The RMSE is: 0.9807345779430834\n",
            "The R2 value is 0.6354040735646658\n"
          ]
        }
      ],
      "source": [
        "## Add your code here\n",
        "print('The RMSE is: {}'.format(rmse_gradient_descent))\n",
        "print('The R2 value is {}'.format(r2_gradient_descent))"
      ]
    },
    {
      "cell_type": "markdown",
      "id": "03a43ba8-4ac7-456b-9852-2e10c180d57a",
      "metadata": {
        "id": "03a43ba8-4ac7-456b-9852-2e10c180d57a"
      },
      "source": [
        "Plot the original data points and the best-fit line."
      ]
    },
    {
      "cell_type": "code",
      "execution_count": 43,
      "id": "99405592-3c36-4367-9d09-da18a40b82e2",
      "metadata": {
        "colab": {
          "base_uri": "https://localhost:8080/",
          "height": 465
        },
        "id": "99405592-3c36-4367-9d09-da18a40b82e2",
        "outputId": "11687eef-09d0-45fe-b00e-afd082def66a"
      },
      "outputs": [
        {
          "output_type": "display_data",
          "data": {
            "text/plain": [
              "<Figure size 800x500 with 1 Axes>"
            ],
            "image/png": "[encoded data removed]"
          },
          "metadata": {}
        }
      ],
      "source": [
        "## Add your code here\n",
        "\n",
        "plt.figure(figsize=(8, 5))\n",
        "\n",
        "plt.scatter(X, y, color='blue', label='Actual data')  # scatter plot of actual values\n",
        "plt.plot(X_test, y_pred_gradient_descent, color='green', label='GD Best-fit line')  # best fit line from gradient descent\n",
        "plt.xlabel('Size (m2)')\n",
        "plt.ylabel('Price ($100,000)')\n",
        "\n",
        "ax = plt.gca()\n",
        "ax.spines['top'].set_visible(False)\n",
        "ax.spines['right'].set_visible(False)\n",
        "\n",
        "plt.legend()\n",
        "plt.show()"
      ]
    },
    {
      "cell_type": "markdown",
      "id": "d70c1642-e388-49c0-a325-503bc4cfc9e2",
      "metadata": {
        "id": "d70c1642-e388-49c0-a325-503bc4cfc9e2"
      },
      "source": [
        "Plot both the original data and both regression lines (Gradient Descent and closed-form)."
      ]
    },
    {
      "cell_type": "code",
      "execution_count": 44,
      "id": "524e3f0b-7435-4e32-83ba-0791766ebbb2",
      "metadata": {
        "colab": {
          "base_uri": "https://localhost:8080/",
          "height": 465
        },
        "id": "524e3f0b-7435-4e32-83ba-0791766ebbb2",
        "outputId": "373708cd-008d-4211-9949-f7232906afc9"
      },
      "outputs": [
        {
          "output_type": "display_data",
          "data": {
            "text/plain": [
              "<Figure size 800x500 with 1 Axes>"
            ],
            "image/png": "[encoded data removed]"
          },
          "metadata": {}
        }
      ],
      "source": [
        "## Add your code here\n",
        "plt.figure(figsize=(8, 5))\n",
        "\n",
        "plt.scatter(X, y, color='blue', label='Actual data')  # scatter plot of actual values\n",
        "plt.plot(X_test, y_pred_gradient_descent, color='green', label='GD Best-fit line')  # best-fit line from gradient descent\n",
        "plt.plot(X_test, y_pred, color='red', label='Closed-form Best-fit line')  # Best-fit line from closed-form\n",
        "\n",
        "plt.xlabel('Size (m2)')\n",
        "plt.ylabel('Price ($100,000)')\n",
        "plt.legend()\n",
        "\n",
        "ax = plt.gca()\n",
        "ax.spines['top'].set_visible(False)\n",
        "ax.spines['right'].set_visible(False)\n",
        "\n",
        "plt.show()"
      ]
    },
    {
      "cell_type": "markdown",
      "id": "61870cea-8362-45ec-a9f5-94117115c998",
      "metadata": {
        "id": "61870cea-8362-45ec-a9f5-94117115c998"
      },
      "source": [
        "### Plotting the Cost Function $J(w_0, w_1)$ Against Number of Iterations"
      ]
    },
    {
      "cell_type": "code",
      "execution_count": 45,
      "id": "f75491b7-f842-434e-9209-06fdbcb69e6e",
      "metadata": {
        "id": "f75491b7-f842-434e-9209-06fdbcb69e6e"
      },
      "outputs": [],
      "source": [
        "scaler = StandardScaler()\n",
        "X_train_scaled = scaler.fit_transform(X_train)\n",
        "X_test_scaled = scaler.transform(X_test)"
      ]
    },
    {
      "cell_type": "code",
      "execution_count": 46,
      "id": "b021645e-05e8-4f83-8277-3389e5f7d599",
      "metadata": {
        "id": "b021645e-05e8-4f83-8277-3389e5f7d599"
      },
      "outputs": [],
      "source": [
        "gradient_descent_model = SGDRegressor(max_iter=10000, eta0=100, random_state=42)"
      ]
    },
    {
      "cell_type": "code",
      "execution_count": 47,
      "id": "0e3ba624-97e5-4cd7-a31d-39b1f15622e8",
      "metadata": {
        "colab": {
          "base_uri": "https://localhost:8080/"
        },
        "id": "0e3ba624-97e5-4cd7-a31d-39b1f15622e8",
        "outputId": "19a1e18d-46c1-4ec5-f8c4-1addd25bad50"
      },
      "outputs": [
        {
          "output_type": "stream",
          "name": "stdout",
          "text": [
            "Iteration 0: Cost = 1.3420169086335287e+27\n",
            "Iteration 5: Cost = 2.8668916550155968e+26\n",
            "Iteration 10: Cost = 2.583693683542582e+26\n",
            "Iteration 15: Cost = 1.49772386555771e+25\n",
            "Iteration 20: Cost = 5.621894357994325e+26\n",
            "Iteration 25: Cost = 4.0861231774517164e+26\n",
            "Iteration 30: Cost = 4.8106831955418894e+26\n",
            "Iteration 35: Cost = 3.333723597862042e+26\n",
            "Iteration 40: Cost = 3.5537311123599007e+26\n",
            "Iteration 45: Cost = 1.829313055879054e+26\n",
            "Iteration 50: Cost = 9.653189200698961e+25\n",
            "Iteration 55: Cost = 1.0637878913402922e+25\n",
            "Iteration 60: Cost = 7.326696296368794e+25\n",
            "Iteration 65: Cost = 4.1562176917226805e+25\n",
            "Iteration 70: Cost = 5.610668505679358e+25\n",
            "Iteration 75: Cost = 7.419569438682141e+25\n",
            "Iteration 80: Cost = 2.3914628610487366e+26\n",
            "Iteration 85: Cost = 2.1583129046109853e+26\n",
            "Iteration 90: Cost = 2.252134549125756e+25\n",
            "Iteration 95: Cost = 3.5846436730217842e+25\n"
          ]
        }
      ],
      "source": [
        "costs = [] # list to store the cost function\n",
        "\n",
        "n_iterations = 100  # limit to 100 iterations\n",
        "check_interval = 5  # check cost every 5 iterations\n",
        "\n",
        "for iteration in range(n_iterations):\n",
        "    gradient_descent_model.partial_fit(X_train_scaled, y_train.ravel())\n",
        "\n",
        "    if iteration % check_interval == 0:\n",
        "        y_train_pred = gradient_descent_model.predict(X_train_scaled) # predict on training data\n",
        "\n",
        "        cost = mean_squared_error(y_train, y_train_pred) # calculate the cost (mean squared error)\n",
        "        costs.append(cost)\n",
        "        print(\"Iteration {}: Cost = {}\".format(iteration, cost))"
      ]
    },
    {
      "cell_type": "markdown",
      "id": "2fd0ca75-754f-4cf4-8532-5dcf49462ad2",
      "metadata": {
        "id": "2fd0ca75-754f-4cf4-8532-5dcf49462ad2"
      },
      "source": [
        "Plot the cost function over iterations"
      ]
    },
    {
      "cell_type": "code",
      "execution_count": 48,
      "id": "8c9208c0-1491-4c72-ad14-d51a63457561",
      "metadata": {
        "colab": {
          "base_uri": "https://localhost:8080/",
          "height": 711
        },
        "id": "8c9208c0-1491-4c72-ad14-d51a63457561",
        "outputId": "7b969d1d-4ffb-4b3d-ecc5-97789461d4d8"
      },
      "outputs": [
        {
          "output_type": "display_data",
          "data": {
            "text/plain": [
              "<Figure size 1000x800 with 1 Axes>"
            ],
            "image/png": "[encoded data removed]"
          },
          "metadata": {}
        }
      ],
      "source": [
        "plt.figure(figsize=(10, 8))\n",
        "\n",
        "plt.plot(range(0, n_iterations, check_interval), costs, color='blue')\n",
        "plt.xlabel('Iterations')\n",
        "plt.ylabel('Cost (Mean Squared Error)')\n",
        "\n",
        "ax = plt.gca()\n",
        "ax.spines['top'].set_visible(False)\n",
        "ax.spines['right'].set_visible(False)\n",
        "\n",
        "plt.show()"
      ]
    }
  ],
  "metadata": {
    "kernelspec": {
      "display_name": "Python 3 (ipykernel)",
      "language": "python",
      "name": "python3"
    },
    "language_info": {
      "codemirror_mode": {
        "name": "ipython",
        "version": 3
      },
      "file_extension": ".py",
      "mimetype": "text/x-python",
      "name": "python",
      "nbconvert_exporter": "python",
      "pygments_lexer": "ipython3",
      "version": "3.12.5"
    },
    "colab": {
      "provenance": []
    }
  },
  "nbformat": 4,
  "nbformat_minor": 5
}